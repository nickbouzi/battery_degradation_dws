{
  "nbformat": 4,
  "nbformat_minor": 0,
  "metadata": {
    "colab": {
      "provenance": []
    },
    "kernelspec": {
      "name": "python3",
      "display_name": "Python 3"
    },
    "language_info": {
      "name": "python"
    }
  },
  "cells": [
    {
      "cell_type": "code",
      "execution_count": 1,
      "metadata": {
        "id": "k_Ut7_1e-djR"
      },
      "outputs": [],
      "source": [
        "import pandas as pd\n",
        "import matplotlib.pyplot as plt\n",
        "import numpy as np\n",
        "import seaborn as sns\n",
        "import os, random,sys, json,zipfile, time\n",
        "from copy import deepcopy\n",
        "import plotly.graph_objects as go\n",
        "import math\n",
        "from scipy.stats import spearmanr\n",
        "import plotly.express as px\n",
        "from scipy.optimize import minimize\n",
        "from copy import deepcopy\n",
        "import plotly.express as px\n",
        "from scipy.stats import gaussian_kde\n",
        "import collections,random\n",
        "from scipy.spatial import distance\n",
        "from sklearn.linear_model import ElasticNet\n",
        "from sklearn.ensemble import RandomForestRegressor\n",
        "from sklearn.model_selection import GridSearchCV\n",
        "from sklearn.metrics import mean_absolute_error, mean_squared_error"
      ]
    },
    {
      "cell_type": "code",
      "source": [
        "#------------ Functions for prepocessing -----------------#\n",
        "def convert_values_tol_log_scale(df_data):\n",
        "  # lista_log = ['var', 'iqr', 'idr', 'min', 'mean', 'skew', 'kurt', 'mean_cubic','range','cycles']\n",
        "  lista_log = ['var_DQ_100_10', 'IQR_DQ_100_10', 'IDR_DQ_100_10', 'min_DQ_100_10', 'maxDQ_100_10', 'mean_DQ_100_10', 'skew_100_10', 'kurt_100_10', 'mean_cub_DQ_100_10', 'voltage_295_100_10', 'range_100_10','cycles']\n",
        "  for el in lista_log:\n",
        "    if (df_data[el]<0).any():\n",
        "      df_data[f'{el}'] = df_data[el].apply(lambda x: np.log10(abs(x)))#df_data[f'{el}_log'] = df_data[el].apply(lambda x: np.log10(abs(x)))\n",
        "    else:\n",
        "      df_data[f'{el}'] = df_data[el].apply(lambda x: np.log10(x))#df_data[f'{el}_log'] = df_data[el].apply(lambda x: np.log10(x))\n",
        "  return df_data\n",
        "def convert_from_log_to_normal(actual,preds):\n",
        "  pred_actual =  np.round(10**preds,decimals=0)\n",
        "  values_actual = np.round(10**actual,decimals=0)\n",
        "  return values_actual,pred_actual\n",
        "# ------------------------------------ WSMOTE algorithms --------------------------#\n",
        "def apply_denseweight(Y): # ΣΑΝ ΝΑ ΚΑΝΕΙΣ LABEL FOR IMBALANCED DATA DEMSITY ESTIMATION\n",
        "  \"\"\"\n",
        "    Compute rarity weights based on kernel density estimation (KDE).\n",
        "  \"\"\"\n",
        "  kde = gaussian_kde(Y) # This is occured for all the variable\n",
        "  density = kde(Y)\n",
        "  rarity = 1/density\n",
        "  weights = rarity/rarity.sum()\n",
        "  weights_with_targets = [[inda,int(y),float(w)] for inda,(y,w) in enumerate(zip(Y,weights))]\n",
        "  return weights_with_targets\n",
        "\n",
        "def find_k_neighbours_from_the_target_values(X,Y,K_SHFT,selected_index,med_val,mixed_list,sorted_mixed_list):\n",
        "  \"\"\"\n",
        "    Find the second seed for the SMOTER algorithm based on the K parameter\n",
        "  \"\"\"\n",
        "  until_value, second_seed_index =0, -1000\n",
        "  # for tracking reason is more prefereable to sort the weights, index, taget value list\n",
        "  X_first_seed,Y_first_seed = X[selected_index],Y[selected_index] #\n",
        "  sorted_first_seed_index = next((i for i, x in enumerate(sorted_mixed_list) if x[0] == selected_index), None)\n",
        "  if med_val>=Y_first_seed:\n",
        "    until_value = sorted_first_seed_index + K_SHFT+1\n",
        "    selected_target_neighbors = sorted_mixed_list[sorted_first_seed_index+1:until_value] # go rightwards\n",
        "  elif med_val< Y_first_seed:\n",
        "    until_value = sorted_first_seed_index-(K_SHFT+1)\n",
        "    selected_target_neighbors = sorted_mixed_list[sorted_first_seed_index-1:until_value:-1] # go leftwards\n",
        "  random_neighbor_index = np.random.choice(len(selected_target_neighbors))\n",
        "  second_instance_sorted = selected_target_neighbors[random_neighbor_index]\n",
        "  return X[second_instance_sorted[0]],second_instance_sorted[1]\n",
        "\n",
        "def cosine_similarity(a, b):\n",
        "    \"\"\"\n",
        "      Computes cosine similarity\n",
        "    \"\"\"\n",
        "    dot_product = np.dot(a, b)\n",
        "    norm_a = np.linalg.norm(a)\n",
        "    norm_b = np.linalg.norm(b)\n",
        "    return dot_product / (norm_a * norm_b)\n",
        "def generate_synthetic_samples(feature1,feature2,y1,y2,median_value,inv_cov):\n",
        "  '''\n",
        "  Function that generates synthetic data based on the Smote Regression Logic!\n",
        "  Uses cosine similairy due to the dimensionality curse!\n",
        "  '''\n",
        "  lambda_variable = round(random.random(),4)\n",
        "  gen_point = feature1 + lambda_variable*(feature2-feature1)\n",
        "  # Apply euclidean distance to ensure that tha\n",
        "  # distance_1,distance_2 = np.linalg.norm(gen_point - feature1)/np.sqrt(len(feature1)),np.linalg.norm(gen_point - feature2)/np.sqrt(len(feature2)) # euclidean distance does not work well due to curse of dimensionality\n",
        "  # print(distance_1,distance_2)\n",
        "  #------------------------- distance mahalombis-------------------------------------#\n",
        "  # print(gen_point.shape,feature1.shape,feature2.shape,inv_cov1.shape,inv_cov2.shape,np.cov(np.vstack([feature1, gen_point])).shape,np.vstack([feature1, gen_point].shape))\n",
        "  # sys.exit()\n",
        "  # print(np.linalg.inv(np.cov(np.vstack([feature1, gen_point]), rowvar=False)).shape,np.linalg.inv(np.cov(np.vstack([feature2, gen_point]), rowvar=False)).shape)\n",
        "  # inv_cov1,inv_cov2 = np.linalg.inv(np.cov(np.vstack([feature1, gen_point]), rowvar=False)),np.linalg.inv(np.cov(np.vstack([feature2, gen_point]), rowvar=False))\n",
        "  # distance_1,distance_2 = distance.mahalanobis(gen_point, feature1, inv_cov1),distance.mahalanobis(gen_point, feature2, inv_cov2)\n",
        "  # print(distance_1,distance_2)\n",
        "  # weight_1,weight_2 = 1/distance_1,1/distance_2\n",
        "  #----- cosine similarity\n",
        "  cos_weight_1,cos_weight_2 = cosine_similarity(gen_point, feature1),cosine_similarity(gen_point, feature2)\n",
        "  weight_1,weight_2 = cos_weight_1 /( cos_weight_1+cos_weight_2),cos_weight_2 /( cos_weight_1+cos_weight_2) # Normalize cosine\n",
        "  generated_y = int(weight_1*y1 + weight_2*y2)\n",
        "  return gen_point,generated_y\n",
        "\n",
        "def apply_WS_smoter(X_init,Y_init, N,K,median_value):\n",
        "  '''\n",
        "  Function which applies WS_Smoter.\n",
        "  '''\n",
        "  X_resampled,Y_resampled = X_init,Y_init\n",
        "  below_median_generated_points,above_median_generated_points = [],[]\n",
        "  dense_weights = apply_denseweight(Y=Y_init) # out of the for loop\n",
        "  sorted_dense_weights = sorted(dense_weights, key=lambda x: x[1]) # because that how i will select the neighbors\n",
        "  weights = [w for i,y,w in dense_weights]\n",
        "\n",
        "  while (len(below_median_generated_points)<N or len(above_median_generated_points)<N):\n",
        "    select_first_seed_index = np.random.choice(len(X_init),p= weights)\n",
        "    X_first_seed,Y_first_seed = X_init[select_first_seed_index],Y_init[select_first_seed_index]\n",
        "    # NSURE THAT DATA POINT ARE EQUALLY REPRESENTED ABOVE AND BELOW THE MEDIAN\n",
        "    if len(below_median_generated_points)==N and Y_first_seed<median_value :\n",
        "      while Y_first_seed<median_value:\n",
        "        select_first_seed_index = np.random.choice(len(X_init),p= weights,replace=True)\n",
        "        X_first_seed,Y_first_seed = X_init[select_first_seed_index],Y_init[select_first_seed_index]\n",
        "\n",
        "      # take value above the median so we ensure the balance\n",
        "    if len(above_median_generated_points) == N and Y_first_seed>median_value:\n",
        "      while Y_first_seed>median_value:\n",
        "        select_first_seed_index = np.random.choice(len(X_init),p= weights,replace=True)# do it with replacement and allow repeats.\n",
        "        X_first_seed,Y_first_seed = X_init[select_first_seed_index],Y_init[select_first_seed_index]\n",
        "    if Y_first_seed>median_value:\n",
        "      above_median_generated_points.append(Y_first_seed)\n",
        "    else:\n",
        "      below_median_generated_points.append(Y_first_seed)\n",
        "\n",
        "    X_second_seed,Y_second_seed = find_k_neighbours_from_the_target_values(X=X_init,Y=Y_init,K_SHFT=K,\n",
        "                                            selected_index=select_first_seed_index,\n",
        "                                            med_val=median_value,\n",
        "                                            mixed_list=dense_weights,\n",
        "                                            sorted_mixed_list=sorted_dense_weights)\n",
        "    X_gen_seed,Y_gen_seed = generate_synthetic_samples(feature1 =X_first_seed,feature2 =X_second_seed,\n",
        "                                                      y1= Y_first_seed,y2= Y_second_seed,\n",
        "                                                      median_value=median_value,\n",
        "                                                      inv_cov= np.linalg.inv(np.cov(X_init)))\n",
        "\n",
        "    X_resampled, Y_resampled= np.append(X_resampled, np.array([X_gen_seed]),axis=0),np.append(Y_resampled,np.array([Y_gen_seed]),axis=0)\n",
        "\n",
        "  return X_resampled,Y_resampled\n"
      ],
      "metadata": {
        "id": "wKkedkfA7QNB"
      },
      "execution_count": 6,
      "outputs": []
    },
    {
      "cell_type": "code",
      "source": [
        "WANTED_CYCLE = 100\n",
        "init_df = pd.read_csv(f'/content/drive/MyDrive/battery_degradation/f_data_{WANTED_CYCLE}_10.csv')\n",
        "init_df.drop(columns = {'Unnamed: 0'},inplace=True)\n",
        "init_df.columns"
      ],
      "metadata": {
        "id": "8eg53z1O7STv",
        "colab": {
          "base_uri": "https://localhost:8080/"
        },
        "outputId": "36e9b094-0fed-4786-dccd-d59fa3d173c9"
      },
      "execution_count": 7,
      "outputs": [
        {
          "output_type": "execute_result",
          "data": {
            "text/plain": [
              "Index(['var_DQ_100_10', 'IQR_DQ_100_10', 'IDR_DQ_100_10', 'min_DQ_100_10',\n",
              "       'maxDQ_100_10', 'mean_DQ_100_10', 'skew_100_10', 'kurt_100_10',\n",
              "       'mean_cub_DQ_100_10', 'voltage_295_100_10', 'range_100_10',\n",
              "       'average_charge_2_6', 'average_charge_2_WI', 'min_resistance_2_100',\n",
              "       'diff_resistance_2_100', 'temperature_integral', 'discharge_cycle_2',\n",
              "       'discharge_cycle_WI', 'slope_2_100', 'intercept_2_100', 'cycles',\n",
              "       'diff_disc_cap_2_max'],\n",
              "      dtype='object')"
            ]
          },
          "metadata": {},
          "execution_count": 7
        }
      ]
    },
    {
      "cell_type": "code",
      "source": [
        "var_ar =  init_df['var_DQ_100_10'].values\n",
        "cmap1 = plt.get_cmap('coolwarm')\n",
        "cycles_ar = init_df['cycles'].values\n",
        "\n",
        "colors_2_c = [cmap1(1-(x - min(cycles_ar)) / (max(cycles_ar) - min(cycles_ar))) for x in cycles_ar]\n",
        "plotly_colors = [f'rgba({int(color[0]*255)}, {int(color[1]*255)}, {int(color[2]*255)}, 1)' for color in colors_2_c]\n",
        "\n",
        "fig_2c_ex = go.Figure()\n",
        "fig_2c_ex.add_trace(go.Scatter(x=var_ar,\n",
        "                          y=cycles_ar,\n",
        "\n",
        "  mode='markers',marker=dict(size=22,color=plotly_colors,\n",
        "            opacity=1, )))\n",
        "fig_2c_ex.update_layout( yaxis = dict(type='log',title = 'Cycle life',range=[2,4]),\n",
        "                  xaxis=dict( range = [-8,-1], # define the range of x-axis range=[-0.002,0.]\n",
        "                            title='Var ΔQ100_10(V)',  # optional title\n",
        "                             type='log'\n",
        "                             ))\n",
        "fig_2c_ex.show()\n",
        "# CALCULATION OF PEARSON CORRELATION FOR LOG SCALE\n",
        "cycle_ar_log_scale = np.array([np.log10(c_l) for c_l in cycles_ar])\n",
        "var_ar_log_scale = np.array([np.log10(va) for va in var_ar])\n",
        "pear_2C = np.corrcoef(var_ar_log_scale,cycle_ar_log_scale)[0,1]\n",
        "print(f\" The pearson correlation is {pear_2C}\")"
      ],
      "metadata": {
        "id": "3pjFqzaw7V6v",
        "colab": {
          "base_uri": "https://localhost:8080/",
          "height": 559
        },
        "outputId": "55bb6444-1d87-4b1d-d066-c55d6bdbfbdb"
      },
      "execution_count": 8,
      "outputs": [
        {
          "output_type": "display_data",
          "data": {
            "text/html": [
              "<html>\n",
              "<head><meta charset=\"utf-8\" /></head>\n",
              "<body>\n",
              "    <div>            <script src=\"https://cdnjs.cloudflare.com/ajax/libs/mathjax/2.7.5/MathJax.js?config=TeX-AMS-MML_SVG\"></script><script type=\"text/javascript\">if (window.MathJax && window.MathJax.Hub && window.MathJax.Hub.Config) {window.MathJax.Hub.Config({SVG: {font: \"STIX-Web\"}});}</script>                <script type=\"text/javascript\">window.PlotlyConfig = {MathJaxConfig: 'local'};</script>\n",
              "        <script charset=\"utf-8\" src=\"https://cdn.plot.ly/plotly-2.35.2.min.js\"></script>                <div id=\"d0f481f1-9957-4a17-bf10-d489705da606\" class=\"plotly-graph-div\" style=\"height:525px; width:100%;\"></div>            <script type=\"text/javascript\">                                    window.PLOTLYENV=window.PLOTLYENV || {};                                    if (document.getElementById(\"d0f481f1-9957-4a17-bf10-d489705da606\")) {                    Plotly.newPlot(                        \"d0f481f1-9957-4a17-bf10-d489705da606\",                        [{\"marker\":{\"color\":[\"rgba(246, 169, 138, 1)\",\"rgba(211, 77, 64, 1)\",\"rgba(246, 170, 140, 1)\",\"rgba(219, 92, 74, 1)\",\"rgba(162, 192, 254, 1)\",\"rgba(212, 79, 66, 1)\",\"rgba(247, 179, 151, 1)\",\"rgba(214, 219, 228, 1)\",\"rgba(230, 114, 89, 1)\",\"rgba(230, 114, 89, 1)\",\"rgba(179, 3, 38, 1)\",\"rgba(230, 116, 90, 1)\",\"rgba(243, 150, 120, 1)\",\"rgba(246, 171, 141, 1)\",\"rgba(58, 76, 192, 1)\",\"rgba(214, 82, 67, 1)\",\"rgba(211, 77, 64, 1)\",\"rgba(214, 82, 67, 1)\",\"rgba(241, 144, 114, 1)\",\"rgba(238, 135, 106, 1)\",\"rgba(246, 189, 164, 1)\",\"rgba(246, 167, 137, 1)\",\"rgba(212, 79, 66, 1)\",\"rgba(220, 94, 75, 1)\",\"rgba(234, 123, 96, 1)\",\"rgba(122, 157, 248, 1)\",\"rgba(233, 121, 94, 1)\",\"rgba(211, 77, 64, 1)\",\"rgba(209, 73, 62, 1)\",\"rgba(243, 198, 176, 1)\",\"rgba(234, 211, 199, 1)\",\"rgba(216, 86, 70, 1)\",\"rgba(207, 70, 61, 1)\",\"rgba(241, 202, 182, 1)\",\"rgba(212, 79, 66, 1)\",\"rgba(242, 200, 179, 1)\",\"rgba(238, 135, 106, 1)\",\"rgba(247, 181, 152, 1)\",\"rgba(236, 210, 196, 1)\",\"rgba(240, 141, 111, 1)\",\"rgba(244, 194, 170, 1)\",\"rgba(240, 141, 111, 1)\",\"rgba(243, 197, 175, 1)\",\"rgba(217, 88, 71, 1)\",\"rgba(209, 73, 62, 1)\",\"rgba(242, 147, 117, 1)\",\"rgba(204, 63, 57, 1)\",\"rgba(212, 79, 66, 1)\",\"rgba(244, 196, 173, 1)\",\"rgba(246, 170, 140, 1)\",\"rgba(70, 93, 207, 1)\",\"rgba(244, 194, 170, 1)\",\"rgba(215, 84, 68, 1)\",\"rgba(245, 158, 127, 1)\",\"rgba(245, 161, 130, 1)\",\"rgba(245, 160, 129, 1)\",\"rgba(242, 199, 178, 1)\",\"rgba(205, 66, 58, 1)\",\"rgba(242, 199, 178, 1)\",\"rgba(148, 181, 254, 1)\",\"rgba(245, 160, 129, 1)\",\"rgba(232, 119, 93, 1)\",\"rgba(246, 187, 160, 1)\",\"rgba(126, 161, 249, 1)\",\"rgba(244, 155, 124, 1)\",\"rgba(228, 110, 86, 1)\",\"rgba(214, 82, 67, 1)\",\"rgba(215, 84, 68, 1)\",\"rgba(245, 192, 167, 1)\",\"rgba(246, 170, 140, 1)\",\"rgba(195, 213, 242, 1)\",\"rgba(235, 127, 99, 1)\",\"rgba(235, 211, 198, 1)\",\"rgba(223, 100, 79, 1)\",\"rgba(244, 154, 123, 1)\",\"rgba(246, 164, 134, 1)\",\"rgba(247, 181, 152, 1)\",\"rgba(210, 75, 63, 1)\",\"rgba(219, 92, 74, 1)\",\"rgba(235, 211, 198, 1)\",\"rgba(246, 167, 137, 1)\",\"rgba(211, 77, 64, 1)\",\"rgba(246, 166, 135, 1)\",\"rgba(209, 73, 62, 1)\",\"rgba(238, 207, 190, 1)\",\"rgba(241, 202, 182, 1)\",\"rgba(209, 73, 62, 1)\",\"rgba(245, 161, 130, 1)\",\"rgba(239, 137, 108, 1)\",\"rgba(204, 63, 57, 1)\",\"rgba(246, 167, 137, 1)\",\"rgba(209, 73, 62, 1)\",\"rgba(246, 167, 137, 1)\",\"rgba(245, 161, 130, 1)\",\"rgba(220, 94, 75, 1)\",\"rgba(244, 154, 123, 1)\",\"rgba(218, 90, 72, 1)\",\"rgba(209, 73, 62, 1)\",\"rgba(246, 182, 154, 1)\",\"rgba(212, 79, 66, 1)\",\"rgba(217, 88, 71, 1)\",\"rgba(219, 220, 222, 1)\",\"rgba(209, 73, 62, 1)\",\"rgba(215, 84, 68, 1)\",\"rgba(223, 100, 79, 1)\",\"rgba(240, 139, 109, 1)\",\"rgba(244, 154, 123, 1)\",\"rgba(215, 84, 68, 1)\",\"rgba(185, 22, 42, 1)\",\"rgba(246, 171, 141, 1)\",\"rgba(207, 70, 61, 1)\",\"rgba(240, 204, 185, 1)\",\"rgba(246, 169, 138, 1)\",\"rgba(238, 135, 106, 1)\",\"rgba(239, 137, 108, 1)\",\"rgba(108, 142, 241, 1)\",\"rgba(206, 68, 60, 1)\",\"rgba(216, 86, 70, 1)\",\"rgba(210, 75, 63, 1)\",\"rgba(245, 193, 168, 1)\",\"rgba(247, 178, 149, 1)\",\"rgba(131, 166, 251, 1)\"],\"opacity\":1,\"size\":22},\"mode\":\"markers\",\"x\":[0.0002551199106691,0.0004262533199111,0.0001696652344263,0.0005383344101772,0.00003421259625922551,0.0003586402239838,0.0001000776556534,0.00006529784614782511,0.000670131784286,0.0006523778281818,0.0036090261942944,0.0005646956957601,0.00037709991617,0.0003014459197359,0.00003072827001866165,0.0006408615719679,0.0006346952183255,0.0004148585868187,0.0002216545222525,0.0003820020074154,0.0001220097904366,0.0001617490661517,0.0012388639050327,0.0006867653752227,0.0003660030320521,0.000013166985819584313,0.0003725814929337,0.0004427974702929,0.000620878161153,0.0001171434165707,0.00008691547617177888,0.0005415618457069,0.0006026223608685,0.00007633142186103228,0.0005257461831965,0.00009068692760753768,0.0003010889678115,0.0001927991859167,0.000102428062402,0.0004021175068225,0.0001608563764865,0.0002497051523668,0.0001814697199675,0.0005688680152197,0.0005317636526893,0.0003785578104873,0.0007482616860838,0.0005163684762065,0.0001098798357107,0.0002851807932326,0.000016670040651974474,0.0002010694847762,0.0003283655449577,0.0001506347246938,0.0001277759215053,0.0002330769661579,0.000150864056696,0.0005823358784704,0.0001492904257791,0.000036176707279826266,0.000132954958998,0.0002976618815995,0.0001580638075387,0.00005572648466230889,0.00008457527531911605,0.0006631071840214,0.0003590229167606,0.0003263286329229,0.0001500080120277,0.0002871047949882,0.00006198452150838649,0.0005581995300465,0.00005408233870238674,0.0004162390593556,0.0001074421981312,0.0002502357670203,0.0001402653749428,0.0004818710788508,0.0008195508653601,0.0001223129598522,0.0001709567894211,0.0005105226944644,0.0001247391951939,0.0004867764921518,0.0001368484952558,0.0001126008714953,0.0009034134486792,0.0001118780930063,0.0001206264742559,0.0006350818795709,0.0001447935385483,0.0004414726028192,0.0001810668985058,0.0001355264269566,0.0004631355443598,0.00009887106336720694,0.0003509957964162,0.0005385871456543,0.0001246856078716,0.0005659457220908,0.0004976470951526,0.00007089195806164241,0.0006932129636414,0.0003228512639629,0.0008466331557373,0.0001521203843866,0.0004223258115013,0.000480702314975,0.002210921257898,0.0001491425362017,0.0008769541114241,0.0001023647856781,0.0001351053853179,0.0003804553165685,0.0003197243148822,0.00007339646968058777,0.0008347258318002,0.0010557223884543,0.0006886608583994,0.00009367251920788194,0.0002561596314825,0.000052342341119870165],\"y\":[860,481,875,527,1637,487,922,1314,616,617,300,625,771,876,2237,494,477,492,742,702,988,854,483,540,651,1852,648,480,461,1047,1157,509,457,1077,489,1062,703,931,1145,731,1014,730,1038,519,459,757,429,487,1027,870,2160,1017,498,812,827,816,1054,438,1051,1709,815,636,966,1835,795,599,495,502,1001,870,1435,666,1155,561,788,842,934,468,534,1154,857,478,849,465,1114,1074,461,824,713,429,857,466,857,827,535,785,520,463,939,485,513,1283,462,499,559,719,788,499,335,880,458,1092,862,704,709,1934,444,511,471,1008,917,1800],\"type\":\"scatter\"}],                        {\"template\":{\"data\":{\"histogram2dcontour\":[{\"type\":\"histogram2dcontour\",\"colorbar\":{\"outlinewidth\":0,\"ticks\":\"\"},\"colorscale\":[[0.0,\"#0d0887\"],[0.1111111111111111,\"#46039f\"],[0.2222222222222222,\"#7201a8\"],[0.3333333333333333,\"#9c179e\"],[0.4444444444444444,\"#bd3786\"],[0.5555555555555556,\"#d8576b\"],[0.6666666666666666,\"#ed7953\"],[0.7777777777777778,\"#fb9f3a\"],[0.8888888888888888,\"#fdca26\"],[1.0,\"#f0f921\"]]}],\"choropleth\":[{\"type\":\"choropleth\",\"colorbar\":{\"outlinewidth\":0,\"ticks\":\"\"}}],\"histogram2d\":[{\"type\":\"histogram2d\",\"colorbar\":{\"outlinewidth\":0,\"ticks\":\"\"},\"colorscale\":[[0.0,\"#0d0887\"],[0.1111111111111111,\"#46039f\"],[0.2222222222222222,\"#7201a8\"],[0.3333333333333333,\"#9c179e\"],[0.4444444444444444,\"#bd3786\"],[0.5555555555555556,\"#d8576b\"],[0.6666666666666666,\"#ed7953\"],[0.7777777777777778,\"#fb9f3a\"],[0.8888888888888888,\"#fdca26\"],[1.0,\"#f0f921\"]]}],\"heatmap\":[{\"type\":\"heatmap\",\"colorbar\":{\"outlinewidth\":0,\"ticks\":\"\"},\"colorscale\":[[0.0,\"#0d0887\"],[0.1111111111111111,\"#46039f\"],[0.2222222222222222,\"#7201a8\"],[0.3333333333333333,\"#9c179e\"],[0.4444444444444444,\"#bd3786\"],[0.5555555555555556,\"#d8576b\"],[0.6666666666666666,\"#ed7953\"],[0.7777777777777778,\"#fb9f3a\"],[0.8888888888888888,\"#fdca26\"],[1.0,\"#f0f921\"]]}],\"heatmapgl\":[{\"type\":\"heatmapgl\",\"colorbar\":{\"outlinewidth\":0,\"ticks\":\"\"},\"colorscale\":[[0.0,\"#0d0887\"],[0.1111111111111111,\"#46039f\"],[0.2222222222222222,\"#7201a8\"],[0.3333333333333333,\"#9c179e\"],[0.4444444444444444,\"#bd3786\"],[0.5555555555555556,\"#d8576b\"],[0.6666666666666666,\"#ed7953\"],[0.7777777777777778,\"#fb9f3a\"],[0.8888888888888888,\"#fdca26\"],[1.0,\"#f0f921\"]]}],\"contourcarpet\":[{\"type\":\"contourcarpet\",\"colorbar\":{\"outlinewidth\":0,\"ticks\":\"\"}}],\"contour\":[{\"type\":\"contour\",\"colorbar\":{\"outlinewidth\":0,\"ticks\":\"\"},\"colorscale\":[[0.0,\"#0d0887\"],[0.1111111111111111,\"#46039f\"],[0.2222222222222222,\"#7201a8\"],[0.3333333333333333,\"#9c179e\"],[0.4444444444444444,\"#bd3786\"],[0.5555555555555556,\"#d8576b\"],[0.6666666666666666,\"#ed7953\"],[0.7777777777777778,\"#fb9f3a\"],[0.8888888888888888,\"#fdca26\"],[1.0,\"#f0f921\"]]}],\"surface\":[{\"type\":\"surface\",\"colorbar\":{\"outlinewidth\":0,\"ticks\":\"\"},\"colorscale\":[[0.0,\"#0d0887\"],[0.1111111111111111,\"#46039f\"],[0.2222222222222222,\"#7201a8\"],[0.3333333333333333,\"#9c179e\"],[0.4444444444444444,\"#bd3786\"],[0.5555555555555556,\"#d8576b\"],[0.6666666666666666,\"#ed7953\"],[0.7777777777777778,\"#fb9f3a\"],[0.8888888888888888,\"#fdca26\"],[1.0,\"#f0f921\"]]}],\"mesh3d\":[{\"type\":\"mesh3d\",\"colorbar\":{\"outlinewidth\":0,\"ticks\":\"\"}}],\"scatter\":[{\"fillpattern\":{\"fillmode\":\"overlay\",\"size\":10,\"solidity\":0.2},\"type\":\"scatter\"}],\"parcoords\":[{\"type\":\"parcoords\",\"line\":{\"colorbar\":{\"outlinewidth\":0,\"ticks\":\"\"}}}],\"scatterpolargl\":[{\"type\":\"scatterpolargl\",\"marker\":{\"colorbar\":{\"outlinewidth\":0,\"ticks\":\"\"}}}],\"bar\":[{\"error_x\":{\"color\":\"#2a3f5f\"},\"error_y\":{\"color\":\"#2a3f5f\"},\"marker\":{\"line\":{\"color\":\"#E5ECF6\",\"width\":0.5},\"pattern\":{\"fillmode\":\"overlay\",\"size\":10,\"solidity\":0.2}},\"type\":\"bar\"}],\"scattergeo\":[{\"type\":\"scattergeo\",\"marker\":{\"colorbar\":{\"outlinewidth\":0,\"ticks\":\"\"}}}],\"scatterpolar\":[{\"type\":\"scatterpolar\",\"marker\":{\"colorbar\":{\"outlinewidth\":0,\"ticks\":\"\"}}}],\"histogram\":[{\"marker\":{\"pattern\":{\"fillmode\":\"overlay\",\"size\":10,\"solidity\":0.2}},\"type\":\"histogram\"}],\"scattergl\":[{\"type\":\"scattergl\",\"marker\":{\"colorbar\":{\"outlinewidth\":0,\"ticks\":\"\"}}}],\"scatter3d\":[{\"type\":\"scatter3d\",\"line\":{\"colorbar\":{\"outlinewidth\":0,\"ticks\":\"\"}},\"marker\":{\"colorbar\":{\"outlinewidth\":0,\"ticks\":\"\"}}}],\"scattermapbox\":[{\"type\":\"scattermapbox\",\"marker\":{\"colorbar\":{\"outlinewidth\":0,\"ticks\":\"\"}}}],\"scatterternary\":[{\"type\":\"scatterternary\",\"marker\":{\"colorbar\":{\"outlinewidth\":0,\"ticks\":\"\"}}}],\"scattercarpet\":[{\"type\":\"scattercarpet\",\"marker\":{\"colorbar\":{\"outlinewidth\":0,\"ticks\":\"\"}}}],\"carpet\":[{\"aaxis\":{\"endlinecolor\":\"#2a3f5f\",\"gridcolor\":\"white\",\"linecolor\":\"white\",\"minorgridcolor\":\"white\",\"startlinecolor\":\"#2a3f5f\"},\"baxis\":{\"endlinecolor\":\"#2a3f5f\",\"gridcolor\":\"white\",\"linecolor\":\"white\",\"minorgridcolor\":\"white\",\"startlinecolor\":\"#2a3f5f\"},\"type\":\"carpet\"}],\"table\":[{\"cells\":{\"fill\":{\"color\":\"#EBF0F8\"},\"line\":{\"color\":\"white\"}},\"header\":{\"fill\":{\"color\":\"#C8D4E3\"},\"line\":{\"color\":\"white\"}},\"type\":\"table\"}],\"barpolar\":[{\"marker\":{\"line\":{\"color\":\"#E5ECF6\",\"width\":0.5},\"pattern\":{\"fillmode\":\"overlay\",\"size\":10,\"solidity\":0.2}},\"type\":\"barpolar\"}],\"pie\":[{\"automargin\":true,\"type\":\"pie\"}]},\"layout\":{\"autotypenumbers\":\"strict\",\"colorway\":[\"#636efa\",\"#EF553B\",\"#00cc96\",\"#ab63fa\",\"#FFA15A\",\"#19d3f3\",\"#FF6692\",\"#B6E880\",\"#FF97FF\",\"#FECB52\"],\"font\":{\"color\":\"#2a3f5f\"},\"hovermode\":\"closest\",\"hoverlabel\":{\"align\":\"left\"},\"paper_bgcolor\":\"white\",\"plot_bgcolor\":\"#E5ECF6\",\"polar\":{\"bgcolor\":\"#E5ECF6\",\"angularaxis\":{\"gridcolor\":\"white\",\"linecolor\":\"white\",\"ticks\":\"\"},\"radialaxis\":{\"gridcolor\":\"white\",\"linecolor\":\"white\",\"ticks\":\"\"}},\"ternary\":{\"bgcolor\":\"#E5ECF6\",\"aaxis\":{\"gridcolor\":\"white\",\"linecolor\":\"white\",\"ticks\":\"\"},\"baxis\":{\"gridcolor\":\"white\",\"linecolor\":\"white\",\"ticks\":\"\"},\"caxis\":{\"gridcolor\":\"white\",\"linecolor\":\"white\",\"ticks\":\"\"}},\"coloraxis\":{\"colorbar\":{\"outlinewidth\":0,\"ticks\":\"\"}},\"colorscale\":{\"sequential\":[[0.0,\"#0d0887\"],[0.1111111111111111,\"#46039f\"],[0.2222222222222222,\"#7201a8\"],[0.3333333333333333,\"#9c179e\"],[0.4444444444444444,\"#bd3786\"],[0.5555555555555556,\"#d8576b\"],[0.6666666666666666,\"#ed7953\"],[0.7777777777777778,\"#fb9f3a\"],[0.8888888888888888,\"#fdca26\"],[1.0,\"#f0f921\"]],\"sequentialminus\":[[0.0,\"#0d0887\"],[0.1111111111111111,\"#46039f\"],[0.2222222222222222,\"#7201a8\"],[0.3333333333333333,\"#9c179e\"],[0.4444444444444444,\"#bd3786\"],[0.5555555555555556,\"#d8576b\"],[0.6666666666666666,\"#ed7953\"],[0.7777777777777778,\"#fb9f3a\"],[0.8888888888888888,\"#fdca26\"],[1.0,\"#f0f921\"]],\"diverging\":[[0,\"#8e0152\"],[0.1,\"#c51b7d\"],[0.2,\"#de77ae\"],[0.3,\"#f1b6da\"],[0.4,\"#fde0ef\"],[0.5,\"#f7f7f7\"],[0.6,\"#e6f5d0\"],[0.7,\"#b8e186\"],[0.8,\"#7fbc41\"],[0.9,\"#4d9221\"],[1,\"#276419\"]]},\"xaxis\":{\"gridcolor\":\"white\",\"linecolor\":\"white\",\"ticks\":\"\",\"title\":{\"standoff\":15},\"zerolinecolor\":\"white\",\"automargin\":true,\"zerolinewidth\":2},\"yaxis\":{\"gridcolor\":\"white\",\"linecolor\":\"white\",\"ticks\":\"\",\"title\":{\"standoff\":15},\"zerolinecolor\":\"white\",\"automargin\":true,\"zerolinewidth\":2},\"scene\":{\"xaxis\":{\"backgroundcolor\":\"#E5ECF6\",\"gridcolor\":\"white\",\"linecolor\":\"white\",\"showbackground\":true,\"ticks\":\"\",\"zerolinecolor\":\"white\",\"gridwidth\":2},\"yaxis\":{\"backgroundcolor\":\"#E5ECF6\",\"gridcolor\":\"white\",\"linecolor\":\"white\",\"showbackground\":true,\"ticks\":\"\",\"zerolinecolor\":\"white\",\"gridwidth\":2},\"zaxis\":{\"backgroundcolor\":\"#E5ECF6\",\"gridcolor\":\"white\",\"linecolor\":\"white\",\"showbackground\":true,\"ticks\":\"\",\"zerolinecolor\":\"white\",\"gridwidth\":2}},\"shapedefaults\":{\"line\":{\"color\":\"#2a3f5f\"}},\"annotationdefaults\":{\"arrowcolor\":\"#2a3f5f\",\"arrowhead\":0,\"arrowwidth\":1},\"geo\":{\"bgcolor\":\"white\",\"landcolor\":\"#E5ECF6\",\"subunitcolor\":\"white\",\"showland\":true,\"showlakes\":true,\"lakecolor\":\"white\"},\"title\":{\"x\":0.05},\"mapbox\":{\"style\":\"light\"}}},\"yaxis\":{\"type\":\"log\",\"title\":{\"text\":\"Cycle life\"},\"range\":[2,4]},\"xaxis\":{\"range\":[-8,-1],\"title\":{\"text\":\"Var ΔQ100_10(V)\"},\"type\":\"log\"}},                        {\"responsive\": true}                    ).then(function(){\n",
              "                            \n",
              "var gd = document.getElementById('d0f481f1-9957-4a17-bf10-d489705da606');\n",
              "var x = new MutationObserver(function (mutations, observer) {{\n",
              "        var display = window.getComputedStyle(gd).display;\n",
              "        if (!display || display === 'none') {{\n",
              "            console.log([gd, 'removed!']);\n",
              "            Plotly.purge(gd);\n",
              "            observer.disconnect();\n",
              "        }}\n",
              "}});\n",
              "\n",
              "// Listen for the removal of the full notebook cells\n",
              "var notebookContainer = gd.closest('#notebook-container');\n",
              "if (notebookContainer) {{\n",
              "    x.observe(notebookContainer, {childList: true});\n",
              "}}\n",
              "\n",
              "// Listen for the clearing of the current output cell\n",
              "var outputEl = gd.closest('.output');\n",
              "if (outputEl) {{\n",
              "    x.observe(outputEl, {childList: true});\n",
              "}}\n",
              "\n",
              "                        })                };                            </script>        </div>\n",
              "</body>\n",
              "</html>"
            ]
          },
          "metadata": {}
        },
        {
          "output_type": "stream",
          "name": "stdout",
          "text": [
            " The pearson correlation is -0.9159176982572148\n"
          ]
        }
      ]
    },
    {
      "cell_type": "code",
      "source": [
        "import sys\n",
        "K= 10 # The look up ellement after the initialization of the first seed\n",
        "X_init,Y_init= init_df.drop(columns = \"cycles\").values , init_df['cycles'].values\n",
        "\n",
        "median_value = init_df['cycles'].median()\n",
        "x_resampled,Y_resampled = apply_WS_smoter(X_init=X_init,Y_init=Y_init, N=math.ceil(len(X_init)/2),K=K,median_value=median_value) # Nexpresse the oversampling percentage where here we choose to double our datsaet\n"
      ],
      "metadata": {
        "id": "HfE4eoLsqDDM"
      },
      "execution_count": 10,
      "outputs": []
    },
    {
      "cell_type": "code",
      "source": [
        "var_ar_res =  x_resampled[:, 0]\n",
        "colors_2_c_res = [cmap1(1-(x - min(Y_resampled)) / (max(Y_resampled) - min(Y_resampled))) for x in Y_resampled]\n",
        "plotly_colors_res = [f'rgba({int(color[0]*255)}, {int(color[1]*255)}, {int(color[2]*255)}, 1)' for color in colors_2_c_res]\n",
        "\n",
        "fig_2c_ex = go.Figure()\n",
        "fig_2c_ex.add_trace(go.Scatter(x=var_ar_res,\n",
        "                          y=Y_resampled,\n",
        "\n",
        "  mode='markers',marker=dict(size=22,color=plotly_colors_res,\n",
        "            opacity=1, )))\n",
        "fig_2c_ex.update_layout( yaxis = dict(type='log',title = 'Cycle life',range=[2,4]),\n",
        "                  xaxis=dict( range = [-8,-1], # define the range of x-axis range=[-0.002,0.]\n",
        "                            title='Var ΔQ100_10(V)',  # optional title\n",
        "                             type='log'\n",
        "                             ))\n",
        "fig_2c_ex.show()\n",
        "# CALCULATION OF PEARSON CORRELATION FOR LOG SCALE\n",
        "cycle_ar_log_scale_res = np.array([np.log10(c_l) for c_l in Y_resampled])\n",
        "var_ar_log_scale_res = np.array([np.log10(va) for va in var_ar_res])\n",
        "pear_2C_res = np.corrcoef(var_ar_log_scale_res,cycle_ar_log_scale_res)[0,1]\n",
        "print(f\" The pearson correlation is {pear_2C_res }\")"
      ],
      "metadata": {
        "colab": {
          "base_uri": "https://localhost:8080/",
          "height": 559
        },
        "id": "03V2jjmsCfU2",
        "outputId": "a003dfee-bd80-4960-bff8-eb9318886646"
      },
      "execution_count": 11,
      "outputs": [
        {
          "output_type": "display_data",
          "data": {
            "text/html": [
              "<html>\n",
              "<head><meta charset=\"utf-8\" /></head>\n",
              "<body>\n",
              "    <div>            <script src=\"https://cdnjs.cloudflare.com/ajax/libs/mathjax/2.7.5/MathJax.js?config=TeX-AMS-MML_SVG\"></script><script type=\"text/javascript\">if (window.MathJax && window.MathJax.Hub && window.MathJax.Hub.Config) {window.MathJax.Hub.Config({SVG: {font: \"STIX-Web\"}});}</script>                <script type=\"text/javascript\">window.PlotlyConfig = {MathJaxConfig: 'local'};</script>\n",
              "        <script charset=\"utf-8\" src=\"https://cdn.plot.ly/plotly-2.35.2.min.js\"></script>                <div id=\"b5f2f353-cfd4-4db6-a5b9-128c65b42635\" class=\"plotly-graph-div\" style=\"height:525px; width:100%;\"></div>            <script type=\"text/javascript\">                                    window.PLOTLYENV=window.PLOTLYENV || {};                                    if (document.getElementById(\"b5f2f353-cfd4-4db6-a5b9-128c65b42635\")) {                    Plotly.newPlot(                        \"b5f2f353-cfd4-4db6-a5b9-128c65b42635\",                        [{\"marker\":{\"color\":[\"rgba(246, 169, 138, 1)\",\"rgba(211, 77, 64, 1)\",\"rgba(246, 170, 140, 1)\",\"rgba(219, 92, 74, 1)\",\"rgba(162, 192, 254, 1)\",\"rgba(212, 79, 66, 1)\",\"rgba(247, 179, 151, 1)\",\"rgba(214, 219, 228, 1)\",\"rgba(230, 114, 89, 1)\",\"rgba(230, 114, 89, 1)\",\"rgba(179, 3, 38, 1)\",\"rgba(230, 116, 90, 1)\",\"rgba(243, 150, 120, 1)\",\"rgba(246, 171, 141, 1)\",\"rgba(58, 76, 192, 1)\",\"rgba(214, 82, 67, 1)\",\"rgba(211, 77, 64, 1)\",\"rgba(214, 82, 67, 1)\",\"rgba(241, 144, 114, 1)\",\"rgba(238, 135, 106, 1)\",\"rgba(246, 189, 164, 1)\",\"rgba(246, 167, 137, 1)\",\"rgba(212, 79, 66, 1)\",\"rgba(220, 94, 75, 1)\",\"rgba(234, 123, 96, 1)\",\"rgba(122, 157, 248, 1)\",\"rgba(233, 121, 94, 1)\",\"rgba(211, 77, 64, 1)\",\"rgba(209, 73, 62, 1)\",\"rgba(243, 198, 176, 1)\",\"rgba(234, 211, 199, 1)\",\"rgba(216, 86, 70, 1)\",\"rgba(207, 70, 61, 1)\",\"rgba(241, 202, 182, 1)\",\"rgba(212, 79, 66, 1)\",\"rgba(242, 200, 179, 1)\",\"rgba(238, 135, 106, 1)\",\"rgba(247, 181, 152, 1)\",\"rgba(236, 210, 196, 1)\",\"rgba(240, 141, 111, 1)\",\"rgba(244, 194, 170, 1)\",\"rgba(240, 141, 111, 1)\",\"rgba(243, 197, 175, 1)\",\"rgba(217, 88, 71, 1)\",\"rgba(209, 73, 62, 1)\",\"rgba(242, 147, 117, 1)\",\"rgba(204, 63, 57, 1)\",\"rgba(212, 79, 66, 1)\",\"rgba(244, 196, 173, 1)\",\"rgba(246, 170, 140, 1)\",\"rgba(70, 93, 207, 1)\",\"rgba(244, 194, 170, 1)\",\"rgba(215, 84, 68, 1)\",\"rgba(245, 158, 127, 1)\",\"rgba(245, 161, 130, 1)\",\"rgba(245, 160, 129, 1)\",\"rgba(242, 199, 178, 1)\",\"rgba(205, 66, 58, 1)\",\"rgba(242, 199, 178, 1)\",\"rgba(148, 181, 254, 1)\",\"rgba(245, 160, 129, 1)\",\"rgba(232, 119, 93, 1)\",\"rgba(246, 187, 160, 1)\",\"rgba(126, 161, 249, 1)\",\"rgba(244, 155, 124, 1)\",\"rgba(228, 110, 86, 1)\",\"rgba(214, 82, 67, 1)\",\"rgba(215, 84, 68, 1)\",\"rgba(245, 192, 167, 1)\",\"rgba(246, 170, 140, 1)\",\"rgba(195, 213, 242, 1)\",\"rgba(235, 127, 99, 1)\",\"rgba(235, 211, 198, 1)\",\"rgba(223, 100, 79, 1)\",\"rgba(244, 154, 123, 1)\",\"rgba(246, 164, 134, 1)\",\"rgba(247, 181, 152, 1)\",\"rgba(210, 75, 63, 1)\",\"rgba(219, 92, 74, 1)\",\"rgba(235, 211, 198, 1)\",\"rgba(246, 167, 137, 1)\",\"rgba(211, 77, 64, 1)\",\"rgba(246, 166, 135, 1)\",\"rgba(209, 73, 62, 1)\",\"rgba(238, 207, 190, 1)\",\"rgba(241, 202, 182, 1)\",\"rgba(209, 73, 62, 1)\",\"rgba(245, 161, 130, 1)\",\"rgba(239, 137, 108, 1)\",\"rgba(204, 63, 57, 1)\",\"rgba(246, 167, 137, 1)\",\"rgba(209, 73, 62, 1)\",\"rgba(246, 167, 137, 1)\",\"rgba(245, 161, 130, 1)\",\"rgba(220, 94, 75, 1)\",\"rgba(244, 154, 123, 1)\",\"rgba(218, 90, 72, 1)\",\"rgba(209, 73, 62, 1)\",\"rgba(246, 182, 154, 1)\",\"rgba(212, 79, 66, 1)\",\"rgba(217, 88, 71, 1)\",\"rgba(219, 220, 222, 1)\",\"rgba(209, 73, 62, 1)\",\"rgba(215, 84, 68, 1)\",\"rgba(223, 100, 79, 1)\",\"rgba(240, 139, 109, 1)\",\"rgba(244, 154, 123, 1)\",\"rgba(215, 84, 68, 1)\",\"rgba(185, 22, 42, 1)\",\"rgba(246, 171, 141, 1)\",\"rgba(207, 70, 61, 1)\",\"rgba(240, 204, 185, 1)\",\"rgba(246, 169, 138, 1)\",\"rgba(238, 135, 106, 1)\",\"rgba(239, 137, 108, 1)\",\"rgba(108, 142, 241, 1)\",\"rgba(206, 68, 60, 1)\",\"rgba(216, 86, 70, 1)\",\"rgba(210, 75, 63, 1)\",\"rgba(245, 193, 168, 1)\",\"rgba(247, 178, 149, 1)\",\"rgba(131, 166, 251, 1)\",\"rgba(239, 205, 187, 1)\",\"rgba(178, 203, 251, 1)\",\"rgba(187, 209, 247, 1)\",\"rgba(241, 144, 114, 1)\",\"rgba(237, 132, 103, 1)\",\"rgba(212, 79, 66, 1)\",\"rgba(245, 160, 129, 1)\",\"rgba(220, 220, 221, 1)\",\"rgba(220, 94, 75, 1)\",\"rgba(231, 214, 204, 1)\",\"rgba(137, 172, 252, 1)\",\"rgba(99, 131, 234, 1)\",\"rgba(246, 170, 140, 1)\",\"rgba(115, 149, 244, 1)\",\"rgba(244, 155, 124, 1)\",\"rgba(107, 141, 240, 1)\",\"rgba(246, 170, 140, 1)\",\"rgba(242, 147, 117, 1)\",\"rgba(127, 162, 250, 1)\",\"rgba(241, 142, 112, 1)\",\"rgba(226, 217, 212, 1)\",\"rgba(243, 198, 176, 1)\",\"rgba(244, 155, 124, 1)\",\"rgba(187, 209, 247, 1)\",\"rgba(222, 219, 218, 1)\",\"rgba(239, 137, 108, 1)\",\"rgba(82, 110, 220, 1)\",\"rgba(245, 160, 129, 1)\",\"rgba(221, 220, 219, 1)\",\"rgba(212, 79, 66, 1)\",\"rgba(218, 220, 223, 1)\",\"rgba(139, 174, 253, 1)\",\"rgba(242, 145, 115, 1)\",\"rgba(246, 166, 135, 1)\",\"rgba(221, 96, 76, 1)\",\"rgba(124, 160, 249, 1)\",\"rgba(210, 75, 63, 1)\",\"rgba(137, 172, 252, 1)\",\"rgba(242, 145, 115, 1)\",\"rgba(116, 151, 245, 1)\",\"rgba(96, 128, 232, 1)\",\"rgba(246, 169, 138, 1)\",\"rgba(209, 73, 62, 1)\",\"rgba(244, 196, 173, 1)\",\"rgba(100, 133, 235, 1)\",\"rgba(243, 198, 176, 1)\",\"rgba(90, 120, 227, 1)\",\"rgba(127, 162, 250, 1)\",\"rgba(189, 210, 246, 1)\",\"rgba(197, 213, 242, 1)\",\"rgba(187, 209, 247, 1)\",\"rgba(189, 210, 246, 1)\",\"rgba(242, 200, 179, 1)\",\"rgba(209, 73, 62, 1)\",\"rgba(202, 216, 238, 1)\",\"rgba(242, 200, 179, 1)\",\"rgba(217, 88, 71, 1)\",\"rgba(113, 148, 244, 1)\",\"rgba(244, 157, 126, 1)\",\"rgba(242, 199, 178, 1)\",\"rgba(215, 84, 68, 1)\",\"rgba(242, 199, 178, 1)\",\"rgba(202, 216, 238, 1)\",\"rgba(229, 216, 208, 1)\",\"rgba(246, 187, 160, 1)\",\"rgba(119, 154, 246, 1)\",\"rgba(108, 142, 241, 1)\",\"rgba(200, 215, 239, 1)\",\"rgba(246, 164, 134, 1)\",\"rgba(214, 82, 67, 1)\",\"rgba(171, 199, 252, 1)\",\"rgba(246, 164, 134, 1)\",\"rgba(242, 201, 181, 1)\",\"rgba(239, 137, 108, 1)\",\"rgba(201, 215, 238, 1)\",\"rgba(246, 183, 156, 1)\",\"rgba(212, 79, 66, 1)\",\"rgba(243, 150, 120, 1)\",\"rgba(221, 96, 76, 1)\",\"rgba(206, 68, 60, 1)\",\"rgba(235, 127, 99, 1)\",\"rgba(218, 90, 72, 1)\",\"rgba(241, 142, 112, 1)\",\"rgba(211, 77, 64, 1)\",\"rgba(211, 77, 64, 1)\",\"rgba(214, 82, 67, 1)\",\"rgba(212, 79, 66, 1)\",\"rgba(211, 77, 64, 1)\",\"rgba(225, 104, 82, 1)\",\"rgba(231, 117, 92, 1)\",\"rgba(212, 79, 66, 1)\",\"rgba(212, 79, 66, 1)\",\"rgba(216, 86, 70, 1)\",\"rgba(219, 92, 74, 1)\",\"rgba(236, 130, 102, 1)\",\"rgba(215, 84, 68, 1)\",\"rgba(222, 98, 78, 1)\",\"rgba(212, 79, 66, 1)\",\"rgba(227, 108, 84, 1)\",\"rgba(241, 144, 114, 1)\",\"rgba(241, 142, 112, 1)\",\"rgba(209, 73, 62, 1)\",\"rgba(235, 127, 99, 1)\",\"rgba(234, 125, 97, 1)\",\"rgba(194, 45, 49, 1)\",\"rgba(224, 102, 80, 1)\",\"rgba(241, 144, 114, 1)\",\"rgba(242, 147, 117, 1)\",\"rgba(242, 145, 115, 1)\",\"rgba(209, 73, 62, 1)\",\"rgba(216, 86, 70, 1)\",\"rgba(241, 144, 114, 1)\",\"rgba(206, 68, 60, 1)\",\"rgba(224, 102, 80, 1)\",\"rgba(217, 88, 71, 1)\",\"rgba(242, 145, 115, 1)\",\"rgba(205, 66, 58, 1)\",\"rgba(227, 108, 84, 1)\",\"rgba(214, 82, 67, 1)\",\"rgba(207, 70, 61, 1)\",\"rgba(217, 88, 71, 1)\",\"rgba(218, 90, 72, 1)\"],\"opacity\":1,\"size\":22},\"mode\":\"markers\",\"x\":[0.0002551199106691,0.0004262533199111,0.0001696652344263,0.0005383344101772,0.00003421259625922551,0.0003586402239838,0.0001000776556534,0.00006529784614782511,0.000670131784286,0.0006523778281818,0.0036090261942944,0.0005646956957601,0.00037709991617,0.0003014459197359,0.00003072827001866165,0.0006408615719679,0.0006346952183255,0.0004148585868187,0.0002216545222525,0.0003820020074154,0.0001220097904366,0.0001617490661517,0.0012388639050327,0.0006867653752227,0.0003660030320521,0.000013166985819584313,0.0003725814929337,0.0004427974702929,0.000620878161153,0.0001171434165707,0.00008691547617177888,0.0005415618457069,0.0006026223608685,0.00007633142186103228,0.0005257461831965,0.00009068692760753768,0.0003010889678115,0.0001927991859167,0.000102428062402,0.0004021175068225,0.0001608563764865,0.0002497051523668,0.0001814697199675,0.0005688680152197,0.0005317636526893,0.0003785578104873,0.0007482616860838,0.0005163684762065,0.0001098798357107,0.0002851807932326,0.000016670040651974474,0.0002010694847762,0.0003283655449577,0.0001506347246938,0.0001277759215053,0.0002330769661579,0.000150864056696,0.0005823358784704,0.0001492904257791,0.000036176707279826266,0.000132954958998,0.0002976618815995,0.0001580638075387,0.00005572648466230889,0.00008457527531911605,0.0006631071840214,0.0003590229167606,0.0003263286329229,0.0001500080120277,0.0002871047949882,0.00006198452150838649,0.0005581995300465,0.00005408233870238674,0.0004162390593556,0.0001074421981312,0.0002502357670203,0.0001402653749428,0.0004818710788508,0.0008195508653601,0.0001223129598522,0.0001709567894211,0.0005105226944644,0.0001247391951939,0.0004867764921518,0.0001368484952558,0.0001126008714953,0.0009034134486792,0.0001118780930063,0.0001206264742559,0.0006350818795709,0.0001447935385483,0.0004414726028192,0.0001810668985058,0.0001355264269566,0.0004631355443598,0.00009887106336720694,0.0003509957964162,0.0005385871456543,0.0001246856078716,0.0005659457220908,0.0004976470951526,0.00007089195806164241,0.0006932129636414,0.0003228512639629,0.0008466331557373,0.0001521203843866,0.0004223258115013,0.000480702314975,0.002210921257898,0.0001491425362017,0.0008769541114241,0.0001023647856781,0.0001351053853179,0.0003804553165685,0.0003197243148822,0.00007339646968058777,0.0008347258318002,0.0010557223884543,0.0006886608583994,0.00009367251920788194,0.0002561596314825,0.000052342341119870165,0.00010524016658363857,0.00007601915693987885,0.00005531363961177244,0.0001939215813919557,0.0004996061696806314,0.000743636708786086,0.00020380743829178857,0.00006694051657046527,0.0004907762569313333,0.00007358286080320059,0.00004209051493802726,0.00003436350168405074,0.00026736743451483743,0.00006212753325019403,0.00013426281488131627,0.00003277879601123348,0.0001493053504494509,0.00015649446475163488,0.00005043932023179808,0.0003389216844981441,0.00008141978604538785,0.00018600112677604776,0.00026034926961333925,0.000054696427218417665,0.00008828477696158675,0.0002768789263937825,0.00003357850575607831,0.00016328057492634855,0.0000626588719200207,0.0005661061892953784,0.00006896103231253482,0.000055830575045524625,0.00010632881821985093,0.0002035144055557868,0.0007149820384835269,0.00004355583563004472,0.000534069319759551,0.000051228028663255585,0.00010494780783829266,0.000056965150612090244,0.00003556164261977323,0.0002581174308782016,0.000737034212195971,0.00014665637075796082,0.00005055872609647537,0.00010134235593470819,0.00003511295686715737,0.00004960187557778094,0.0000446323720218841,0.000042290728931306554,0.00007761491890365493,0.00006709469784651962,0.00010796071776102476,0.0005157645527864487,0.00009481683637483265,0.00011165817155816067,0.0005326461223807429,0.00002759905279529187,0.0003846064137041574,0.00011192714303503304,0.0005524552754298153,0.00011891205671779636,0.000041635932035990545,0.00009757203039683545,0.00018652446791403183,0.0000636420919184073,0.000017758512649808606,0.000037716985635858666,0.00012967003883263017,0.0005566842434389764,0.00002743520229142382,0.00013976891064328026,0.00010626465893856742,0.0003156774888446884,0.00009129813896990863,0.00015366876408774672,0.0007541595045936001,0.0001871718984196024,0.000826026198828968,0.0005790684729859983,0.00042730764499692385,0.0004743740333428394,0.0002755142416628557,0.0004533219701291511,0.0004152636408872392,0.0004820781340366745,0.0005181197119898612,0.0006794611020742885,0.0006527870399915868,0.0003795204420478529,0.0004065314660687673,0.000495204629684639,0.0004829559707386208,0.0005830274881560603,0.00014609912664422555,0.0005785410637664963,0.0007846215897933826,0.00042099351111564816,0.0004614589508044107,0.000263866059494243,0.00024529517323117,0.0005360193320611125,0.00030917826570658327,0.00038482478286956407,0.0017371273902360177,0.0006209986035350312,0.00036384283692993894,0.00027761791294884865,0.00014036108576417872,0.0005670743188085339,0.0005179589988756017,0.00032549777582707154,0.0005946173149142097,0.0006323660612725642,0.00039141919518311587,0.00011782540861695496,0.0006185177871770652,0.0005784003427686465,0.000510708256419061,0.0008581414403942511,0.0005678353118787271,0.0005328782412324012],\"y\":[860,481,875,527,1637,487,922,1314,616,617,300,625,771,876,2237,494,477,492,742,702,988,854,483,540,651,1852,648,480,461,1047,1157,509,457,1077,489,1062,703,931,1145,731,1014,730,1038,519,459,757,429,487,1027,870,2160,1017,498,812,827,816,1054,438,1051,1709,815,636,966,1835,795,599,495,502,1001,870,1435,666,1155,561,788,842,934,468,534,1154,857,478,849,465,1114,1074,461,824,713,429,857,466,857,827,535,785,520,463,939,485,513,1283,462,499,559,719,788,499,335,880,458,1092,862,704,709,1934,444,511,471,1008,917,1800,1096,1545,1495,744,687,487,819,1274,536,1179,1771,1980,875,1893,797,1936,868,759,1821,732,1229,1046,797,1494,1254,716,2085,818,1263,484,1290,1759,749,848,549,1836,467,1775,753,1884,1997,862,459,1031,1979,1045,2036,1821,1475,1433,1495,1478,1061,463,1395,1063,513,1898,805,1050,503,1053,1396,1202,969,1867,1934,1411,838,496,1583,841,1065,716,1400,946,489,771,549,444,664,522,735,479,476,491,482,481,578,632,487,482,505,529,680,501,555,486,592,743,736,463,669,659,379,567,743,758,753,463,510,745,447,568,512,753,443,588,492,452,516,520],\"type\":\"scatter\"}],                        {\"template\":{\"data\":{\"histogram2dcontour\":[{\"type\":\"histogram2dcontour\",\"colorbar\":{\"outlinewidth\":0,\"ticks\":\"\"},\"colorscale\":[[0.0,\"#0d0887\"],[0.1111111111111111,\"#46039f\"],[0.2222222222222222,\"#7201a8\"],[0.3333333333333333,\"#9c179e\"],[0.4444444444444444,\"#bd3786\"],[0.5555555555555556,\"#d8576b\"],[0.6666666666666666,\"#ed7953\"],[0.7777777777777778,\"#fb9f3a\"],[0.8888888888888888,\"#fdca26\"],[1.0,\"#f0f921\"]]}],\"choropleth\":[{\"type\":\"choropleth\",\"colorbar\":{\"outlinewidth\":0,\"ticks\":\"\"}}],\"histogram2d\":[{\"type\":\"histogram2d\",\"colorbar\":{\"outlinewidth\":0,\"ticks\":\"\"},\"colorscale\":[[0.0,\"#0d0887\"],[0.1111111111111111,\"#46039f\"],[0.2222222222222222,\"#7201a8\"],[0.3333333333333333,\"#9c179e\"],[0.4444444444444444,\"#bd3786\"],[0.5555555555555556,\"#d8576b\"],[0.6666666666666666,\"#ed7953\"],[0.7777777777777778,\"#fb9f3a\"],[0.8888888888888888,\"#fdca26\"],[1.0,\"#f0f921\"]]}],\"heatmap\":[{\"type\":\"heatmap\",\"colorbar\":{\"outlinewidth\":0,\"ticks\":\"\"},\"colorscale\":[[0.0,\"#0d0887\"],[0.1111111111111111,\"#46039f\"],[0.2222222222222222,\"#7201a8\"],[0.3333333333333333,\"#9c179e\"],[0.4444444444444444,\"#bd3786\"],[0.5555555555555556,\"#d8576b\"],[0.6666666666666666,\"#ed7953\"],[0.7777777777777778,\"#fb9f3a\"],[0.8888888888888888,\"#fdca26\"],[1.0,\"#f0f921\"]]}],\"heatmapgl\":[{\"type\":\"heatmapgl\",\"colorbar\":{\"outlinewidth\":0,\"ticks\":\"\"},\"colorscale\":[[0.0,\"#0d0887\"],[0.1111111111111111,\"#46039f\"],[0.2222222222222222,\"#7201a8\"],[0.3333333333333333,\"#9c179e\"],[0.4444444444444444,\"#bd3786\"],[0.5555555555555556,\"#d8576b\"],[0.6666666666666666,\"#ed7953\"],[0.7777777777777778,\"#fb9f3a\"],[0.8888888888888888,\"#fdca26\"],[1.0,\"#f0f921\"]]}],\"contourcarpet\":[{\"type\":\"contourcarpet\",\"colorbar\":{\"outlinewidth\":0,\"ticks\":\"\"}}],\"contour\":[{\"type\":\"contour\",\"colorbar\":{\"outlinewidth\":0,\"ticks\":\"\"},\"colorscale\":[[0.0,\"#0d0887\"],[0.1111111111111111,\"#46039f\"],[0.2222222222222222,\"#7201a8\"],[0.3333333333333333,\"#9c179e\"],[0.4444444444444444,\"#bd3786\"],[0.5555555555555556,\"#d8576b\"],[0.6666666666666666,\"#ed7953\"],[0.7777777777777778,\"#fb9f3a\"],[0.8888888888888888,\"#fdca26\"],[1.0,\"#f0f921\"]]}],\"surface\":[{\"type\":\"surface\",\"colorbar\":{\"outlinewidth\":0,\"ticks\":\"\"},\"colorscale\":[[0.0,\"#0d0887\"],[0.1111111111111111,\"#46039f\"],[0.2222222222222222,\"#7201a8\"],[0.3333333333333333,\"#9c179e\"],[0.4444444444444444,\"#bd3786\"],[0.5555555555555556,\"#d8576b\"],[0.6666666666666666,\"#ed7953\"],[0.7777777777777778,\"#fb9f3a\"],[0.8888888888888888,\"#fdca26\"],[1.0,\"#f0f921\"]]}],\"mesh3d\":[{\"type\":\"mesh3d\",\"colorbar\":{\"outlinewidth\":0,\"ticks\":\"\"}}],\"scatter\":[{\"fillpattern\":{\"fillmode\":\"overlay\",\"size\":10,\"solidity\":0.2},\"type\":\"scatter\"}],\"parcoords\":[{\"type\":\"parcoords\",\"line\":{\"colorbar\":{\"outlinewidth\":0,\"ticks\":\"\"}}}],\"scatterpolargl\":[{\"type\":\"scatterpolargl\",\"marker\":{\"colorbar\":{\"outlinewidth\":0,\"ticks\":\"\"}}}],\"bar\":[{\"error_x\":{\"color\":\"#2a3f5f\"},\"error_y\":{\"color\":\"#2a3f5f\"},\"marker\":{\"line\":{\"color\":\"#E5ECF6\",\"width\":0.5},\"pattern\":{\"fillmode\":\"overlay\",\"size\":10,\"solidity\":0.2}},\"type\":\"bar\"}],\"scattergeo\":[{\"type\":\"scattergeo\",\"marker\":{\"colorbar\":{\"outlinewidth\":0,\"ticks\":\"\"}}}],\"scatterpolar\":[{\"type\":\"scatterpolar\",\"marker\":{\"colorbar\":{\"outlinewidth\":0,\"ticks\":\"\"}}}],\"histogram\":[{\"marker\":{\"pattern\":{\"fillmode\":\"overlay\",\"size\":10,\"solidity\":0.2}},\"type\":\"histogram\"}],\"scattergl\":[{\"type\":\"scattergl\",\"marker\":{\"colorbar\":{\"outlinewidth\":0,\"ticks\":\"\"}}}],\"scatter3d\":[{\"type\":\"scatter3d\",\"line\":{\"colorbar\":{\"outlinewidth\":0,\"ticks\":\"\"}},\"marker\":{\"colorbar\":{\"outlinewidth\":0,\"ticks\":\"\"}}}],\"scattermapbox\":[{\"type\":\"scattermapbox\",\"marker\":{\"colorbar\":{\"outlinewidth\":0,\"ticks\":\"\"}}}],\"scatterternary\":[{\"type\":\"scatterternary\",\"marker\":{\"colorbar\":{\"outlinewidth\":0,\"ticks\":\"\"}}}],\"scattercarpet\":[{\"type\":\"scattercarpet\",\"marker\":{\"colorbar\":{\"outlinewidth\":0,\"ticks\":\"\"}}}],\"carpet\":[{\"aaxis\":{\"endlinecolor\":\"#2a3f5f\",\"gridcolor\":\"white\",\"linecolor\":\"white\",\"minorgridcolor\":\"white\",\"startlinecolor\":\"#2a3f5f\"},\"baxis\":{\"endlinecolor\":\"#2a3f5f\",\"gridcolor\":\"white\",\"linecolor\":\"white\",\"minorgridcolor\":\"white\",\"startlinecolor\":\"#2a3f5f\"},\"type\":\"carpet\"}],\"table\":[{\"cells\":{\"fill\":{\"color\":\"#EBF0F8\"},\"line\":{\"color\":\"white\"}},\"header\":{\"fill\":{\"color\":\"#C8D4E3\"},\"line\":{\"color\":\"white\"}},\"type\":\"table\"}],\"barpolar\":[{\"marker\":{\"line\":{\"color\":\"#E5ECF6\",\"width\":0.5},\"pattern\":{\"fillmode\":\"overlay\",\"size\":10,\"solidity\":0.2}},\"type\":\"barpolar\"}],\"pie\":[{\"automargin\":true,\"type\":\"pie\"}]},\"layout\":{\"autotypenumbers\":\"strict\",\"colorway\":[\"#636efa\",\"#EF553B\",\"#00cc96\",\"#ab63fa\",\"#FFA15A\",\"#19d3f3\",\"#FF6692\",\"#B6E880\",\"#FF97FF\",\"#FECB52\"],\"font\":{\"color\":\"#2a3f5f\"},\"hovermode\":\"closest\",\"hoverlabel\":{\"align\":\"left\"},\"paper_bgcolor\":\"white\",\"plot_bgcolor\":\"#E5ECF6\",\"polar\":{\"bgcolor\":\"#E5ECF6\",\"angularaxis\":{\"gridcolor\":\"white\",\"linecolor\":\"white\",\"ticks\":\"\"},\"radialaxis\":{\"gridcolor\":\"white\",\"linecolor\":\"white\",\"ticks\":\"\"}},\"ternary\":{\"bgcolor\":\"#E5ECF6\",\"aaxis\":{\"gridcolor\":\"white\",\"linecolor\":\"white\",\"ticks\":\"\"},\"baxis\":{\"gridcolor\":\"white\",\"linecolor\":\"white\",\"ticks\":\"\"},\"caxis\":{\"gridcolor\":\"white\",\"linecolor\":\"white\",\"ticks\":\"\"}},\"coloraxis\":{\"colorbar\":{\"outlinewidth\":0,\"ticks\":\"\"}},\"colorscale\":{\"sequential\":[[0.0,\"#0d0887\"],[0.1111111111111111,\"#46039f\"],[0.2222222222222222,\"#7201a8\"],[0.3333333333333333,\"#9c179e\"],[0.4444444444444444,\"#bd3786\"],[0.5555555555555556,\"#d8576b\"],[0.6666666666666666,\"#ed7953\"],[0.7777777777777778,\"#fb9f3a\"],[0.8888888888888888,\"#fdca26\"],[1.0,\"#f0f921\"]],\"sequentialminus\":[[0.0,\"#0d0887\"],[0.1111111111111111,\"#46039f\"],[0.2222222222222222,\"#7201a8\"],[0.3333333333333333,\"#9c179e\"],[0.4444444444444444,\"#bd3786\"],[0.5555555555555556,\"#d8576b\"],[0.6666666666666666,\"#ed7953\"],[0.7777777777777778,\"#fb9f3a\"],[0.8888888888888888,\"#fdca26\"],[1.0,\"#f0f921\"]],\"diverging\":[[0,\"#8e0152\"],[0.1,\"#c51b7d\"],[0.2,\"#de77ae\"],[0.3,\"#f1b6da\"],[0.4,\"#fde0ef\"],[0.5,\"#f7f7f7\"],[0.6,\"#e6f5d0\"],[0.7,\"#b8e186\"],[0.8,\"#7fbc41\"],[0.9,\"#4d9221\"],[1,\"#276419\"]]},\"xaxis\":{\"gridcolor\":\"white\",\"linecolor\":\"white\",\"ticks\":\"\",\"title\":{\"standoff\":15},\"zerolinecolor\":\"white\",\"automargin\":true,\"zerolinewidth\":2},\"yaxis\":{\"gridcolor\":\"white\",\"linecolor\":\"white\",\"ticks\":\"\",\"title\":{\"standoff\":15},\"zerolinecolor\":\"white\",\"automargin\":true,\"zerolinewidth\":2},\"scene\":{\"xaxis\":{\"backgroundcolor\":\"#E5ECF6\",\"gridcolor\":\"white\",\"linecolor\":\"white\",\"showbackground\":true,\"ticks\":\"\",\"zerolinecolor\":\"white\",\"gridwidth\":2},\"yaxis\":{\"backgroundcolor\":\"#E5ECF6\",\"gridcolor\":\"white\",\"linecolor\":\"white\",\"showbackground\":true,\"ticks\":\"\",\"zerolinecolor\":\"white\",\"gridwidth\":2},\"zaxis\":{\"backgroundcolor\":\"#E5ECF6\",\"gridcolor\":\"white\",\"linecolor\":\"white\",\"showbackground\":true,\"ticks\":\"\",\"zerolinecolor\":\"white\",\"gridwidth\":2}},\"shapedefaults\":{\"line\":{\"color\":\"#2a3f5f\"}},\"annotationdefaults\":{\"arrowcolor\":\"#2a3f5f\",\"arrowhead\":0,\"arrowwidth\":1},\"geo\":{\"bgcolor\":\"white\",\"landcolor\":\"#E5ECF6\",\"subunitcolor\":\"white\",\"showland\":true,\"showlakes\":true,\"lakecolor\":\"white\"},\"title\":{\"x\":0.05},\"mapbox\":{\"style\":\"light\"}}},\"yaxis\":{\"type\":\"log\",\"title\":{\"text\":\"Cycle life\"},\"range\":[2,4]},\"xaxis\":{\"range\":[-8,-1],\"title\":{\"text\":\"Var ΔQ100_10(V)\"},\"type\":\"log\"}},                        {\"responsive\": true}                    ).then(function(){\n",
              "                            \n",
              "var gd = document.getElementById('b5f2f353-cfd4-4db6-a5b9-128c65b42635');\n",
              "var x = new MutationObserver(function (mutations, observer) {{\n",
              "        var display = window.getComputedStyle(gd).display;\n",
              "        if (!display || display === 'none') {{\n",
              "            console.log([gd, 'removed!']);\n",
              "            Plotly.purge(gd);\n",
              "            observer.disconnect();\n",
              "        }}\n",
              "}});\n",
              "\n",
              "// Listen for the removal of the full notebook cells\n",
              "var notebookContainer = gd.closest('#notebook-container');\n",
              "if (notebookContainer) {{\n",
              "    x.observe(notebookContainer, {childList: true});\n",
              "}}\n",
              "\n",
              "// Listen for the clearing of the current output cell\n",
              "var outputEl = gd.closest('.output');\n",
              "if (outputEl) {{\n",
              "    x.observe(outputEl, {childList: true});\n",
              "}}\n",
              "\n",
              "                        })                };                            </script>        </div>\n",
              "</body>\n",
              "</html>"
            ]
          },
          "metadata": {}
        },
        {
          "output_type": "stream",
          "name": "stdout",
          "text": [
            " The pearson correlation is -0.93704438892299\n"
          ]
        }
      ]
    },
    {
      "cell_type": "markdown",
      "source": [
        "# Histogram initial vs final"
      ],
      "metadata": {
        "id": "53lcxNZdSoog"
      }
    },
    {
      "cell_type": "code",
      "source": [
        "sns.kdeplot(init_df['cycles'], label = \"Original\", fill=True, alpha=0.3, linewidth=2)\n",
        "sns.kdeplot(Y_resampled, label = \"WSMOTER\", fill=True, alpha=0.3, linewidth=2)\n",
        "\n",
        "plt.legend(loc='upper right')  # Move legend to upper right corner\n",
        "plt.show()"
      ],
      "metadata": {
        "id": "kO8HyCXUSt1Y",
        "colab": {
          "base_uri": "https://localhost:8080/",
          "height": 449
        },
        "outputId": "13373122-e2a8-4535-a944-cebf2c86504e"
      },
      "execution_count": 12,
      "outputs": [
        {
          "output_type": "display_data",
          "data": {
            "text/plain": [
              "<Figure size 640x480 with 1 Axes>"
            ],
            "image/png": "[encoded data removed]"
          },
          "metadata": {}
        }
      ]
    },
    {
      "cell_type": "markdown",
      "source": [
        "**No you need to implement the models elastic net and using grid search and or randoma forest.**"
      ],
      "metadata": {
        "id": "ihsax9dKGBKP"
      }
    },
    {
      "cell_type": "code",
      "source": [
        "# Create the train test for the training\n",
        "from sklearn.model_selection import train_test_split\n",
        "\n",
        "K= 10 # The look up ellement after the initialization of the first seed\n",
        "\n",
        "\n",
        "X_init_copy_df = init_df.drop(columns = [\"cycles\",'discharge_cycle_WI','average_charge_2_WI'])\n",
        "# print(X_init_copy_df.columns)\n",
        "X_init_copy = X_init_copy_df.values\n",
        "\n",
        "Y_init_copy = init_df['cycles'].values\n",
        "median_value = np.median(Y_init_copy)\n",
        "\n",
        "x_train_init,x_test,ytrain_init,y_test = train_test_split(X_init_copy,Y_init_copy,\n",
        "                                                          test_size=0.3,random_state=0 )\n",
        "\n",
        "median_value_train =np.median(ytrain_init)\n",
        "print(median_value_train)\n",
        "\n",
        "x_resampled_train_1,Y_resampled_train_1 = apply_WS_smoter(X_init=x_train_init,Y_init=ytrain_init, N=math.ceil(len(x_train_init)/2),K=K,median_value=median_value_train)\n",
        "wanted_columns = X_init_copy_df.columns.tolist()\n",
        "x_df = pd.DataFrame(x_resampled_train_1, columns=wanted_columns)\n",
        "y_df = pd.DataFrame(Y_resampled_train_1, columns=['cycles'])\n",
        "pro_logscale_df = pd.concat([x_df, y_df], axis=1)\n",
        "pro_logscale_df = convert_values_tol_log_scale(df_data = pro_logscale_df.copy())\n",
        "x_resampled_train,Y_resampled_train =pro_logscale_df.drop(columns=['cycles']),pro_logscale_df['cycles']"
      ],
      "metadata": {
        "id": "sLGwVMDAjs7G"
      },
      "execution_count": null,
      "outputs": []
    },
    {
      "cell_type": "code",
      "source": [
        "len(x_resampled_train_1[5])"
      ],
      "metadata": {
        "colab": {
          "base_uri": "https://localhost:8080/"
        },
        "id": "7SPSm8vuKnER",
        "outputId": "7537072d-6d25-44f2-fb41-fcfda9d12330"
      },
      "execution_count": null,
      "outputs": [
        {
          "output_type": "execute_result",
          "data": {
            "text/plain": [
              "19"
            ]
          },
          "metadata": {},
          "execution_count": 25
        }
      ]
    },
    {
      "cell_type": "code",
      "source": [
        "# Define parameter grids\n",
        "parameter_elastic_net = {\n",
        "    'alpha': [1e-6, 1e-5, 5e-5, 1e-4, 5e-4, 0.001, 0.01, 0.1, 0.4, 0.5, 0.6, 0.9, 1.0],\n",
        "    'l1_ratio': [0.01, 0.05, 0.1, 0.2, 0.3, 0.5, 0.7, 0.78, 0.8, 0.82, 0.85, 0.86, 0.9]\n",
        "}\n",
        "\n",
        "# GridSearchCV for both models\n",
        "grid_search_elastic = GridSearchCV(\n",
        "    estimator=ElasticNet(max_iter=5000),\n",
        "    param_grid=parameter_elastic_net,\n",
        "    scoring='neg_mean_absolute_error',\n",
        "    cv=5, n_jobs=-1, verbose=0)\n",
        "\n",
        "\n",
        "grid_search_elastic.fit(x_resampled_train,Y_resampled_train)\n",
        "\n",
        "\n",
        "# Best estimators\n",
        "best_model_ELA = grid_search_elastic.best_estimator_\n",
        "\n",
        "# Predict on test set\n",
        "preds_test_ELA = best_model_ELA.predict(x_test)\n",
        "\n",
        "# Convert back from log scale\n",
        "actual_test, pred_test_ela = convert_from_log_to_normal(y_test, preds_test_ELA)\n",
        "\n",
        "# Compute metrics\n",
        "mae_ela = mean_absolute_error(actual_test, pred_test_ela)\n",
        "rmse_ela =  np.sqrt(mean_squared_error(actual_test, pred_test_ela))\n",
        "\n",
        "\n",
        "# Create individual DataFrames\n",
        "elastic_df = pd.DataFrame({\n",
        "    'Model': ['ElasticNet'],\n",
        "    'MAE': [mae_ela],\n",
        "    'RMSE': [rmse_ela],\n",
        "    'Best Parameters': [grid_search_elastic.best_params_]\n",
        "})\n",
        "\n",
        "\n",
        "# Display results\n",
        "print(\"📊 ElasticNet Results:\")\n",
        "print(elastic_df, \"\\n\")"
      ],
      "metadata": {
        "colab": {
          "base_uri": "https://localhost:8080/"
        },
        "id": "NwDDabfPHN5J",
        "outputId": "e24a3395-7d2f-404e-c305-d9f3ea9dfdd5"
      },
      "execution_count": null,
      "outputs": [
        {
          "output_type": "stream",
          "name": "stdout",
          "text": [
            "📊 ElasticNet Results:\n",
            "        Model         MAE        RMSE                     Best Parameters\n",
            "0  ElasticNet  101.297297  106.304763  {'alpha': 1e-06, 'l1_ratio': 0.01} \n",
            "\n"
          ]
        },
        {
          "output_type": "stream",
          "name": "stderr",
          "text": [
            "/usr/local/lib/python3.11/dist-packages/sklearn/linear_model/_coordinate_descent.py:695: ConvergenceWarning:\n",
            "\n",
            "Objective did not converge. You might want to increase the number of iterations, check the scale of the features or consider increasing regularisation. Duality gap: 1.547e-01, tolerance: 7.270e-04\n",
            "\n",
            "/usr/local/lib/python3.11/dist-packages/sklearn/utils/validation.py:2739: UserWarning:\n",
            "\n",
            "X does not have valid feature names, but ElasticNet was fitted with feature names\n",
            "\n"
          ]
        }
      ]
    },
    {
      "cell_type": "code",
      "source": [
        "parameters_random_forests = {\n",
        "    'n_estimators': [1, 3, 5, 10, 30, 50, 100, 1000],\n",
        "    'criterion': ['absolute_error'],\n",
        "    'max_depth': [None, 2, 5, 10],\n",
        "    'min_samples_split': [2, 5]\n",
        "}\n",
        "grid_search_forest = GridSearchCV(\n",
        "    estimator=RandomForestRegressor(random_state=42),\n",
        "    param_grid=parameters_random_forests,\n",
        "    scoring='neg_mean_absolute_error',\n",
        "    cv=5, n_jobs=-1, verbose=0\n",
        ")\n",
        "\n",
        "grid_search_forest.fit(x_resampled_train,Y_resampled_train)\n",
        "best_model_FOREST = grid_search_forest.best_estimator_\n",
        "preds_test_FOREST = best_model_FOREST.predict(x_test)\n",
        "\n",
        "actual_test, pred_test_forest = convert_from_log_to_normal(y_test, preds_test_FOREST)\n",
        "\n",
        "\n",
        "mae_forest = mean_absolute_error(actual_test, pred_test_forest)\n",
        "rmse_forest = np.sqrt( mean_squared_error(actual_test, pred_test_forest))\n",
        "\n",
        "\n",
        "forest_df = pd.DataFrame({\n",
        "    'Model': ['RandomForest'],\n",
        "    'MAE': [mae_forest],\n",
        "    'RMSE': [rmse_forest],\n",
        "    'Best Parameters': [grid_search_forest.best_params_]\n",
        "})\n",
        "print(\"🌲 RandomForest Results:\")\n",
        "print(forest_df)"
      ],
      "metadata": {
        "colab": {
          "base_uri": "https://localhost:8080/"
        },
        "id": "wPHHwlBaHLYr",
        "outputId": "199a92fc-c839-46b7-8f32-d59a33869ab3"
      },
      "execution_count": null,
      "outputs": [
        {
          "output_type": "stream",
          "name": "stdout",
          "text": [
            "🌲 RandomForest Results:\n",
            "          Model         MAE        RMSE  \\\n",
            "0  RandomForest  516.216216  521.358983   \n",
            "\n",
            "                                     Best Parameters  \n",
            "0  {'criterion': 'absolute_error', 'max_depth': N...  \n"
          ]
        },
        {
          "output_type": "stream",
          "name": "stderr",
          "text": [
            "/usr/local/lib/python3.11/dist-packages/sklearn/utils/validation.py:2739: UserWarning:\n",
            "\n",
            "X does not have valid feature names, but RandomForestRegressor was fitted with feature names\n",
            "\n"
          ]
        }
      ]
    }
  ]
}