{
  "nbformat": 4,
  "nbformat_minor": 0,
  "metadata": {
    "colab": {
      "provenance": []
    },
    "kernelspec": {
      "name": "python3",
      "display_name": "Python 3"
    },
    "language_info": {
      "name": "python"
    }
  },
  "cells": [
    {
      "cell_type": "code",
      "source": [
        "!pip install smogn"
      ],
      "metadata": {
        "id": "h7RUzK5JHXRL",
        "colab": {
          "base_uri": "https://localhost:8080/"
        },
        "outputId": "c1862332-5897-4538-f97d-6cc5b7ed88b4"
      },
      "execution_count": 1,
      "outputs": [
        {
          "output_type": "stream",
          "name": "stdout",
          "text": [
            "Collecting smogn\n",
            "  Downloading smogn-0.1.2-py3-none-any.whl.metadata (4.5 kB)\n",
            "Requirement already satisfied: numpy in /usr/local/lib/python3.11/dist-packages (from smogn) (2.0.2)\n",
            "Requirement already satisfied: pandas in /usr/local/lib/python3.11/dist-packages (from smogn) (2.2.2)\n",
            "Requirement already satisfied: tqdm in /usr/local/lib/python3.11/dist-packages (from smogn) (4.67.1)\n",
            "Requirement already satisfied: python-dateutil>=2.8.2 in /usr/local/lib/python3.11/dist-packages (from pandas->smogn) (2.9.0.post0)\n",
            "Requirement already satisfied: pytz>=2020.1 in /usr/local/lib/python3.11/dist-packages (from pandas->smogn) (2025.2)\n",
            "Requirement already satisfied: tzdata>=2022.7 in /usr/local/lib/python3.11/dist-packages (from pandas->smogn) (2025.2)\n",
            "Requirement already satisfied: six>=1.5 in /usr/local/lib/python3.11/dist-packages (from python-dateutil>=2.8.2->pandas->smogn) (1.17.0)\n",
            "Downloading smogn-0.1.2-py3-none-any.whl (30 kB)\n",
            "Installing collected packages: smogn\n",
            "Successfully installed smogn-0.1.2\n"
          ]
        }
      ]
    },
    {
      "cell_type": "code",
      "source": [
        "!pip install git+https://github.com/nickkunz/smogn.git # official github"
      ],
      "metadata": {
        "id": "umaZIp0xWj5s",
        "colab": {
          "base_uri": "https://localhost:8080/"
        },
        "outputId": "86169ff1-15ce-4e41-c4fd-87e4dd48efe2"
      },
      "execution_count": 2,
      "outputs": [
        {
          "output_type": "stream",
          "name": "stdout",
          "text": [
            "Collecting git+https://github.com/nickkunz/smogn.git\n",
            "  Cloning https://github.com/nickkunz/smogn.git to /tmp/pip-req-build-icxj64xv\n",
            "  Running command git clone --filter=blob:none --quiet https://github.com/nickkunz/smogn.git /tmp/pip-req-build-icxj64xv\n",
            "  Resolved https://github.com/nickkunz/smogn.git to commit e4e5e4aca43a07ebbd1a0ed881f4de1e24abb8ed\n",
            "  Preparing metadata (setup.py) ... \u001b[?25l\u001b[?25hdone\n",
            "Requirement already satisfied: numpy in /usr/local/lib/python3.11/dist-packages (from smogn==0.1.1) (2.0.2)\n",
            "Requirement already satisfied: pandas in /usr/local/lib/python3.11/dist-packages (from smogn==0.1.1) (2.2.2)\n",
            "Requirement already satisfied: tqdm in /usr/local/lib/python3.11/dist-packages (from smogn==0.1.1) (4.67.1)\n",
            "Requirement already satisfied: python-dateutil>=2.8.2 in /usr/local/lib/python3.11/dist-packages (from pandas->smogn==0.1.1) (2.9.0.post0)\n",
            "Requirement already satisfied: pytz>=2020.1 in /usr/local/lib/python3.11/dist-packages (from pandas->smogn==0.1.1) (2025.2)\n",
            "Requirement already satisfied: tzdata>=2022.7 in /usr/local/lib/python3.11/dist-packages (from pandas->smogn==0.1.1) (2025.2)\n",
            "Requirement already satisfied: six>=1.5 in /usr/local/lib/python3.11/dist-packages (from python-dateutil>=2.8.2->pandas->smogn==0.1.1) (1.17.0)\n",
            "Building wheels for collected packages: smogn\n",
            "  Building wheel for smogn (setup.py) ... \u001b[?25l\u001b[?25hdone\n",
            "  Created wheel for smogn: filename=smogn-0.1.1-py3-none-any.whl size=31239 sha256=a3c7a982662687d720cec9bc4556cce07e33f837615de97e1cdcbe61beb47a17\n",
            "  Stored in directory: /tmp/pip-ephem-wheel-cache-6emfuzvc/wheels/76/86/27/151e970eff5b6305a42b0f7dfd8a266d5014a25e377a2903bf\n",
            "Successfully built smogn\n",
            "Installing collected packages: smogn\n",
            "  Attempting uninstall: smogn\n",
            "    Found existing installation: smogn 0.1.2\n",
            "    Uninstalling smogn-0.1.2:\n",
            "      Successfully uninstalled smogn-0.1.2\n",
            "Successfully installed smogn-0.1.1\n"
          ]
        }
      ]
    },
    {
      "cell_type": "code",
      "source": [
        "import pandas as pd\n",
        "import matplotlib.pyplot as plt\n",
        "import numpy as np\n",
        "import seaborn as sns\n",
        "import os, random,sys, json,zipfile, time\n",
        "from copy import deepcopy\n",
        "import plotly.graph_objects as go\n",
        "import math\n",
        "from scipy.stats import spearmanr\n",
        "import plotly.express as px\n",
        "from scipy.optimize import minimize\n",
        "import smogn\n",
        "from copy import deepcopy\n",
        "import plotly.express as px\n",
        "import numpy as np\n",
        "from scipy.stats import gaussian_kde"
      ],
      "metadata": {
        "id": "J0TDH696ued0"
      },
      "execution_count": 3,
      "outputs": []
    },
    {
      "cell_type": "code",
      "source": [
        "#------------ Functions for prepocessing -----------------#\n",
        "def convert_values_tol_log_scale(df_data):\n",
        "  # lista_log = ['var', 'iqr', 'idr', 'min', 'mean', 'skew', 'kurt', 'mean_cubic','range','cycles']\n",
        "  lista_log = ['var_DQ_100_10', 'IQR_DQ_100_10', 'IDR_DQ_100_10', 'min_DQ_100_10', 'maxDQ_100_10', 'mean_DQ_100_10', 'skew_100_10', 'kurt_100_10', 'mean_cub_DQ_100_10', 'voltage_295_100_10', 'range_100_10','cycles']\n",
        "  for el in lista_log:\n",
        "    if (df_data[el]<0).any():\n",
        "      df_data[f'{el}'] = df_data[el].apply(lambda x: np.log10(abs(x)))#df_data[f'{el}_log'] = df_data[el].apply(lambda x: np.log10(abs(x)))\n",
        "    else:\n",
        "      df_data[f'{el}'] = df_data[el].apply(lambda x: np.log10(x))#df_data[f'{el}_log'] = df_data[el].apply(lambda x: np.log10(x))\n",
        "  return df_data\n",
        "def convert_from_log_to_normal(actual,preds):\n",
        "  pred_actual =  np.round(10**preds,decimals=0)\n",
        "  values_actual = np.round(10**actual,decimals=0)\n",
        "  return values_actual,pred_actual"
      ],
      "metadata": {
        "id": "ZG8HqptDvsZP"
      },
      "execution_count": 4,
      "outputs": []
    },
    {
      "cell_type": "code",
      "source": [
        "WANTED_CYCLE = 100\n",
        "init_df = pd.read_csv(f'/content/drive/MyDrive/battery_degradation/f_data_{WANTED_CYCLE}_10.csv')\n",
        "init_df.drop(columns = {'Unnamed: 0'},inplace=True)\n",
        "init_df.columns"
      ],
      "metadata": {
        "colab": {
          "base_uri": "https://localhost:8080/"
        },
        "id": "DjSthF5Zs5aV",
        "outputId": "5b34e595-cb41-4d2f-d9f3-ab1a7e298d59"
      },
      "execution_count": 5,
      "outputs": [
        {
          "output_type": "execute_result",
          "data": {
            "text/plain": [
              "Index(['var_DQ_100_10', 'IQR_DQ_100_10', 'IDR_DQ_100_10', 'min_DQ_100_10',\n",
              "       'maxDQ_100_10', 'mean_DQ_100_10', 'skew_100_10', 'kurt_100_10',\n",
              "       'mean_cub_DQ_100_10', 'voltage_295_100_10', 'range_100_10',\n",
              "       'average_charge_2_6', 'average_charge_2_WI', 'min_resistance_2_100',\n",
              "       'diff_resistance_2_100', 'temperature_integral', 'discharge_cycle_2',\n",
              "       'discharge_cycle_WI', 'slope_2_100', 'intercept_2_100', 'cycles',\n",
              "       'diff_disc_cap_2_max'],\n",
              "      dtype='object')"
            ]
          },
          "metadata": {},
          "execution_count": 5
        }
      ]
    },
    {
      "cell_type": "markdown",
      "source": [
        "# **Official data histogram**"
      ],
      "metadata": {
        "id": "0cu0d1D3wR2_"
      }
    },
    {
      "cell_type": "code",
      "source": [
        "import numpy as np\n",
        "import plotly.graph_objects as go\n",
        "from scipy.stats import norm\n",
        "\n",
        "# Data prep\n",
        "cycles_ar = init_df['cycles'].values\n",
        "sorted_cycles_ar = np.sort(cycles_ar)\n",
        "pdf_resampled_pdf = norm.pdf(sorted_cycles_ar, np.mean(sorted_cycles_ar), np.std(sorted_cycles_ar))\n",
        "\n",
        "# Plot\n",
        "fig = go.Figure()\n",
        "\n",
        "# Histogram\n",
        "fig.add_trace(go.Histogram(\n",
        "    x=cycles_ar,\n",
        "    nbinsx=25,\n",
        "    histnorm='probability density',\n",
        "    opacity=0.6,\n",
        "    name='Cycle Distribution',\n",
        "    marker=dict(color='rgba(26, 118, 255, 0.8)', line=dict(color='black', width=1))\n",
        "))\n",
        "\n",
        "# KDE Line (Gaussian PDF)\n",
        "fig.add_trace(go.Scatter(\n",
        "    x=sorted_cycles_ar,\n",
        "    y=pdf_resampled_pdf,\n",
        "    mode='lines',\n",
        "    name='Fitted Normal Distribution',\n",
        "    line=dict(color='crimson', width=4, dash='solid')\n",
        "))\n",
        "\n",
        "# Layout\n",
        "fig.update_layout(\n",
        "    title=dict(\n",
        "        text=\"Cycle Distribution with Fitted Normal Curve\",\n",
        "        font=dict(size=28, family='Arial'),\n",
        "        x=0.5\n",
        "    ),\n",
        "    xaxis=dict(\n",
        "        title='Cycles',\n",
        "        titlefont=dict(size=20),\n",
        "        tickfont=dict(size=16),\n",
        "        gridcolor='lightgray'\n",
        "    ),\n",
        "    yaxis=dict(\n",
        "        title='Density',\n",
        "        titlefont=dict(size=20),\n",
        "        tickfont=dict(size=16),\n",
        "        gridcolor='lightgray'\n",
        "    ),\n",
        "    legend=dict(\n",
        "        font=dict(size=16),\n",
        "        x=0.65,\n",
        "        y=0.95,\n",
        "        bgcolor='rgba(255,255,255,0.5)',\n",
        "        bordercolor='gray',\n",
        "        borderwidth=1\n",
        "    ),\n",
        "    plot_bgcolor='white',\n",
        "    width=1200,\n",
        "    height=700,\n",
        "    margin=dict(l=80, r=40, t=100, b=70)\n",
        ")\n",
        "\n",
        "fig.show()"
      ],
      "metadata": {
        "colab": {
          "base_uri": "https://localhost:8080/",
          "height": 717
        },
        "id": "ZGlOZkoYbtO5",
        "outputId": "eb715e52-7a96-4851-9cdb-df083f33fa74"
      },
      "execution_count": 6,
      "outputs": [
        {
          "output_type": "display_data",
          "data": {
            "text/html": [
              "<html>\n",
              "<head><meta charset=\"utf-8\" /></head>\n",
              "<body>\n",
              "    <div>            <script src=\"https://cdnjs.cloudflare.com/ajax/libs/mathjax/2.7.5/MathJax.js?config=TeX-AMS-MML_SVG\"></script><script type=\"text/javascript\">if (window.MathJax && window.MathJax.Hub && window.MathJax.Hub.Config) {window.MathJax.Hub.Config({SVG: {font: \"STIX-Web\"}});}</script>                <script type=\"text/javascript\">window.PlotlyConfig = {MathJaxConfig: 'local'};</script>\n",
              "        <script charset=\"utf-8\" src=\"https://cdn.plot.ly/plotly-2.35.2.min.js\"></script>                <div id=\"6750aba4-eb96-4486-ab15-5b6c29f6b4e6\" class=\"plotly-graph-div\" style=\"height:700px; width:1200px;\"></div>            <script type=\"text/javascript\">                                    window.PLOTLYENV=window.PLOTLYENV || {};                                    if (document.getElementById(\"6750aba4-eb96-4486-ab15-5b6c29f6b4e6\")) {                    Plotly.newPlot(                        \"6750aba4-eb96-4486-ab15-5b6c29f6b4e6\",                        [{\"histnorm\":\"probability density\",\"marker\":{\"color\":\"rgba(26, 118, 255, 0.8)\",\"line\":{\"color\":\"black\",\"width\":1}},\"name\":\"Cycle Distribution\",\"nbinsx\":25,\"opacity\":0.6,\"x\":[860,481,875,527,1637,487,922,1314,616,617,300,625,771,876,2237,494,477,492,742,702,988,854,483,540,651,1852,648,480,461,1047,1157,509,457,1077,489,1062,703,931,1145,731,1014,730,1038,519,459,757,429,487,1027,870,2160,1017,498,812,827,816,1054,438,1051,1709,815,636,966,1835,795,599,495,502,1001,870,1435,666,1155,561,788,842,934,468,534,1154,857,478,849,465,1114,1074,461,824,713,429,857,466,857,827,535,785,520,463,939,485,513,1283,462,499,559,719,788,499,335,880,458,1092,862,704,709,1934,444,511,471,1008,917,1800],\"type\":\"histogram\"},{\"line\":{\"color\":\"crimson\",\"dash\":\"solid\",\"width\":4},\"mode\":\"lines\",\"name\":\"Fitted Normal Distribution\",\"x\":[300,335,429,429,438,444,457,458,459,461,461,462,463,465,466,468,471,477,478,480,481,483,485,487,487,489,492,494,495,498,499,499,502,509,511,513,519,520,527,534,535,540,559,561,599,616,617,625,636,648,651,666,702,703,704,709,713,719,730,731,742,757,771,785,788,788,795,812,815,816,824,827,827,842,849,854,857,857,857,860,862,870,870,875,876,880,917,922,931,934,939,966,988,1001,1008,1014,1017,1027,1038,1047,1051,1054,1062,1074,1077,1092,1114,1145,1154,1155,1157,1283,1314,1435,1637,1709,1800,1835,1852,1934,2160,2237],\"y\":[0.000426842603509551,0.0004818153320515364,0.0006391263495527506,0.0006391263495527506,0.0006545057857864278,0.0006647524909853529,0.0006869079511837247,0.0006886084490523551,0.000690308281187232,0.0006937058454721742,0.0006937058454721742,0.0006954035261094692,0.0006971004379886879,0.0007004918519281813,0.000702186302101243,0.0007055725587979439,0.0007106449432331018,0.0007207619135766727,0.0007224441644058804,0.0007258050757016013,0.000727483683057291,0.000730837068142077,0.0007341851692684186,0.0007375277726257885,0.0007375277726257885,0.0007408646638941988,0.0007458588206107598,0.0007491804908620468,0.0007508389147860991,0.0007558042173188188,0.0007574559048203137,0.0007574559048203137,0.0007624003475475371,0.000773871941471906,0.0007771317312413028,0.0007803832054979078,0.0007900855454069251,0.0007916947189233638,0.0008028922838026384,0.0008139664846774272,0.0008155378936167872,0.0008233533299515065,0.0008523675117194821,0.0008553536252534891,0.0009092263066056638,0.0009313331448909641,0.0009325908784333663,0.0009424744253878313,0.0009555300666711007,0.0009690340013784707,0.0009722851807136023,0.0009877631839719766,0.001019293056618844,0.001020049818458167,0.0010207999325164516,0.0010244502485663419,0.0010272492964666442,0.001031243690135192,0.0010379214978773154,0.0010384867032925684,0.0010442374411526185,0.0010506826868136533,0.001055220152177352,0.0010583111896456884,0.0010587840289525048,0.0010587840289525048,0.001059626176230064,0.0010601456317149327,0.0010600127063942104,0.0010599534292846302,0.0010592099856991301,0.001058807933903399,0.001058807933903399,0.0010557928217922387,0.0010538154591188942,0.0010521823638772968,0.001051114633498841,0.001051114633498841,0.001051114633498841,0.0010499812431790337,0.0010491892774588869,0.0010457319142164205,0.0010457319142164205,0.0010433373372456065,0.0010428369842721999,0.001040764462095777,0.001016328688998465,0.0010123198637783703,0.0010046966445370733,0.0010020409536409785,0.0009974894830284322,0.0009703014177277057,0.0009450923888439818,0.0009290111950551337,0.0009200107710654777,0.0009121142840655134,0.0009081049042684769,0.0008944564377097913,0.0008789626327292443,0.0008659351178604364,0.0008600493153127557,0.0008555977802183945,0.0008435771501303658,0.0008251624755324605,0.0008204915668726767,0.0007967705897687406,0.0007610240151097458,0.0007092322051001391,0.0006939842053724926,0.0006922859018287923,0.0006888871563630682,0.0004772624544050087,0.00042862531215207364,0.0002640404967267132,0.00009340021039103681,0.000060148471440641836,0.00003272784884466672,0.000025497493627932106,0.000022515449476743894,0.00001200821676382043,1.660749244269943e-6,7.794620762564376e-7],\"type\":\"scatter\"}],                        {\"template\":{\"data\":{\"histogram2dcontour\":[{\"type\":\"histogram2dcontour\",\"colorbar\":{\"outlinewidth\":0,\"ticks\":\"\"},\"colorscale\":[[0.0,\"#0d0887\"],[0.1111111111111111,\"#46039f\"],[0.2222222222222222,\"#7201a8\"],[0.3333333333333333,\"#9c179e\"],[0.4444444444444444,\"#bd3786\"],[0.5555555555555556,\"#d8576b\"],[0.6666666666666666,\"#ed7953\"],[0.7777777777777778,\"#fb9f3a\"],[0.8888888888888888,\"#fdca26\"],[1.0,\"#f0f921\"]]}],\"choropleth\":[{\"type\":\"choropleth\",\"colorbar\":{\"outlinewidth\":0,\"ticks\":\"\"}}],\"histogram2d\":[{\"type\":\"histogram2d\",\"colorbar\":{\"outlinewidth\":0,\"ticks\":\"\"},\"colorscale\":[[0.0,\"#0d0887\"],[0.1111111111111111,\"#46039f\"],[0.2222222222222222,\"#7201a8\"],[0.3333333333333333,\"#9c179e\"],[0.4444444444444444,\"#bd3786\"],[0.5555555555555556,\"#d8576b\"],[0.6666666666666666,\"#ed7953\"],[0.7777777777777778,\"#fb9f3a\"],[0.8888888888888888,\"#fdca26\"],[1.0,\"#f0f921\"]]}],\"heatmap\":[{\"type\":\"heatmap\",\"colorbar\":{\"outlinewidth\":0,\"ticks\":\"\"},\"colorscale\":[[0.0,\"#0d0887\"],[0.1111111111111111,\"#46039f\"],[0.2222222222222222,\"#7201a8\"],[0.3333333333333333,\"#9c179e\"],[0.4444444444444444,\"#bd3786\"],[0.5555555555555556,\"#d8576b\"],[0.6666666666666666,\"#ed7953\"],[0.7777777777777778,\"#fb9f3a\"],[0.8888888888888888,\"#fdca26\"],[1.0,\"#f0f921\"]]}],\"heatmapgl\":[{\"type\":\"heatmapgl\",\"colorbar\":{\"outlinewidth\":0,\"ticks\":\"\"},\"colorscale\":[[0.0,\"#0d0887\"],[0.1111111111111111,\"#46039f\"],[0.2222222222222222,\"#7201a8\"],[0.3333333333333333,\"#9c179e\"],[0.4444444444444444,\"#bd3786\"],[0.5555555555555556,\"#d8576b\"],[0.6666666666666666,\"#ed7953\"],[0.7777777777777778,\"#fb9f3a\"],[0.8888888888888888,\"#fdca26\"],[1.0,\"#f0f921\"]]}],\"contourcarpet\":[{\"type\":\"contourcarpet\",\"colorbar\":{\"outlinewidth\":0,\"ticks\":\"\"}}],\"contour\":[{\"type\":\"contour\",\"colorbar\":{\"outlinewidth\":0,\"ticks\":\"\"},\"colorscale\":[[0.0,\"#0d0887\"],[0.1111111111111111,\"#46039f\"],[0.2222222222222222,\"#7201a8\"],[0.3333333333333333,\"#9c179e\"],[0.4444444444444444,\"#bd3786\"],[0.5555555555555556,\"#d8576b\"],[0.6666666666666666,\"#ed7953\"],[0.7777777777777778,\"#fb9f3a\"],[0.8888888888888888,\"#fdca26\"],[1.0,\"#f0f921\"]]}],\"surface\":[{\"type\":\"surface\",\"colorbar\":{\"outlinewidth\":0,\"ticks\":\"\"},\"colorscale\":[[0.0,\"#0d0887\"],[0.1111111111111111,\"#46039f\"],[0.2222222222222222,\"#7201a8\"],[0.3333333333333333,\"#9c179e\"],[0.4444444444444444,\"#bd3786\"],[0.5555555555555556,\"#d8576b\"],[0.6666666666666666,\"#ed7953\"],[0.7777777777777778,\"#fb9f3a\"],[0.8888888888888888,\"#fdca26\"],[1.0,\"#f0f921\"]]}],\"mesh3d\":[{\"type\":\"mesh3d\",\"colorbar\":{\"outlinewidth\":0,\"ticks\":\"\"}}],\"scatter\":[{\"fillpattern\":{\"fillmode\":\"overlay\",\"size\":10,\"solidity\":0.2},\"type\":\"scatter\"}],\"parcoords\":[{\"type\":\"parcoords\",\"line\":{\"colorbar\":{\"outlinewidth\":0,\"ticks\":\"\"}}}],\"scatterpolargl\":[{\"type\":\"scatterpolargl\",\"marker\":{\"colorbar\":{\"outlinewidth\":0,\"ticks\":\"\"}}}],\"bar\":[{\"error_x\":{\"color\":\"#2a3f5f\"},\"error_y\":{\"color\":\"#2a3f5f\"},\"marker\":{\"line\":{\"color\":\"#E5ECF6\",\"width\":0.5},\"pattern\":{\"fillmode\":\"overlay\",\"size\":10,\"solidity\":0.2}},\"type\":\"bar\"}],\"scattergeo\":[{\"type\":\"scattergeo\",\"marker\":{\"colorbar\":{\"outlinewidth\":0,\"ticks\":\"\"}}}],\"scatterpolar\":[{\"type\":\"scatterpolar\",\"marker\":{\"colorbar\":{\"outlinewidth\":0,\"ticks\":\"\"}}}],\"histogram\":[{\"marker\":{\"pattern\":{\"fillmode\":\"overlay\",\"size\":10,\"solidity\":0.2}},\"type\":\"histogram\"}],\"scattergl\":[{\"type\":\"scattergl\",\"marker\":{\"colorbar\":{\"outlinewidth\":0,\"ticks\":\"\"}}}],\"scatter3d\":[{\"type\":\"scatter3d\",\"line\":{\"colorbar\":{\"outlinewidth\":0,\"ticks\":\"\"}},\"marker\":{\"colorbar\":{\"outlinewidth\":0,\"ticks\":\"\"}}}],\"scattermapbox\":[{\"type\":\"scattermapbox\",\"marker\":{\"colorbar\":{\"outlinewidth\":0,\"ticks\":\"\"}}}],\"scatterternary\":[{\"type\":\"scatterternary\",\"marker\":{\"colorbar\":{\"outlinewidth\":0,\"ticks\":\"\"}}}],\"scattercarpet\":[{\"type\":\"scattercarpet\",\"marker\":{\"colorbar\":{\"outlinewidth\":0,\"ticks\":\"\"}}}],\"carpet\":[{\"aaxis\":{\"endlinecolor\":\"#2a3f5f\",\"gridcolor\":\"white\",\"linecolor\":\"white\",\"minorgridcolor\":\"white\",\"startlinecolor\":\"#2a3f5f\"},\"baxis\":{\"endlinecolor\":\"#2a3f5f\",\"gridcolor\":\"white\",\"linecolor\":\"white\",\"minorgridcolor\":\"white\",\"startlinecolor\":\"#2a3f5f\"},\"type\":\"carpet\"}],\"table\":[{\"cells\":{\"fill\":{\"color\":\"#EBF0F8\"},\"line\":{\"color\":\"white\"}},\"header\":{\"fill\":{\"color\":\"#C8D4E3\"},\"line\":{\"color\":\"white\"}},\"type\":\"table\"}],\"barpolar\":[{\"marker\":{\"line\":{\"color\":\"#E5ECF6\",\"width\":0.5},\"pattern\":{\"fillmode\":\"overlay\",\"size\":10,\"solidity\":0.2}},\"type\":\"barpolar\"}],\"pie\":[{\"automargin\":true,\"type\":\"pie\"}]},\"layout\":{\"autotypenumbers\":\"strict\",\"colorway\":[\"#636efa\",\"#EF553B\",\"#00cc96\",\"#ab63fa\",\"#FFA15A\",\"#19d3f3\",\"#FF6692\",\"#B6E880\",\"#FF97FF\",\"#FECB52\"],\"font\":{\"color\":\"#2a3f5f\"},\"hovermode\":\"closest\",\"hoverlabel\":{\"align\":\"left\"},\"paper_bgcolor\":\"white\",\"plot_bgcolor\":\"#E5ECF6\",\"polar\":{\"bgcolor\":\"#E5ECF6\",\"angularaxis\":{\"gridcolor\":\"white\",\"linecolor\":\"white\",\"ticks\":\"\"},\"radialaxis\":{\"gridcolor\":\"white\",\"linecolor\":\"white\",\"ticks\":\"\"}},\"ternary\":{\"bgcolor\":\"#E5ECF6\",\"aaxis\":{\"gridcolor\":\"white\",\"linecolor\":\"white\",\"ticks\":\"\"},\"baxis\":{\"gridcolor\":\"white\",\"linecolor\":\"white\",\"ticks\":\"\"},\"caxis\":{\"gridcolor\":\"white\",\"linecolor\":\"white\",\"ticks\":\"\"}},\"coloraxis\":{\"colorbar\":{\"outlinewidth\":0,\"ticks\":\"\"}},\"colorscale\":{\"sequential\":[[0.0,\"#0d0887\"],[0.1111111111111111,\"#46039f\"],[0.2222222222222222,\"#7201a8\"],[0.3333333333333333,\"#9c179e\"],[0.4444444444444444,\"#bd3786\"],[0.5555555555555556,\"#d8576b\"],[0.6666666666666666,\"#ed7953\"],[0.7777777777777778,\"#fb9f3a\"],[0.8888888888888888,\"#fdca26\"],[1.0,\"#f0f921\"]],\"sequentialminus\":[[0.0,\"#0d0887\"],[0.1111111111111111,\"#46039f\"],[0.2222222222222222,\"#7201a8\"],[0.3333333333333333,\"#9c179e\"],[0.4444444444444444,\"#bd3786\"],[0.5555555555555556,\"#d8576b\"],[0.6666666666666666,\"#ed7953\"],[0.7777777777777778,\"#fb9f3a\"],[0.8888888888888888,\"#fdca26\"],[1.0,\"#f0f921\"]],\"diverging\":[[0,\"#8e0152\"],[0.1,\"#c51b7d\"],[0.2,\"#de77ae\"],[0.3,\"#f1b6da\"],[0.4,\"#fde0ef\"],[0.5,\"#f7f7f7\"],[0.6,\"#e6f5d0\"],[0.7,\"#b8e186\"],[0.8,\"#7fbc41\"],[0.9,\"#4d9221\"],[1,\"#276419\"]]},\"xaxis\":{\"gridcolor\":\"white\",\"linecolor\":\"white\",\"ticks\":\"\",\"title\":{\"standoff\":15},\"zerolinecolor\":\"white\",\"automargin\":true,\"zerolinewidth\":2},\"yaxis\":{\"gridcolor\":\"white\",\"linecolor\":\"white\",\"ticks\":\"\",\"title\":{\"standoff\":15},\"zerolinecolor\":\"white\",\"automargin\":true,\"zerolinewidth\":2},\"scene\":{\"xaxis\":{\"backgroundcolor\":\"#E5ECF6\",\"gridcolor\":\"white\",\"linecolor\":\"white\",\"showbackground\":true,\"ticks\":\"\",\"zerolinecolor\":\"white\",\"gridwidth\":2},\"yaxis\":{\"backgroundcolor\":\"#E5ECF6\",\"gridcolor\":\"white\",\"linecolor\":\"white\",\"showbackground\":true,\"ticks\":\"\",\"zerolinecolor\":\"white\",\"gridwidth\":2},\"zaxis\":{\"backgroundcolor\":\"#E5ECF6\",\"gridcolor\":\"white\",\"linecolor\":\"white\",\"showbackground\":true,\"ticks\":\"\",\"zerolinecolor\":\"white\",\"gridwidth\":2}},\"shapedefaults\":{\"line\":{\"color\":\"#2a3f5f\"}},\"annotationdefaults\":{\"arrowcolor\":\"#2a3f5f\",\"arrowhead\":0,\"arrowwidth\":1},\"geo\":{\"bgcolor\":\"white\",\"landcolor\":\"#E5ECF6\",\"subunitcolor\":\"white\",\"showland\":true,\"showlakes\":true,\"lakecolor\":\"white\"},\"title\":{\"x\":0.05},\"mapbox\":{\"style\":\"light\"}}},\"title\":{\"font\":{\"size\":28,\"family\":\"Arial\"},\"text\":\"Cycle Distribution with Fitted Normal Curve\",\"x\":0.5},\"xaxis\":{\"title\":{\"text\":\"Cycles\",\"font\":{\"size\":20}},\"tickfont\":{\"size\":16},\"gridcolor\":\"lightgray\"},\"yaxis\":{\"title\":{\"text\":\"Density\",\"font\":{\"size\":20}},\"tickfont\":{\"size\":16},\"gridcolor\":\"lightgray\"},\"legend\":{\"font\":{\"size\":16},\"x\":0.65,\"y\":0.95,\"bgcolor\":\"rgba(255,255,255,0.5)\",\"bordercolor\":\"gray\",\"borderwidth\":1},\"margin\":{\"l\":80,\"r\":40,\"t\":100,\"b\":70},\"plot_bgcolor\":\"white\",\"width\":1200,\"height\":700},                        {\"responsive\": true}                    ).then(function(){\n",
              "                            \n",
              "var gd = document.getElementById('6750aba4-eb96-4486-ab15-5b6c29f6b4e6');\n",
              "var x = new MutationObserver(function (mutations, observer) {{\n",
              "        var display = window.getComputedStyle(gd).display;\n",
              "        if (!display || display === 'none') {{\n",
              "            console.log([gd, 'removed!']);\n",
              "            Plotly.purge(gd);\n",
              "            observer.disconnect();\n",
              "        }}\n",
              "}});\n",
              "\n",
              "// Listen for the removal of the full notebook cells\n",
              "var notebookContainer = gd.closest('#notebook-container');\n",
              "if (notebookContainer) {{\n",
              "    x.observe(notebookContainer, {childList: true});\n",
              "}}\n",
              "\n",
              "// Listen for the clearing of the current output cell\n",
              "var outputEl = gd.closest('.output');\n",
              "if (outputEl) {{\n",
              "    x.observe(outputEl, {childList: true});\n",
              "}}\n",
              "\n",
              "                        })                };                            </script>        </div>\n",
              "</body>\n",
              "</html>"
            ]
          },
          "metadata": {}
        }
      ]
    },
    {
      "cell_type": "code",
      "source": [
        "import numpy as np\n",
        "import seaborn as sns\n",
        "import plotly.graph_objects as go\n",
        "from scipy.stats import norm\n",
        "\n",
        "cycles_ar = init_df['cycles'].values\n",
        "sorted_cycles_ar = np.sort(cycles_ar)\n",
        "pdf_resampled_pdf = norm.pdf(sorted_cycles_ar,np.mean(sorted_cycles_ar),np.std(sorted_cycles_ar))\n",
        "\n",
        "\n",
        "# Plot in Plotly\n",
        "fig = go.Figure()\n",
        "\n",
        "# Histogram (density normalized)\n",
        "\n",
        "fig.add_trace(go.Histogram(\n",
        "    x=cycles_ar,\n",
        "    nbinsx=15,\n",
        "    histnorm='probability density',\n",
        "    opacity=0.7,\n",
        "    name='Test Split Histogram',\n",
        "    marker_color='green'\n",
        "))\n",
        "\n",
        "# KDE Line (scaled)\n",
        "fig.add_trace(go.Scatter(\n",
        "    x=sorted_cycles_ar ,\n",
        "    y=pdf_resampled_pdf,\n",
        "    mode='lines',\n",
        "    name='Test Split PDF',\n",
        "    line=dict(color='red',width=5)\n",
        "))\n",
        "\n",
        "fig.update_layout(\n",
        "    title=\"Probability density Histogram with KDE line\",\n",
        "    xaxis_title=\"Cycles\",\n",
        "    yaxis_title=\"Density\",\n",
        "    showlegend=False,\n",
        "    height=600,\n",
        "    width=1000\n",
        ")\n",
        "\n",
        "fig.update_xaxes(title_text=\"Cycles\")\n",
        "fig.update_yaxes(title_text=\"Density\")\n",
        "fig.show()"
      ],
      "metadata": {
        "colab": {
          "base_uri": "https://localhost:8080/",
          "height": 617
        },
        "id": "hbtdJJqDvqKR",
        "outputId": "e970ca68-c75d-4de2-a55d-c4d84124a3e1"
      },
      "execution_count": 7,
      "outputs": [
        {
          "output_type": "display_data",
          "data": {
            "text/html": [
              "<html>\n",
              "<head><meta charset=\"utf-8\" /></head>\n",
              "<body>\n",
              "    <div>            <script src=\"https://cdnjs.cloudflare.com/ajax/libs/mathjax/2.7.5/MathJax.js?config=TeX-AMS-MML_SVG\"></script><script type=\"text/javascript\">if (window.MathJax && window.MathJax.Hub && window.MathJax.Hub.Config) {window.MathJax.Hub.Config({SVG: {font: \"STIX-Web\"}});}</script>                <script type=\"text/javascript\">window.PlotlyConfig = {MathJaxConfig: 'local'};</script>\n",
              "        <script charset=\"utf-8\" src=\"https://cdn.plot.ly/plotly-2.35.2.min.js\"></script>                <div id=\"8cd9df26-3e27-48fa-849a-c9137f83955a\" class=\"plotly-graph-div\" style=\"height:600px; width:1000px;\"></div>            <script type=\"text/javascript\">                                    window.PLOTLYENV=window.PLOTLYENV || {};                                    if (document.getElementById(\"8cd9df26-3e27-48fa-849a-c9137f83955a\")) {                    Plotly.newPlot(                        \"8cd9df26-3e27-48fa-849a-c9137f83955a\",                        [{\"histnorm\":\"probability density\",\"marker\":{\"color\":\"green\"},\"name\":\"Test Split Histogram\",\"nbinsx\":15,\"opacity\":0.7,\"x\":[860,481,875,527,1637,487,922,1314,616,617,300,625,771,876,2237,494,477,492,742,702,988,854,483,540,651,1852,648,480,461,1047,1157,509,457,1077,489,1062,703,931,1145,731,1014,730,1038,519,459,757,429,487,1027,870,2160,1017,498,812,827,816,1054,438,1051,1709,815,636,966,1835,795,599,495,502,1001,870,1435,666,1155,561,788,842,934,468,534,1154,857,478,849,465,1114,1074,461,824,713,429,857,466,857,827,535,785,520,463,939,485,513,1283,462,499,559,719,788,499,335,880,458,1092,862,704,709,1934,444,511,471,1008,917,1800],\"type\":\"histogram\"},{\"line\":{\"color\":\"red\",\"width\":5},\"mode\":\"lines\",\"name\":\"Test Split PDF\",\"x\":[300,335,429,429,438,444,457,458,459,461,461,462,463,465,466,468,471,477,478,480,481,483,485,487,487,489,492,494,495,498,499,499,502,509,511,513,519,520,527,534,535,540,559,561,599,616,617,625,636,648,651,666,702,703,704,709,713,719,730,731,742,757,771,785,788,788,795,812,815,816,824,827,827,842,849,854,857,857,857,860,862,870,870,875,876,880,917,922,931,934,939,966,988,1001,1008,1014,1017,1027,1038,1047,1051,1054,1062,1074,1077,1092,1114,1145,1154,1155,1157,1283,1314,1435,1637,1709,1800,1835,1852,1934,2160,2237],\"y\":[0.000426842603509551,0.0004818153320515364,0.0006391263495527506,0.0006391263495527506,0.0006545057857864278,0.0006647524909853529,0.0006869079511837247,0.0006886084490523551,0.000690308281187232,0.0006937058454721742,0.0006937058454721742,0.0006954035261094692,0.0006971004379886879,0.0007004918519281813,0.000702186302101243,0.0007055725587979439,0.0007106449432331018,0.0007207619135766727,0.0007224441644058804,0.0007258050757016013,0.000727483683057291,0.000730837068142077,0.0007341851692684186,0.0007375277726257885,0.0007375277726257885,0.0007408646638941988,0.0007458588206107598,0.0007491804908620468,0.0007508389147860991,0.0007558042173188188,0.0007574559048203137,0.0007574559048203137,0.0007624003475475371,0.000773871941471906,0.0007771317312413028,0.0007803832054979078,0.0007900855454069251,0.0007916947189233638,0.0008028922838026384,0.0008139664846774272,0.0008155378936167872,0.0008233533299515065,0.0008523675117194821,0.0008553536252534891,0.0009092263066056638,0.0009313331448909641,0.0009325908784333663,0.0009424744253878313,0.0009555300666711007,0.0009690340013784707,0.0009722851807136023,0.0009877631839719766,0.001019293056618844,0.001020049818458167,0.0010207999325164516,0.0010244502485663419,0.0010272492964666442,0.001031243690135192,0.0010379214978773154,0.0010384867032925684,0.0010442374411526185,0.0010506826868136533,0.001055220152177352,0.0010583111896456884,0.0010587840289525048,0.0010587840289525048,0.001059626176230064,0.0010601456317149327,0.0010600127063942104,0.0010599534292846302,0.0010592099856991301,0.001058807933903399,0.001058807933903399,0.0010557928217922387,0.0010538154591188942,0.0010521823638772968,0.001051114633498841,0.001051114633498841,0.001051114633498841,0.0010499812431790337,0.0010491892774588869,0.0010457319142164205,0.0010457319142164205,0.0010433373372456065,0.0010428369842721999,0.001040764462095777,0.001016328688998465,0.0010123198637783703,0.0010046966445370733,0.0010020409536409785,0.0009974894830284322,0.0009703014177277057,0.0009450923888439818,0.0009290111950551337,0.0009200107710654777,0.0009121142840655134,0.0009081049042684769,0.0008944564377097913,0.0008789626327292443,0.0008659351178604364,0.0008600493153127557,0.0008555977802183945,0.0008435771501303658,0.0008251624755324605,0.0008204915668726767,0.0007967705897687406,0.0007610240151097458,0.0007092322051001391,0.0006939842053724926,0.0006922859018287923,0.0006888871563630682,0.0004772624544050087,0.00042862531215207364,0.0002640404967267132,0.00009340021039103681,0.000060148471440641836,0.00003272784884466672,0.000025497493627932106,0.000022515449476743894,0.00001200821676382043,1.660749244269943e-6,7.794620762564376e-7],\"type\":\"scatter\"}],                        {\"template\":{\"data\":{\"histogram2dcontour\":[{\"type\":\"histogram2dcontour\",\"colorbar\":{\"outlinewidth\":0,\"ticks\":\"\"},\"colorscale\":[[0.0,\"#0d0887\"],[0.1111111111111111,\"#46039f\"],[0.2222222222222222,\"#7201a8\"],[0.3333333333333333,\"#9c179e\"],[0.4444444444444444,\"#bd3786\"],[0.5555555555555556,\"#d8576b\"],[0.6666666666666666,\"#ed7953\"],[0.7777777777777778,\"#fb9f3a\"],[0.8888888888888888,\"#fdca26\"],[1.0,\"#f0f921\"]]}],\"choropleth\":[{\"type\":\"choropleth\",\"colorbar\":{\"outlinewidth\":0,\"ticks\":\"\"}}],\"histogram2d\":[{\"type\":\"histogram2d\",\"colorbar\":{\"outlinewidth\":0,\"ticks\":\"\"},\"colorscale\":[[0.0,\"#0d0887\"],[0.1111111111111111,\"#46039f\"],[0.2222222222222222,\"#7201a8\"],[0.3333333333333333,\"#9c179e\"],[0.4444444444444444,\"#bd3786\"],[0.5555555555555556,\"#d8576b\"],[0.6666666666666666,\"#ed7953\"],[0.7777777777777778,\"#fb9f3a\"],[0.8888888888888888,\"#fdca26\"],[1.0,\"#f0f921\"]]}],\"heatmap\":[{\"type\":\"heatmap\",\"colorbar\":{\"outlinewidth\":0,\"ticks\":\"\"},\"colorscale\":[[0.0,\"#0d0887\"],[0.1111111111111111,\"#46039f\"],[0.2222222222222222,\"#7201a8\"],[0.3333333333333333,\"#9c179e\"],[0.4444444444444444,\"#bd3786\"],[0.5555555555555556,\"#d8576b\"],[0.6666666666666666,\"#ed7953\"],[0.7777777777777778,\"#fb9f3a\"],[0.8888888888888888,\"#fdca26\"],[1.0,\"#f0f921\"]]}],\"heatmapgl\":[{\"type\":\"heatmapgl\",\"colorbar\":{\"outlinewidth\":0,\"ticks\":\"\"},\"colorscale\":[[0.0,\"#0d0887\"],[0.1111111111111111,\"#46039f\"],[0.2222222222222222,\"#7201a8\"],[0.3333333333333333,\"#9c179e\"],[0.4444444444444444,\"#bd3786\"],[0.5555555555555556,\"#d8576b\"],[0.6666666666666666,\"#ed7953\"],[0.7777777777777778,\"#fb9f3a\"],[0.8888888888888888,\"#fdca26\"],[1.0,\"#f0f921\"]]}],\"contourcarpet\":[{\"type\":\"contourcarpet\",\"colorbar\":{\"outlinewidth\":0,\"ticks\":\"\"}}],\"contour\":[{\"type\":\"contour\",\"colorbar\":{\"outlinewidth\":0,\"ticks\":\"\"},\"colorscale\":[[0.0,\"#0d0887\"],[0.1111111111111111,\"#46039f\"],[0.2222222222222222,\"#7201a8\"],[0.3333333333333333,\"#9c179e\"],[0.4444444444444444,\"#bd3786\"],[0.5555555555555556,\"#d8576b\"],[0.6666666666666666,\"#ed7953\"],[0.7777777777777778,\"#fb9f3a\"],[0.8888888888888888,\"#fdca26\"],[1.0,\"#f0f921\"]]}],\"surface\":[{\"type\":\"surface\",\"colorbar\":{\"outlinewidth\":0,\"ticks\":\"\"},\"colorscale\":[[0.0,\"#0d0887\"],[0.1111111111111111,\"#46039f\"],[0.2222222222222222,\"#7201a8\"],[0.3333333333333333,\"#9c179e\"],[0.4444444444444444,\"#bd3786\"],[0.5555555555555556,\"#d8576b\"],[0.6666666666666666,\"#ed7953\"],[0.7777777777777778,\"#fb9f3a\"],[0.8888888888888888,\"#fdca26\"],[1.0,\"#f0f921\"]]}],\"mesh3d\":[{\"type\":\"mesh3d\",\"colorbar\":{\"outlinewidth\":0,\"ticks\":\"\"}}],\"scatter\":[{\"fillpattern\":{\"fillmode\":\"overlay\",\"size\":10,\"solidity\":0.2},\"type\":\"scatter\"}],\"parcoords\":[{\"type\":\"parcoords\",\"line\":{\"colorbar\":{\"outlinewidth\":0,\"ticks\":\"\"}}}],\"scatterpolargl\":[{\"type\":\"scatterpolargl\",\"marker\":{\"colorbar\":{\"outlinewidth\":0,\"ticks\":\"\"}}}],\"bar\":[{\"error_x\":{\"color\":\"#2a3f5f\"},\"error_y\":{\"color\":\"#2a3f5f\"},\"marker\":{\"line\":{\"color\":\"#E5ECF6\",\"width\":0.5},\"pattern\":{\"fillmode\":\"overlay\",\"size\":10,\"solidity\":0.2}},\"type\":\"bar\"}],\"scattergeo\":[{\"type\":\"scattergeo\",\"marker\":{\"colorbar\":{\"outlinewidth\":0,\"ticks\":\"\"}}}],\"scatterpolar\":[{\"type\":\"scatterpolar\",\"marker\":{\"colorbar\":{\"outlinewidth\":0,\"ticks\":\"\"}}}],\"histogram\":[{\"marker\":{\"pattern\":{\"fillmode\":\"overlay\",\"size\":10,\"solidity\":0.2}},\"type\":\"histogram\"}],\"scattergl\":[{\"type\":\"scattergl\",\"marker\":{\"colorbar\":{\"outlinewidth\":0,\"ticks\":\"\"}}}],\"scatter3d\":[{\"type\":\"scatter3d\",\"line\":{\"colorbar\":{\"outlinewidth\":0,\"ticks\":\"\"}},\"marker\":{\"colorbar\":{\"outlinewidth\":0,\"ticks\":\"\"}}}],\"scattermapbox\":[{\"type\":\"scattermapbox\",\"marker\":{\"colorbar\":{\"outlinewidth\":0,\"ticks\":\"\"}}}],\"scatterternary\":[{\"type\":\"scatterternary\",\"marker\":{\"colorbar\":{\"outlinewidth\":0,\"ticks\":\"\"}}}],\"scattercarpet\":[{\"type\":\"scattercarpet\",\"marker\":{\"colorbar\":{\"outlinewidth\":0,\"ticks\":\"\"}}}],\"carpet\":[{\"aaxis\":{\"endlinecolor\":\"#2a3f5f\",\"gridcolor\":\"white\",\"linecolor\":\"white\",\"minorgridcolor\":\"white\",\"startlinecolor\":\"#2a3f5f\"},\"baxis\":{\"endlinecolor\":\"#2a3f5f\",\"gridcolor\":\"white\",\"linecolor\":\"white\",\"minorgridcolor\":\"white\",\"startlinecolor\":\"#2a3f5f\"},\"type\":\"carpet\"}],\"table\":[{\"cells\":{\"fill\":{\"color\":\"#EBF0F8\"},\"line\":{\"color\":\"white\"}},\"header\":{\"fill\":{\"color\":\"#C8D4E3\"},\"line\":{\"color\":\"white\"}},\"type\":\"table\"}],\"barpolar\":[{\"marker\":{\"line\":{\"color\":\"#E5ECF6\",\"width\":0.5},\"pattern\":{\"fillmode\":\"overlay\",\"size\":10,\"solidity\":0.2}},\"type\":\"barpolar\"}],\"pie\":[{\"automargin\":true,\"type\":\"pie\"}]},\"layout\":{\"autotypenumbers\":\"strict\",\"colorway\":[\"#636efa\",\"#EF553B\",\"#00cc96\",\"#ab63fa\",\"#FFA15A\",\"#19d3f3\",\"#FF6692\",\"#B6E880\",\"#FF97FF\",\"#FECB52\"],\"font\":{\"color\":\"#2a3f5f\"},\"hovermode\":\"closest\",\"hoverlabel\":{\"align\":\"left\"},\"paper_bgcolor\":\"white\",\"plot_bgcolor\":\"#E5ECF6\",\"polar\":{\"bgcolor\":\"#E5ECF6\",\"angularaxis\":{\"gridcolor\":\"white\",\"linecolor\":\"white\",\"ticks\":\"\"},\"radialaxis\":{\"gridcolor\":\"white\",\"linecolor\":\"white\",\"ticks\":\"\"}},\"ternary\":{\"bgcolor\":\"#E5ECF6\",\"aaxis\":{\"gridcolor\":\"white\",\"linecolor\":\"white\",\"ticks\":\"\"},\"baxis\":{\"gridcolor\":\"white\",\"linecolor\":\"white\",\"ticks\":\"\"},\"caxis\":{\"gridcolor\":\"white\",\"linecolor\":\"white\",\"ticks\":\"\"}},\"coloraxis\":{\"colorbar\":{\"outlinewidth\":0,\"ticks\":\"\"}},\"colorscale\":{\"sequential\":[[0.0,\"#0d0887\"],[0.1111111111111111,\"#46039f\"],[0.2222222222222222,\"#7201a8\"],[0.3333333333333333,\"#9c179e\"],[0.4444444444444444,\"#bd3786\"],[0.5555555555555556,\"#d8576b\"],[0.6666666666666666,\"#ed7953\"],[0.7777777777777778,\"#fb9f3a\"],[0.8888888888888888,\"#fdca26\"],[1.0,\"#f0f921\"]],\"sequentialminus\":[[0.0,\"#0d0887\"],[0.1111111111111111,\"#46039f\"],[0.2222222222222222,\"#7201a8\"],[0.3333333333333333,\"#9c179e\"],[0.4444444444444444,\"#bd3786\"],[0.5555555555555556,\"#d8576b\"],[0.6666666666666666,\"#ed7953\"],[0.7777777777777778,\"#fb9f3a\"],[0.8888888888888888,\"#fdca26\"],[1.0,\"#f0f921\"]],\"diverging\":[[0,\"#8e0152\"],[0.1,\"#c51b7d\"],[0.2,\"#de77ae\"],[0.3,\"#f1b6da\"],[0.4,\"#fde0ef\"],[0.5,\"#f7f7f7\"],[0.6,\"#e6f5d0\"],[0.7,\"#b8e186\"],[0.8,\"#7fbc41\"],[0.9,\"#4d9221\"],[1,\"#276419\"]]},\"xaxis\":{\"gridcolor\":\"white\",\"linecolor\":\"white\",\"ticks\":\"\",\"title\":{\"standoff\":15},\"zerolinecolor\":\"white\",\"automargin\":true,\"zerolinewidth\":2},\"yaxis\":{\"gridcolor\":\"white\",\"linecolor\":\"white\",\"ticks\":\"\",\"title\":{\"standoff\":15},\"zerolinecolor\":\"white\",\"automargin\":true,\"zerolinewidth\":2},\"scene\":{\"xaxis\":{\"backgroundcolor\":\"#E5ECF6\",\"gridcolor\":\"white\",\"linecolor\":\"white\",\"showbackground\":true,\"ticks\":\"\",\"zerolinecolor\":\"white\",\"gridwidth\":2},\"yaxis\":{\"backgroundcolor\":\"#E5ECF6\",\"gridcolor\":\"white\",\"linecolor\":\"white\",\"showbackground\":true,\"ticks\":\"\",\"zerolinecolor\":\"white\",\"gridwidth\":2},\"zaxis\":{\"backgroundcolor\":\"#E5ECF6\",\"gridcolor\":\"white\",\"linecolor\":\"white\",\"showbackground\":true,\"ticks\":\"\",\"zerolinecolor\":\"white\",\"gridwidth\":2}},\"shapedefaults\":{\"line\":{\"color\":\"#2a3f5f\"}},\"annotationdefaults\":{\"arrowcolor\":\"#2a3f5f\",\"arrowhead\":0,\"arrowwidth\":1},\"geo\":{\"bgcolor\":\"white\",\"landcolor\":\"#E5ECF6\",\"subunitcolor\":\"white\",\"showland\":true,\"showlakes\":true,\"lakecolor\":\"white\"},\"title\":{\"x\":0.05},\"mapbox\":{\"style\":\"light\"}}},\"title\":{\"text\":\"Probability density Histogram with KDE line\"},\"xaxis\":{\"title\":{\"text\":\"Cycles\"}},\"yaxis\":{\"title\":{\"text\":\"Density\"}},\"showlegend\":false,\"height\":600,\"width\":1000},                        {\"responsive\": true}                    ).then(function(){\n",
              "                            \n",
              "var gd = document.getElementById('8cd9df26-3e27-48fa-849a-c9137f83955a');\n",
              "var x = new MutationObserver(function (mutations, observer) {{\n",
              "        var display = window.getComputedStyle(gd).display;\n",
              "        if (!display || display === 'none') {{\n",
              "            console.log([gd, 'removed!']);\n",
              "            Plotly.purge(gd);\n",
              "            observer.disconnect();\n",
              "        }}\n",
              "}});\n",
              "\n",
              "// Listen for the removal of the full notebook cells\n",
              "var notebookContainer = gd.closest('#notebook-container');\n",
              "if (notebookContainer) {{\n",
              "    x.observe(notebookContainer, {childList: true});\n",
              "}}\n",
              "\n",
              "// Listen for the clearing of the current output cell\n",
              "var outputEl = gd.closest('.output');\n",
              "if (outputEl) {{\n",
              "    x.observe(outputEl, {childList: true});\n",
              "}}\n",
              "\n",
              "                        })                };                            </script>        </div>\n",
              "</body>\n",
              "</html>"
            ]
          },
          "metadata": {}
        }
      ]
    },
    {
      "cell_type": "markdown",
      "source": [
        "# **Official_data for Figure 2_C**"
      ],
      "metadata": {
        "id": "PFQkMFOZxri9"
      }
    },
    {
      "cell_type": "code",
      "source": [
        "var_ar =  init_df['var_DQ_100_10'].values\n",
        "cmap1 = plt.get_cmap('coolwarm')\n",
        "cycles_ar = init_df['cycles'].values\n",
        "\n",
        "colors_2_c = [cmap1(1-(x - min(cycles_ar)) / (max(cycles_ar) - min(cycles_ar))) for x in cycles_ar]\n",
        "plotly_colors = [f'rgba({int(color[0]*255)}, {int(color[1]*255)}, {int(color[2]*255)}, 1)' for color in colors_2_c]\n",
        "\n",
        "fig_2c_ex = go.Figure()\n",
        "fig_2c_ex.add_trace(go.Scatter(x=var_ar,\n",
        "                          y=cycles_ar,\n",
        "\n",
        "  mode='markers',marker=dict(size=22,color=plotly_colors,\n",
        "            opacity=1, )))\n",
        "fig_2c_ex.update_layout( yaxis = dict(type='log',title = 'Cycle life',range=[2,4]),\n",
        "                  xaxis=dict( range = [-8,-1], # define the range of x-axis range=[-0.002,0.]\n",
        "                            title='Var ΔQ100_10(V)',  # optional title\n",
        "                             type='log'\n",
        "                             ))\n",
        "fig_2c_ex.show()\n",
        "# CALCULATION OF PEARSON CORRELATION FOR LOG SCALE\n",
        "cycle_ar_log_scale = np.array([np.log10(c_l) for c_l in cycles_ar])\n",
        "var_ar_log_scale = np.array([np.log10(va) for va in var_ar])\n",
        "pear_2C = np.corrcoef(var_ar_log_scale,cycle_ar_log_scale)[0,1]\n",
        "print(f\" The pearson correlation is {pear_2C}\")"
      ],
      "metadata": {
        "colab": {
          "base_uri": "https://localhost:8080/",
          "height": 559
        },
        "id": "Ou1h1oDBsSa0",
        "outputId": "7335cc98-17b6-446a-ce0a-033ef3e7cb56"
      },
      "execution_count": 8,
      "outputs": [
        {
          "output_type": "display_data",
          "data": {
            "text/html": [
              "<html>\n",
              "<head><meta charset=\"utf-8\" /></head>\n",
              "<body>\n",
              "    <div>            <script src=\"https://cdnjs.cloudflare.com/ajax/libs/mathjax/2.7.5/MathJax.js?config=TeX-AMS-MML_SVG\"></script><script type=\"text/javascript\">if (window.MathJax && window.MathJax.Hub && window.MathJax.Hub.Config) {window.MathJax.Hub.Config({SVG: {font: \"STIX-Web\"}});}</script>                <script type=\"text/javascript\">window.PlotlyConfig = {MathJaxConfig: 'local'};</script>\n",
              "        <script charset=\"utf-8\" src=\"https://cdn.plot.ly/plotly-2.35.2.min.js\"></script>                <div id=\"c4b18f92-7da2-47d6-a8c9-26c172aea4fb\" class=\"plotly-graph-div\" style=\"height:525px; width:100%;\"></div>            <script type=\"text/javascript\">                                    window.PLOTLYENV=window.PLOTLYENV || {};                                    if (document.getElementById(\"c4b18f92-7da2-47d6-a8c9-26c172aea4fb\")) {                    Plotly.newPlot(                        \"c4b18f92-7da2-47d6-a8c9-26c172aea4fb\",                        [{\"marker\":{\"color\":[\"rgba(246, 169, 138, 1)\",\"rgba(211, 77, 64, 1)\",\"rgba(246, 170, 140, 1)\",\"rgba(219, 92, 74, 1)\",\"rgba(162, 192, 254, 1)\",\"rgba(212, 79, 66, 1)\",\"rgba(247, 179, 151, 1)\",\"rgba(214, 219, 228, 1)\",\"rgba(230, 114, 89, 1)\",\"rgba(230, 114, 89, 1)\",\"rgba(179, 3, 38, 1)\",\"rgba(230, 116, 90, 1)\",\"rgba(243, 150, 120, 1)\",\"rgba(246, 171, 141, 1)\",\"rgba(58, 76, 192, 1)\",\"rgba(214, 82, 67, 1)\",\"rgba(211, 77, 64, 1)\",\"rgba(214, 82, 67, 1)\",\"rgba(241, 144, 114, 1)\",\"rgba(238, 135, 106, 1)\",\"rgba(246, 189, 164, 1)\",\"rgba(246, 167, 137, 1)\",\"rgba(212, 79, 66, 1)\",\"rgba(220, 94, 75, 1)\",\"rgba(234, 123, 96, 1)\",\"rgba(122, 157, 248, 1)\",\"rgba(233, 121, 94, 1)\",\"rgba(211, 77, 64, 1)\",\"rgba(209, 73, 62, 1)\",\"rgba(243, 198, 176, 1)\",\"rgba(234, 211, 199, 1)\",\"rgba(216, 86, 70, 1)\",\"rgba(207, 70, 61, 1)\",\"rgba(241, 202, 182, 1)\",\"rgba(212, 79, 66, 1)\",\"rgba(242, 200, 179, 1)\",\"rgba(238, 135, 106, 1)\",\"rgba(247, 181, 152, 1)\",\"rgba(236, 210, 196, 1)\",\"rgba(240, 141, 111, 1)\",\"rgba(244, 194, 170, 1)\",\"rgba(240, 141, 111, 1)\",\"rgba(243, 197, 175, 1)\",\"rgba(217, 88, 71, 1)\",\"rgba(209, 73, 62, 1)\",\"rgba(242, 147, 117, 1)\",\"rgba(204, 63, 57, 1)\",\"rgba(212, 79, 66, 1)\",\"rgba(244, 196, 173, 1)\",\"rgba(246, 170, 140, 1)\",\"rgba(70, 93, 207, 1)\",\"rgba(244, 194, 170, 1)\",\"rgba(215, 84, 68, 1)\",\"rgba(245, 158, 127, 1)\",\"rgba(245, 161, 130, 1)\",\"rgba(245, 160, 129, 1)\",\"rgba(242, 199, 178, 1)\",\"rgba(205, 66, 58, 1)\",\"rgba(242, 199, 178, 1)\",\"rgba(148, 181, 254, 1)\",\"rgba(245, 160, 129, 1)\",\"rgba(232, 119, 93, 1)\",\"rgba(246, 187, 160, 1)\",\"rgba(126, 161, 249, 1)\",\"rgba(244, 155, 124, 1)\",\"rgba(228, 110, 86, 1)\",\"rgba(214, 82, 67, 1)\",\"rgba(215, 84, 68, 1)\",\"rgba(245, 192, 167, 1)\",\"rgba(246, 170, 140, 1)\",\"rgba(195, 213, 242, 1)\",\"rgba(235, 127, 99, 1)\",\"rgba(235, 211, 198, 1)\",\"rgba(223, 100, 79, 1)\",\"rgba(244, 154, 123, 1)\",\"rgba(246, 164, 134, 1)\",\"rgba(247, 181, 152, 1)\",\"rgba(210, 75, 63, 1)\",\"rgba(219, 92, 74, 1)\",\"rgba(235, 211, 198, 1)\",\"rgba(246, 167, 137, 1)\",\"rgba(211, 77, 64, 1)\",\"rgba(246, 166, 135, 1)\",\"rgba(209, 73, 62, 1)\",\"rgba(238, 207, 190, 1)\",\"rgba(241, 202, 182, 1)\",\"rgba(209, 73, 62, 1)\",\"rgba(245, 161, 130, 1)\",\"rgba(239, 137, 108, 1)\",\"rgba(204, 63, 57, 1)\",\"rgba(246, 167, 137, 1)\",\"rgba(209, 73, 62, 1)\",\"rgba(246, 167, 137, 1)\",\"rgba(245, 161, 130, 1)\",\"rgba(220, 94, 75, 1)\",\"rgba(244, 154, 123, 1)\",\"rgba(218, 90, 72, 1)\",\"rgba(209, 73, 62, 1)\",\"rgba(246, 182, 154, 1)\",\"rgba(212, 79, 66, 1)\",\"rgba(217, 88, 71, 1)\",\"rgba(219, 220, 222, 1)\",\"rgba(209, 73, 62, 1)\",\"rgba(215, 84, 68, 1)\",\"rgba(223, 100, 79, 1)\",\"rgba(240, 139, 109, 1)\",\"rgba(244, 154, 123, 1)\",\"rgba(215, 84, 68, 1)\",\"rgba(185, 22, 42, 1)\",\"rgba(246, 171, 141, 1)\",\"rgba(207, 70, 61, 1)\",\"rgba(240, 204, 185, 1)\",\"rgba(246, 169, 138, 1)\",\"rgba(238, 135, 106, 1)\",\"rgba(239, 137, 108, 1)\",\"rgba(108, 142, 241, 1)\",\"rgba(206, 68, 60, 1)\",\"rgba(216, 86, 70, 1)\",\"rgba(210, 75, 63, 1)\",\"rgba(245, 193, 168, 1)\",\"rgba(247, 178, 149, 1)\",\"rgba(131, 166, 251, 1)\"],\"opacity\":1,\"size\":22},\"mode\":\"markers\",\"x\":[0.0002551199106691,0.0004262533199111,0.0001696652344263,0.0005383344101772,0.00003421259625922551,0.0003586402239838,0.0001000776556534,0.00006529784614782511,0.000670131784286,0.0006523778281818,0.0036090261942944,0.0005646956957601,0.00037709991617,0.0003014459197359,0.00003072827001866165,0.0006408615719679,0.0006346952183255,0.0004148585868187,0.0002216545222525,0.0003820020074154,0.0001220097904366,0.0001617490661517,0.0012388639050327,0.0006867653752227,0.0003660030320521,0.000013166985819584313,0.0003725814929337,0.0004427974702929,0.000620878161153,0.0001171434165707,0.00008691547617177888,0.0005415618457069,0.0006026223608685,0.00007633142186103228,0.0005257461831965,0.00009068692760753768,0.0003010889678115,0.0001927991859167,0.000102428062402,0.0004021175068225,0.0001608563764865,0.0002497051523668,0.0001814697199675,0.0005688680152197,0.0005317636526893,0.0003785578104873,0.0007482616860838,0.0005163684762065,0.0001098798357107,0.0002851807932326,0.000016670040651974474,0.0002010694847762,0.0003283655449577,0.0001506347246938,0.0001277759215053,0.0002330769661579,0.000150864056696,0.0005823358784704,0.0001492904257791,0.000036176707279826266,0.000132954958998,0.0002976618815995,0.0001580638075387,0.00005572648466230889,0.00008457527531911605,0.0006631071840214,0.0003590229167606,0.0003263286329229,0.0001500080120277,0.0002871047949882,0.00006198452150838649,0.0005581995300465,0.00005408233870238674,0.0004162390593556,0.0001074421981312,0.0002502357670203,0.0001402653749428,0.0004818710788508,0.0008195508653601,0.0001223129598522,0.0001709567894211,0.0005105226944644,0.0001247391951939,0.0004867764921518,0.0001368484952558,0.0001126008714953,0.0009034134486792,0.0001118780930063,0.0001206264742559,0.0006350818795709,0.0001447935385483,0.0004414726028192,0.0001810668985058,0.0001355264269566,0.0004631355443598,0.00009887106336720694,0.0003509957964162,0.0005385871456543,0.0001246856078716,0.0005659457220908,0.0004976470951526,0.00007089195806164241,0.0006932129636414,0.0003228512639629,0.0008466331557373,0.0001521203843866,0.0004223258115013,0.000480702314975,0.002210921257898,0.0001491425362017,0.0008769541114241,0.0001023647856781,0.0001351053853179,0.0003804553165685,0.0003197243148822,0.00007339646968058777,0.0008347258318002,0.0010557223884543,0.0006886608583994,0.00009367251920788194,0.0002561596314825,0.000052342341119870165],\"y\":[860,481,875,527,1637,487,922,1314,616,617,300,625,771,876,2237,494,477,492,742,702,988,854,483,540,651,1852,648,480,461,1047,1157,509,457,1077,489,1062,703,931,1145,731,1014,730,1038,519,459,757,429,487,1027,870,2160,1017,498,812,827,816,1054,438,1051,1709,815,636,966,1835,795,599,495,502,1001,870,1435,666,1155,561,788,842,934,468,534,1154,857,478,849,465,1114,1074,461,824,713,429,857,466,857,827,535,785,520,463,939,485,513,1283,462,499,559,719,788,499,335,880,458,1092,862,704,709,1934,444,511,471,1008,917,1800],\"type\":\"scatter\"}],                        {\"template\":{\"data\":{\"histogram2dcontour\":[{\"type\":\"histogram2dcontour\",\"colorbar\":{\"outlinewidth\":0,\"ticks\":\"\"},\"colorscale\":[[0.0,\"#0d0887\"],[0.1111111111111111,\"#46039f\"],[0.2222222222222222,\"#7201a8\"],[0.3333333333333333,\"#9c179e\"],[0.4444444444444444,\"#bd3786\"],[0.5555555555555556,\"#d8576b\"],[0.6666666666666666,\"#ed7953\"],[0.7777777777777778,\"#fb9f3a\"],[0.8888888888888888,\"#fdca26\"],[1.0,\"#f0f921\"]]}],\"choropleth\":[{\"type\":\"choropleth\",\"colorbar\":{\"outlinewidth\":0,\"ticks\":\"\"}}],\"histogram2d\":[{\"type\":\"histogram2d\",\"colorbar\":{\"outlinewidth\":0,\"ticks\":\"\"},\"colorscale\":[[0.0,\"#0d0887\"],[0.1111111111111111,\"#46039f\"],[0.2222222222222222,\"#7201a8\"],[0.3333333333333333,\"#9c179e\"],[0.4444444444444444,\"#bd3786\"],[0.5555555555555556,\"#d8576b\"],[0.6666666666666666,\"#ed7953\"],[0.7777777777777778,\"#fb9f3a\"],[0.8888888888888888,\"#fdca26\"],[1.0,\"#f0f921\"]]}],\"heatmap\":[{\"type\":\"heatmap\",\"colorbar\":{\"outlinewidth\":0,\"ticks\":\"\"},\"colorscale\":[[0.0,\"#0d0887\"],[0.1111111111111111,\"#46039f\"],[0.2222222222222222,\"#7201a8\"],[0.3333333333333333,\"#9c179e\"],[0.4444444444444444,\"#bd3786\"],[0.5555555555555556,\"#d8576b\"],[0.6666666666666666,\"#ed7953\"],[0.7777777777777778,\"#fb9f3a\"],[0.8888888888888888,\"#fdca26\"],[1.0,\"#f0f921\"]]}],\"heatmapgl\":[{\"type\":\"heatmapgl\",\"colorbar\":{\"outlinewidth\":0,\"ticks\":\"\"},\"colorscale\":[[0.0,\"#0d0887\"],[0.1111111111111111,\"#46039f\"],[0.2222222222222222,\"#7201a8\"],[0.3333333333333333,\"#9c179e\"],[0.4444444444444444,\"#bd3786\"],[0.5555555555555556,\"#d8576b\"],[0.6666666666666666,\"#ed7953\"],[0.7777777777777778,\"#fb9f3a\"],[0.8888888888888888,\"#fdca26\"],[1.0,\"#f0f921\"]]}],\"contourcarpet\":[{\"type\":\"contourcarpet\",\"colorbar\":{\"outlinewidth\":0,\"ticks\":\"\"}}],\"contour\":[{\"type\":\"contour\",\"colorbar\":{\"outlinewidth\":0,\"ticks\":\"\"},\"colorscale\":[[0.0,\"#0d0887\"],[0.1111111111111111,\"#46039f\"],[0.2222222222222222,\"#7201a8\"],[0.3333333333333333,\"#9c179e\"],[0.4444444444444444,\"#bd3786\"],[0.5555555555555556,\"#d8576b\"],[0.6666666666666666,\"#ed7953\"],[0.7777777777777778,\"#fb9f3a\"],[0.8888888888888888,\"#fdca26\"],[1.0,\"#f0f921\"]]}],\"surface\":[{\"type\":\"surface\",\"colorbar\":{\"outlinewidth\":0,\"ticks\":\"\"},\"colorscale\":[[0.0,\"#0d0887\"],[0.1111111111111111,\"#46039f\"],[0.2222222222222222,\"#7201a8\"],[0.3333333333333333,\"#9c179e\"],[0.4444444444444444,\"#bd3786\"],[0.5555555555555556,\"#d8576b\"],[0.6666666666666666,\"#ed7953\"],[0.7777777777777778,\"#fb9f3a\"],[0.8888888888888888,\"#fdca26\"],[1.0,\"#f0f921\"]]}],\"mesh3d\":[{\"type\":\"mesh3d\",\"colorbar\":{\"outlinewidth\":0,\"ticks\":\"\"}}],\"scatter\":[{\"fillpattern\":{\"fillmode\":\"overlay\",\"size\":10,\"solidity\":0.2},\"type\":\"scatter\"}],\"parcoords\":[{\"type\":\"parcoords\",\"line\":{\"colorbar\":{\"outlinewidth\":0,\"ticks\":\"\"}}}],\"scatterpolargl\":[{\"type\":\"scatterpolargl\",\"marker\":{\"colorbar\":{\"outlinewidth\":0,\"ticks\":\"\"}}}],\"bar\":[{\"error_x\":{\"color\":\"#2a3f5f\"},\"error_y\":{\"color\":\"#2a3f5f\"},\"marker\":{\"line\":{\"color\":\"#E5ECF6\",\"width\":0.5},\"pattern\":{\"fillmode\":\"overlay\",\"size\":10,\"solidity\":0.2}},\"type\":\"bar\"}],\"scattergeo\":[{\"type\":\"scattergeo\",\"marker\":{\"colorbar\":{\"outlinewidth\":0,\"ticks\":\"\"}}}],\"scatterpolar\":[{\"type\":\"scatterpolar\",\"marker\":{\"colorbar\":{\"outlinewidth\":0,\"ticks\":\"\"}}}],\"histogram\":[{\"marker\":{\"pattern\":{\"fillmode\":\"overlay\",\"size\":10,\"solidity\":0.2}},\"type\":\"histogram\"}],\"scattergl\":[{\"type\":\"scattergl\",\"marker\":{\"colorbar\":{\"outlinewidth\":0,\"ticks\":\"\"}}}],\"scatter3d\":[{\"type\":\"scatter3d\",\"line\":{\"colorbar\":{\"outlinewidth\":0,\"ticks\":\"\"}},\"marker\":{\"colorbar\":{\"outlinewidth\":0,\"ticks\":\"\"}}}],\"scattermapbox\":[{\"type\":\"scattermapbox\",\"marker\":{\"colorbar\":{\"outlinewidth\":0,\"ticks\":\"\"}}}],\"scatterternary\":[{\"type\":\"scatterternary\",\"marker\":{\"colorbar\":{\"outlinewidth\":0,\"ticks\":\"\"}}}],\"scattercarpet\":[{\"type\":\"scattercarpet\",\"marker\":{\"colorbar\":{\"outlinewidth\":0,\"ticks\":\"\"}}}],\"carpet\":[{\"aaxis\":{\"endlinecolor\":\"#2a3f5f\",\"gridcolor\":\"white\",\"linecolor\":\"white\",\"minorgridcolor\":\"white\",\"startlinecolor\":\"#2a3f5f\"},\"baxis\":{\"endlinecolor\":\"#2a3f5f\",\"gridcolor\":\"white\",\"linecolor\":\"white\",\"minorgridcolor\":\"white\",\"startlinecolor\":\"#2a3f5f\"},\"type\":\"carpet\"}],\"table\":[{\"cells\":{\"fill\":{\"color\":\"#EBF0F8\"},\"line\":{\"color\":\"white\"}},\"header\":{\"fill\":{\"color\":\"#C8D4E3\"},\"line\":{\"color\":\"white\"}},\"type\":\"table\"}],\"barpolar\":[{\"marker\":{\"line\":{\"color\":\"#E5ECF6\",\"width\":0.5},\"pattern\":{\"fillmode\":\"overlay\",\"size\":10,\"solidity\":0.2}},\"type\":\"barpolar\"}],\"pie\":[{\"automargin\":true,\"type\":\"pie\"}]},\"layout\":{\"autotypenumbers\":\"strict\",\"colorway\":[\"#636efa\",\"#EF553B\",\"#00cc96\",\"#ab63fa\",\"#FFA15A\",\"#19d3f3\",\"#FF6692\",\"#B6E880\",\"#FF97FF\",\"#FECB52\"],\"font\":{\"color\":\"#2a3f5f\"},\"hovermode\":\"closest\",\"hoverlabel\":{\"align\":\"left\"},\"paper_bgcolor\":\"white\",\"plot_bgcolor\":\"#E5ECF6\",\"polar\":{\"bgcolor\":\"#E5ECF6\",\"angularaxis\":{\"gridcolor\":\"white\",\"linecolor\":\"white\",\"ticks\":\"\"},\"radialaxis\":{\"gridcolor\":\"white\",\"linecolor\":\"white\",\"ticks\":\"\"}},\"ternary\":{\"bgcolor\":\"#E5ECF6\",\"aaxis\":{\"gridcolor\":\"white\",\"linecolor\":\"white\",\"ticks\":\"\"},\"baxis\":{\"gridcolor\":\"white\",\"linecolor\":\"white\",\"ticks\":\"\"},\"caxis\":{\"gridcolor\":\"white\",\"linecolor\":\"white\",\"ticks\":\"\"}},\"coloraxis\":{\"colorbar\":{\"outlinewidth\":0,\"ticks\":\"\"}},\"colorscale\":{\"sequential\":[[0.0,\"#0d0887\"],[0.1111111111111111,\"#46039f\"],[0.2222222222222222,\"#7201a8\"],[0.3333333333333333,\"#9c179e\"],[0.4444444444444444,\"#bd3786\"],[0.5555555555555556,\"#d8576b\"],[0.6666666666666666,\"#ed7953\"],[0.7777777777777778,\"#fb9f3a\"],[0.8888888888888888,\"#fdca26\"],[1.0,\"#f0f921\"]],\"sequentialminus\":[[0.0,\"#0d0887\"],[0.1111111111111111,\"#46039f\"],[0.2222222222222222,\"#7201a8\"],[0.3333333333333333,\"#9c179e\"],[0.4444444444444444,\"#bd3786\"],[0.5555555555555556,\"#d8576b\"],[0.6666666666666666,\"#ed7953\"],[0.7777777777777778,\"#fb9f3a\"],[0.8888888888888888,\"#fdca26\"],[1.0,\"#f0f921\"]],\"diverging\":[[0,\"#8e0152\"],[0.1,\"#c51b7d\"],[0.2,\"#de77ae\"],[0.3,\"#f1b6da\"],[0.4,\"#fde0ef\"],[0.5,\"#f7f7f7\"],[0.6,\"#e6f5d0\"],[0.7,\"#b8e186\"],[0.8,\"#7fbc41\"],[0.9,\"#4d9221\"],[1,\"#276419\"]]},\"xaxis\":{\"gridcolor\":\"white\",\"linecolor\":\"white\",\"ticks\":\"\",\"title\":{\"standoff\":15},\"zerolinecolor\":\"white\",\"automargin\":true,\"zerolinewidth\":2},\"yaxis\":{\"gridcolor\":\"white\",\"linecolor\":\"white\",\"ticks\":\"\",\"title\":{\"standoff\":15},\"zerolinecolor\":\"white\",\"automargin\":true,\"zerolinewidth\":2},\"scene\":{\"xaxis\":{\"backgroundcolor\":\"#E5ECF6\",\"gridcolor\":\"white\",\"linecolor\":\"white\",\"showbackground\":true,\"ticks\":\"\",\"zerolinecolor\":\"white\",\"gridwidth\":2},\"yaxis\":{\"backgroundcolor\":\"#E5ECF6\",\"gridcolor\":\"white\",\"linecolor\":\"white\",\"showbackground\":true,\"ticks\":\"\",\"zerolinecolor\":\"white\",\"gridwidth\":2},\"zaxis\":{\"backgroundcolor\":\"#E5ECF6\",\"gridcolor\":\"white\",\"linecolor\":\"white\",\"showbackground\":true,\"ticks\":\"\",\"zerolinecolor\":\"white\",\"gridwidth\":2}},\"shapedefaults\":{\"line\":{\"color\":\"#2a3f5f\"}},\"annotationdefaults\":{\"arrowcolor\":\"#2a3f5f\",\"arrowhead\":0,\"arrowwidth\":1},\"geo\":{\"bgcolor\":\"white\",\"landcolor\":\"#E5ECF6\",\"subunitcolor\":\"white\",\"showland\":true,\"showlakes\":true,\"lakecolor\":\"white\"},\"title\":{\"x\":0.05},\"mapbox\":{\"style\":\"light\"}}},\"yaxis\":{\"type\":\"log\",\"title\":{\"text\":\"Cycle life\"},\"range\":[2,4]},\"xaxis\":{\"range\":[-8,-1],\"title\":{\"text\":\"Var ΔQ100_10(V)\"},\"type\":\"log\"}},                        {\"responsive\": true}                    ).then(function(){\n",
              "                            \n",
              "var gd = document.getElementById('c4b18f92-7da2-47d6-a8c9-26c172aea4fb');\n",
              "var x = new MutationObserver(function (mutations, observer) {{\n",
              "        var display = window.getComputedStyle(gd).display;\n",
              "        if (!display || display === 'none') {{\n",
              "            console.log([gd, 'removed!']);\n",
              "            Plotly.purge(gd);\n",
              "            observer.disconnect();\n",
              "        }}\n",
              "}});\n",
              "\n",
              "// Listen for the removal of the full notebook cells\n",
              "var notebookContainer = gd.closest('#notebook-container');\n",
              "if (notebookContainer) {{\n",
              "    x.observe(notebookContainer, {childList: true});\n",
              "}}\n",
              "\n",
              "// Listen for the clearing of the current output cell\n",
              "var outputEl = gd.closest('.output');\n",
              "if (outputEl) {{\n",
              "    x.observe(outputEl, {childList: true});\n",
              "}}\n",
              "\n",
              "                        })                };                            </script>        </div>\n",
              "</body>\n",
              "</html>"
            ]
          },
          "metadata": {}
        },
        {
          "output_type": "stream",
          "name": "stdout",
          "text": [
            " The pearson correlation is -0.9159176982572148\n"
          ]
        }
      ]
    },
    {
      "cell_type": "markdown",
      "source": [
        "**Convertion and start of smogn**"
      ],
      "metadata": {
        "id": "KCBdf6dDr8Cm"
      }
    },
    {
      "cell_type": "code",
      "source": [
        "smogn_df = init_df.copy()\n",
        "smogn_df.drop(columns= ['average_charge_2_WI','discharge_cycle_WI','cycle_bin','cycle_bin_label'],inplace=True)"
      ],
      "metadata": {
        "id": "BiVyL1vFsBoe"
      },
      "execution_count": 11,
      "outputs": []
    },
    {
      "cell_type": "code",
      "source": [
        "smogn_df.columns"
      ],
      "metadata": {
        "colab": {
          "base_uri": "https://localhost:8080/"
        },
        "id": "ybOs3t66sIm-",
        "outputId": "67e5fb15-f59d-455a-d217-1f9a848cfd84"
      },
      "execution_count": 12,
      "outputs": [
        {
          "output_type": "execute_result",
          "data": {
            "text/plain": [
              "Index(['var_DQ_100_10', 'IQR_DQ_100_10', 'IDR_DQ_100_10', 'min_DQ_100_10',\n",
              "       'maxDQ_100_10', 'mean_DQ_100_10', 'skew_100_10', 'kurt_100_10',\n",
              "       'mean_cub_DQ_100_10', 'voltage_295_100_10', 'range_100_10',\n",
              "       'average_charge_2_6', 'min_resistance_2_100', 'diff_resistance_2_100',\n",
              "       'temperature_integral', 'discharge_cycle_2', 'slope_2_100',\n",
              "       'intercept_2_100', 'cycles', 'diff_disc_cap_2_max'],\n",
              "      dtype='object')"
            ]
          },
          "metadata": {},
          "execution_count": 12
        }
      ]
    },
    {
      "cell_type": "markdown",
      "source": [
        "Define the"
      ],
      "metadata": {
        "id": "Q0z1-x2RXD00"
      }
    },
    {
      "cell_type": "markdown",
      "source": [
        "Start the SMOGN"
      ],
      "metadata": {
        "id": "BgrP6eUZz-SM"
      }
    },
    {
      "cell_type": "markdown",
      "source": [
        "k for 6 neighbors, samp_method is extreme which encourages more oversampling and undesampling to be conducted, rel_method equals auto for extractin minority values automatically by box plot extremes."
      ],
      "metadata": {
        "id": "NmG6yuFpwP82"
      }
    },
    {
      "cell_type": "code",
      "source": [
        "smogn_dataframe = smogn.smoter(data =smogn_df.copy(), y='cycles',k=9,samp_method='extreme',rel_thres=0.9,rel_method='auto',rel_xtrm_type='high',rel_coef=2.25)"
      ],
      "metadata": {
        "id": "ZrBIPYSPvnu1",
        "colab": {
          "base_uri": "https://localhost:8080/"
        },
        "outputId": "b6aeab7a-af45-4f9a-a5fe-3767b1a5e5a6"
      },
      "execution_count": 13,
      "outputs": [
        {
          "output_type": "stream",
          "name": "stderr",
          "text": [
            "dist_matrix: 100%|##########| 7/7 [00:00<00:00, 441.17it/s]\n",
            "synth_matrix: 100%|##########| 7/7 [00:00<00:00, 16.71it/s]\n",
            "r_index: 100%|##########| 2/2 [00:00<00:00, 293.98it/s]\n"
          ]
        }
      ]
    },
    {
      "cell_type": "code",
      "source": [
        "len(smogn_df.copy()),len(smogn_dataframe)"
      ],
      "metadata": {
        "colab": {
          "base_uri": "https://localhost:8080/"
        },
        "id": "Q3Jx4FnQzmCw",
        "outputId": "e6a6c281-486e-4358-9da2-3e7c48ee303c"
      },
      "execution_count": 14,
      "outputs": [
        {
          "output_type": "execute_result",
          "data": {
            "text/plain": [
              "(122, 218)"
            ]
          },
          "metadata": {},
          "execution_count": 14
        }
      ]
    },
    {
      "cell_type": "code",
      "source": [
        "smogn_df.shape"
      ],
      "metadata": {
        "colab": {
          "base_uri": "https://localhost:8080/"
        },
        "id": "Yb8BjbJpunIq",
        "outputId": "095e4cfc-6133-4178-8630-56dd20bb6f37"
      },
      "execution_count": 15,
      "outputs": [
        {
          "output_type": "execute_result",
          "data": {
            "text/plain": [
              "(122, 20)"
            ]
          },
          "metadata": {},
          "execution_count": 15
        }
      ]
    },
    {
      "cell_type": "code",
      "source": [
        "smogn_dataframe.shape"
      ],
      "metadata": {
        "colab": {
          "base_uri": "https://localhost:8080/"
        },
        "id": "cp2xJbKXulFt",
        "outputId": "75f04eef-4b70-40df-c4ef-db8a63d93f39"
      },
      "execution_count": 16,
      "outputs": [
        {
          "output_type": "execute_result",
          "data": {
            "text/plain": [
              "(218, 20)"
            ]
          },
          "metadata": {},
          "execution_count": 16
        }
      ]
    },
    {
      "cell_type": "code",
      "source": [
        "sns.kdeplot(init_df['cycles'], label=\"Original\", fill=True, alpha=0.3, linewidth=2)\n",
        "sns.kdeplot(smogn_dataframe['cycles'], label=\"SMOGN\", fill=True, alpha=0.3, linewidth=2)\n",
        "\n",
        "plt.legend(loc='upper right')  # Move legend to upper right corner\n",
        "plt.show()"
      ],
      "metadata": {
        "colab": {
          "base_uri": "https://localhost:8080/",
          "height": 449
        },
        "id": "HtX2jP-S-oT6",
        "outputId": "243da098-12ad-4d3a-cb18-462d9918765d"
      },
      "execution_count": 20,
      "outputs": [
        {
          "output_type": "display_data",
          "data": {
            "text/plain": [
              "<Figure size 640x480 with 1 Axes>"
            ],
            "image/png": "[encoded data removed]"
          },
          "metadata": {}
        }
      ]
    },
    {
      "cell_type": "code",
      "source": [
        "var_ar_smogn =  smogn_dataframe['var_DQ_100_10'].values\n",
        "cmap1_smogn = plt.get_cmap('coolwarm')\n",
        "cycles_ar_smogn = smogn_dataframe['cycles'].values\n",
        "\n",
        "colors_2_c_smogn = [cmap1_smogn(1-(x - min(cycles_ar_smogn)) / (max(cycles_ar_smogn) - min(cycles_ar_smogn))) for x in cycles_ar_smogn]\n",
        "plotly_colors_smogn = [f'rgba({int(color[0]*255)}, {int(color[1]*255)}, {int(color[2]*255)}, 1)' for color in colors_2_c_smogn]\n",
        "\n",
        "fig_2c_smogn = go.Figure()\n",
        "fig_2c_smogn.add_trace(go.Scatter(x=var_ar_smogn,\n",
        "                          y=cycles_ar_smogn,\n",
        "\n",
        "  mode='markers',marker=dict(size=22,color=plotly_colors_smogn,\n",
        "            opacity=1, )))\n",
        "fig_2c_smogn.update_layout( yaxis = dict(type='log',title = 'Cycle life',range=[2,4]),\n",
        "                  xaxis=dict( range = [-8,-1], # define the range of x-axis range=[-0.002,0.]\n",
        "                            title='Var ΔQ100_10(V)',  # optional title\n",
        "                             type='log'\n",
        "                             ))\n",
        "fig_2c_smogn.show()\n",
        "# CALCULATION OF PEARSON CORRELATION FOR LOG SCALE\n",
        "cycle_ar_log_scale_smogn = np.array([np.log10(c_l) for c_l in cycles_ar_smogn])\n",
        "var_ar_log_scale_smogn = np.array([np.log10(va) for va in var_ar_smogn])\n",
        "pear_2C_smogn = np.corrcoef(var_ar_log_scale_smogn,cycle_ar_log_scale_smogn)[0,1]\n",
        "print(f\" The pearson correlation is {pear_2C_smogn}\")"
      ],
      "metadata": {
        "colab": {
          "base_uri": "https://localhost:8080/",
          "height": 559
        },
        "id": "6_i6owfW0c4H",
        "outputId": "f4682cf1-2088-4beb-d821-8b7dad603e1d"
      },
      "execution_count": null,
      "outputs": [
        {
          "output_type": "display_data",
          "data": {
            "text/html": [
              "<html>\n",
              "<head><meta charset=\"utf-8\" /></head>\n",
              "<body>\n",
              "    <div>            <script src=\"https://cdnjs.cloudflare.com/ajax/libs/mathjax/2.7.5/MathJax.js?config=TeX-AMS-MML_SVG\"></script><script type=\"text/javascript\">if (window.MathJax && window.MathJax.Hub && window.MathJax.Hub.Config) {window.MathJax.Hub.Config({SVG: {font: \"STIX-Web\"}});}</script>                <script type=\"text/javascript\">window.PlotlyConfig = {MathJaxConfig: 'local'};</script>\n",
              "        <script charset=\"utf-8\" src=\"https://cdn.plot.ly/plotly-2.35.2.min.js\"></script>                <div id=\"496b1d68-3fc5-4c26-8ae2-da9354e7a041\" class=\"plotly-graph-div\" style=\"height:525px; width:100%;\"></div>            <script type=\"text/javascript\">                                    window.PLOTLYENV=window.PLOTLYENV || {};                                    if (document.getElementById(\"496b1d68-3fc5-4c26-8ae2-da9354e7a041\")) {                    Plotly.newPlot(                        \"496b1d68-3fc5-4c26-8ae2-da9354e7a041\",                        [{\"marker\":{\"color\":[\"rgba(108, 142, 241, 1)\",\"rgba(113, 148, 244, 1)\",\"rgba(113, 148, 244, 1)\",\"rgba(151, 184, 254, 1)\",\"rgba(149, 183, 254, 1)\",\"rgba(113, 148, 244, 1)\",\"rgba(113, 148, 244, 1)\",\"rgba(148, 181, 254, 1)\",\"rgba(113, 148, 244, 1)\",\"rgba(149, 183, 254, 1)\",\"rgba(151, 184, 254, 1)\",\"rgba(108, 142, 241, 1)\",\"rgba(149, 183, 254, 1)\",\"rgba(113, 148, 244, 1)\",\"rgba(151, 184, 254, 1)\",\"rgba(122, 157, 248, 1)\",\"rgba(134, 169, 252, 1)\",\"rgba(134, 169, 252, 1)\",\"rgba(135, 170, 252, 1)\",\"rgba(134, 169, 252, 1)\",\"rgba(133, 168, 251, 1)\",\"rgba(122, 157, 248, 1)\",\"rgba(133, 168, 251, 1)\",\"rgba(133, 168, 251, 1)\",\"rgba(133, 168, 251, 1)\",\"rgba(134, 169, 252, 1)\",\"rgba(133, 168, 251, 1)\",\"rgba(133, 168, 251, 1)\",\"rgba(133, 168, 251, 1)\",\"rgba(133, 168, 251, 1)\",\"rgba(126, 161, 249, 1)\",\"rgba(127, 162, 250, 1)\",\"rgba(130, 165, 251, 1)\",\"rgba(127, 162, 250, 1)\",\"rgba(127, 162, 250, 1)\",\"rgba(126, 161, 249, 1)\",\"rgba(117, 152, 246, 1)\",\"rgba(117, 152, 246, 1)\",\"rgba(127, 162, 250, 1)\",\"rgba(127, 162, 250, 1)\",\"rgba(117, 152, 246, 1)\",\"rgba(127, 162, 250, 1)\",\"rgba(127, 162, 250, 1)\",\"rgba(126, 161, 249, 1)\",\"rgba(127, 162, 250, 1)\",\"rgba(123, 158, 248, 1)\",\"rgba(123, 158, 248, 1)\",\"rgba(123, 158, 248, 1)\",\"rgba(123, 158, 248, 1)\",\"rgba(123, 158, 248, 1)\",\"rgba(124, 160, 249, 1)\",\"rgba(124, 160, 249, 1)\",\"rgba(123, 158, 248, 1)\",\"rgba(124, 160, 249, 1)\",\"rgba(123, 158, 248, 1)\",\"rgba(123, 158, 248, 1)\",\"rgba(123, 158, 248, 1)\",\"rgba(124, 160, 249, 1)\",\"rgba(124, 160, 249, 1)\",\"rgba(123, 158, 248, 1)\",\"rgba(109, 144, 241, 1)\",\"rgba(122, 157, 248, 1)\",\"rgba(109, 144, 241, 1)\",\"rgba(109, 144, 241, 1)\",\"rgba(109, 144, 241, 1)\",\"rgba(108, 142, 241, 1)\",\"rgba(109, 144, 241, 1)\",\"rgba(108, 142, 241, 1)\",\"rgba(109, 144, 241, 1)\",\"rgba(117, 152, 246, 1)\",\"rgba(109, 144, 241, 1)\",\"rgba(108, 142, 241, 1)\",\"rgba(109, 144, 241, 1)\",\"rgba(108, 142, 241, 1)\",\"rgba(109, 144, 241, 1)\",\"rgba(113, 148, 244, 1)\",\"rgba(71, 95, 208, 1)\",\"rgba(72, 96, 209, 1)\",\"rgba(113, 148, 244, 1)\",\"rgba(65, 86, 201, 1)\",\"rgba(72, 96, 209, 1)\",\"rgba(70, 93, 207, 1)\",\"rgba(65, 86, 201, 1)\",\"rgba(71, 95, 208, 1)\",\"rgba(71, 95, 208, 1)\",\"rgba(72, 96, 209, 1)\",\"rgba(113, 148, 244, 1)\",\"rgba(71, 95, 208, 1)\",\"rgba(71, 95, 208, 1)\",\"rgba(71, 95, 208, 1)\",\"rgba(65, 86, 201, 1)\",\"rgba(59, 77, 193, 1)\",\"rgba(59, 77, 193, 1)\",\"rgba(58, 76, 192, 1)\",\"rgba(59, 77, 193, 1)\",\"rgba(59, 77, 193, 1)\",\"rgba(58, 76, 192, 1)\",\"rgba(58, 76, 192, 1)\",\"rgba(58, 76, 192, 1)\",\"rgba(58, 76, 192, 1)\",\"rgba(58, 76, 192, 1)\",\"rgba(60, 79, 195, 1)\",\"rgba(60, 79, 195, 1)\",\"rgba(59, 77, 193, 1)\",\"rgba(65, 86, 201, 1)\",\"rgba(134, 169, 252, 1)\",\"rgba(149, 183, 254, 1)\",\"rgba(246, 167, 137, 1)\",\"rgba(211, 77, 64, 1)\",\"rgba(246, 170, 140, 1)\",\"rgba(218, 90, 72, 1)\",\"rgba(163, 193, 254, 1)\",\"rgba(212, 79, 66, 1)\",\"rgba(247, 178, 149, 1)\",\"rgba(215, 219, 226, 1)\",\"rgba(230, 114, 89, 1)\",\"rgba(230, 114, 89, 1)\",\"rgba(179, 3, 38, 1)\",\"rgba(230, 116, 90, 1)\",\"rgba(243, 149, 118, 1)\",\"rgba(246, 170, 140, 1)\",\"rgba(59, 77, 193, 1)\",\"rgba(214, 82, 67, 1)\",\"rgba(211, 77, 64, 1)\",\"rgba(214, 82, 67, 1)\",\"rgba(241, 144, 114, 1)\",\"rgba(238, 134, 105, 1)\",\"rgba(212, 79, 66, 1)\",\"rgba(220, 94, 75, 1)\",\"rgba(234, 123, 96, 1)\",\"rgba(123, 158, 248, 1)\",\"rgba(233, 121, 94, 1)\",\"rgba(211, 77, 64, 1)\",\"rgba(209, 73, 62, 1)\",\"rgba(235, 211, 198, 1)\",\"rgba(216, 86, 70, 1)\",\"rgba(207, 70, 61, 1)\",\"rgba(241, 202, 182, 1)\",\"rgba(212, 79, 66, 1)\",\"rgba(242, 200, 179, 1)\",\"rgba(238, 134, 105, 1)\",\"rgba(247, 179, 151, 1)\",\"rgba(236, 210, 196, 1)\",\"rgba(240, 141, 111, 1)\",\"rgba(245, 193, 168, 1)\",\"rgba(240, 141, 111, 1)\",\"rgba(217, 88, 71, 1)\",\"rgba(207, 70, 61, 1)\",\"rgba(242, 147, 117, 1)\",\"rgba(202, 61, 56, 1)\",\"rgba(212, 79, 66, 1)\",\"rgba(244, 195, 171, 1)\",\"rgba(246, 169, 138, 1)\",\"rgba(71, 95, 208, 1)\",\"rgba(244, 194, 170, 1)\",\"rgba(215, 84, 68, 1)\",\"rgba(245, 158, 127, 1)\",\"rgba(245, 158, 127, 1)\",\"rgba(242, 199, 178, 1)\",\"rgba(205, 66, 58, 1)\",\"rgba(243, 198, 176, 1)\",\"rgba(149, 183, 254, 1)\",\"rgba(245, 158, 127, 1)\",\"rgba(246, 186, 159, 1)\",\"rgba(127, 162, 250, 1)\",\"rgba(244, 155, 124, 1)\",\"rgba(228, 110, 86, 1)\",\"rgba(214, 82, 67, 1)\",\"rgba(215, 84, 68, 1)\",\"rgba(245, 192, 167, 1)\",\"rgba(246, 169, 138, 1)\",\"rgba(197, 213, 242, 1)\",\"rgba(235, 127, 99, 1)\",\"rgba(235, 211, 198, 1)\",\"rgba(223, 100, 79, 1)\",\"rgba(244, 154, 123, 1)\",\"rgba(246, 164, 134, 1)\",\"rgba(247, 181, 152, 1)\",\"rgba(210, 75, 63, 1)\",\"rgba(219, 92, 74, 1)\",\"rgba(235, 211, 198, 1)\",\"rgba(246, 167, 137, 1)\",\"rgba(211, 77, 64, 1)\",\"rgba(246, 166, 135, 1)\",\"rgba(238, 207, 190, 1)\",\"rgba(239, 137, 108, 1)\",\"rgba(202, 61, 56, 1)\",\"rgba(246, 167, 137, 1)\",\"rgba(209, 73, 62, 1)\",\"rgba(246, 167, 137, 1)\",\"rgba(245, 161, 130, 1)\",\"rgba(219, 92, 74, 1)\",\"rgba(243, 152, 121, 1)\",\"rgba(217, 88, 71, 1)\",\"rgba(209, 73, 62, 1)\",\"rgba(246, 182, 154, 1)\",\"rgba(212, 79, 66, 1)\",\"rgba(219, 220, 222, 1)\",\"rgba(209, 73, 62, 1)\",\"rgba(215, 84, 68, 1)\",\"rgba(223, 100, 79, 1)\",\"rgba(240, 139, 109, 1)\",\"rgba(244, 154, 123, 1)\",\"rgba(215, 84, 68, 1)\",\"rgba(185, 22, 42, 1)\",\"rgba(246, 171, 141, 1)\",\"rgba(207, 70, 61, 1)\",\"rgba(240, 204, 185, 1)\",\"rgba(246, 167, 137, 1)\",\"rgba(238, 135, 106, 1)\",\"rgba(238, 135, 106, 1)\",\"rgba(109, 144, 241, 1)\",\"rgba(205, 66, 58, 1)\",\"rgba(216, 86, 70, 1)\",\"rgba(210, 75, 63, 1)\",\"rgba(245, 193, 168, 1)\",\"rgba(247, 178, 149, 1)\",\"rgba(133, 168, 251, 1)\"],\"opacity\":1,\"size\":22},\"mode\":\"markers\",\"x\":[0.00003335221659323946,0.00002155196152794454,0.00002795079552935186,0.000035746506132842925,0.00003566538678526861,0.000034534097498393675,0.000019484088175222978,0.00003658076719617537,0.000035257774199861756,0.00003586450650786659,0.00003605725117202523,0.000034103722493925156,0.00003628103864202316,0.000024765788010595427,0.00003615263791031503,0.00007189134652794141,0.00005232280764991929,0.00005286238011780505,0.00005233844249267731,0.00005189117758943643,0.000052070575505491964,0.00006090193584873314,0.00005222937127757472,0.000052243225390359555,0.00005238704862460455,0.00005303460830562729,0.000052610202446115033,0.000052678388548273145,0.000051977057138316757,0.000052347482225703344,0.00005535574768463847,0.00005512900157609523,0.00005555553392141505,0.00005529275821182355,0.000055833945770472056,0.00005614610605930313,0.00006717135707214057,0.00005814714899637895,0.000056027423835735724,0.00005602656126081681,0.00005665575296223411,0.00005547709213354046,0.000055059776132179856,0.00005550242683790009,0.00005596830110235788,0.000012655212575178046,0.000013349604596052088,0.000012703784175188978,0.000012879580973039752,0.00001293833746096556,0.0000136407491433758,0.00001278868096279793,0.000012754601686766683,0.000013617238673059723,0.000013651639817258365,0.000012844323316289795,0.000013148916003606206,0.00001349781911068789,0.000013071096276568178,0.000013586253975915067,0.00007414205638001769,0.00006857930038284041,0.00007311804197304804,0.00007365516556275719,0.00007312968271057374,0.0000726513327306866,0.00007327905601984463,0.00007386583245672908,0.00007347220668746515,0.00006977368219066986,0.00007368298733162782,0.00007405319154029528,0.00007319965127775899,0.00007328031545850805,0.00007335876967520776,0.000027980154753726194,0.000016890373246005777,0.000017220973346732896,0.000026905166325363375,0.000028065554371782353,0.000016630033469498747,0.00001652170747749384,0.000027492926088252017,0.000016398601311958604,0.000016088374582909987,0.000016799140865098143,0.000032673824725420894,0.000016661979461152218,0.000017118031953020306,0.000016265912294354875,0.000022810237839115915,0.00003100934491975703,0.00003100487827176756,0.00003117154807627136,0.00003120482297581384,0.0000307649928382005,0.00003105607659932248,0.00003010145481569737,0.00002996019052135766,0.00003102836028467576,0.00003055818051719935,0.000029836588272457457,0.000030289995749768258,0.00003091218154127721,0.00002238478253460732,0.0000528077265481644,0.000036065804239442154,0.0002551199106691,0.0004262533199111,0.0001696652344263,0.0005383344101772,0.00003421259625922551,0.0003586402239838,0.0001000776556534,0.00006529784614782511,0.000670131784286,0.0006523778281818,0.0036090261942944,0.0005646956957601,0.00037709991617,0.0003014459197359,0.00003072827001866165,0.0006408615719679,0.0006346952183255,0.0004148585868187,0.0002216545222525,0.0003820020074154,0.0012388639050327,0.0006867653752227,0.0003660030320521,0.000013166985819584313,0.0003725814929337,0.0004427974702929,0.000620878161153,0.00008691547617177888,0.0005415618457069,0.0006026223608685,0.00007633142186103228,0.0005257461831965,0.00009068692760753768,0.0003010889678115,0.0001927991859167,0.000102428062402,0.0004021175068225,0.0001608563764865,0.0002497051523668,0.0005688680152197,0.0005317636526893,0.0003785578104873,0.0007482616860838,0.0005163684762065,0.0001098798357107,0.0002851807932326,0.000016670040651974474,0.0002010694847762,0.0003283655449577,0.0001506347246938,0.0002330769661579,0.000150864056696,0.0005823358784704,0.0001492904257791,0.000036176707279826266,0.000132954958998,0.0001580638075387,0.00005572648466230889,0.00008457527531911605,0.0006631071840214,0.0003590229167606,0.0003263286329229,0.0001500080120277,0.0002871047949882,0.00006198452150838649,0.0005581995300465,0.00005408233870238674,0.0004162390593556,0.0001074421981312,0.0002502357670203,0.0001402653749428,0.0004818710788508,0.0008195508653601,0.0001223129598522,0.0001709567894211,0.0005105226944644,0.0001247391951939,0.0001368484952558,0.0001206264742559,0.0006350818795709,0.0001447935385483,0.0004414726028192,0.0001810668985058,0.0001355264269566,0.0004631355443598,0.00009887106336720694,0.0003509957964162,0.0005385871456543,0.0001246856078716,0.0005659457220908,0.00007089195806164241,0.0006932129636414,0.0003228512639629,0.0008466331557373,0.0001521203843866,0.0004223258115013,0.000480702314975,0.002210921257898,0.0001491425362017,0.0008769541114241,0.0001023647856781,0.0001351053853179,0.0003804553165685,0.0003197243148822,0.00007339646968058777,0.0008347258318002,0.0010557223884543,0.0006886608583994,0.00009367251920788194,0.0002561596314825,0.000052342341119870165],\"y\":[1937.0,1908.0,1908.0,1707.0,1709.0,1908.0,1908.0,1716.0,1908.0,1708.0,1703.0,1937.0,1712.0,1908.0,1705.0,1864.0,1793.0,1797.0,1789.0,1792.0,1800.0,1864.0,1801.0,1800.0,1799.0,1797.0,1800.0,1799.0,1800.0,1799.0,1837.0,1832.0,1817.0,1836.0,1831.0,1840.0,1883.0,1883.0,1835.0,1829.0,1883.0,1836.0,1832.0,1837.0,1835.0,1857.0,1854.0,1852.0,1855.0,1858.0,1847.0,1847.0,1856.0,1849.0,1854.0,1855.0,1853.0,1851.0,1849.0,1858.0,1932.0,1864.0,1933.0,1934.0,1928.0,1939.0,1928.0,1942.0,1933.0,1883.0,1930.0,1938.0,1935.0,1938.0,1935.0,1908.0,2160.0,2153.0,1908.0,2197.0,2155.0,2165.0,2197.0,2158.0,2162.0,2155.0,1908.0,2157.0,2160.0,2163.0,2197.0,2235.0,2234.0,2244.0,2234.0,2239.0,2247.0,2245.0,2241.0,2241.0,2241.0,2231.0,2229.0,2236.0,2197.0,1795.0,1710.0,860.0,481.0,875.0,527.0,1637.0,487.0,922.0,1314.0,616.0,617.0,300.0,625.0,771.0,876.0,2237.0,494.0,477.0,492.0,742.0,702.0,483.0,540.0,651.0,1852.0,648.0,480.0,461.0,1157.0,509.0,457.0,1077.0,489.0,1062.0,703.0,931.0,1145.0,731.0,1014.0,730.0,519.0,459.0,757.0,429.0,487.0,1027.0,870.0,2160.0,1017.0,498.0,812.0,816.0,1054.0,438.0,1051.0,1709.0,815.0,966.0,1835.0,795.0,599.0,495.0,502.0,1001.0,870.0,1435.0,666.0,1155.0,561.0,788.0,842.0,934.0,468.0,534.0,1154.0,857.0,478.0,849.0,1114.0,713.0,429.0,857.0,466.0,857.0,827.0,535.0,785.0,520.0,463.0,939.0,485.0,1283.0,462.0,499.0,559.0,719.0,788.0,499.0,335.0,880.0,458.0,1092.0,862.0,704.0,709.0,1934.0,444.0,511.0,471.0,1008.0,917.0,1800.0],\"type\":\"scatter\"}],                        {\"template\":{\"data\":{\"histogram2dcontour\":[{\"type\":\"histogram2dcontour\",\"colorbar\":{\"outlinewidth\":0,\"ticks\":\"\"},\"colorscale\":[[0.0,\"#0d0887\"],[0.1111111111111111,\"#46039f\"],[0.2222222222222222,\"#7201a8\"],[0.3333333333333333,\"#9c179e\"],[0.4444444444444444,\"#bd3786\"],[0.5555555555555556,\"#d8576b\"],[0.6666666666666666,\"#ed7953\"],[0.7777777777777778,\"#fb9f3a\"],[0.8888888888888888,\"#fdca26\"],[1.0,\"#f0f921\"]]}],\"choropleth\":[{\"type\":\"choropleth\",\"colorbar\":{\"outlinewidth\":0,\"ticks\":\"\"}}],\"histogram2d\":[{\"type\":\"histogram2d\",\"colorbar\":{\"outlinewidth\":0,\"ticks\":\"\"},\"colorscale\":[[0.0,\"#0d0887\"],[0.1111111111111111,\"#46039f\"],[0.2222222222222222,\"#7201a8\"],[0.3333333333333333,\"#9c179e\"],[0.4444444444444444,\"#bd3786\"],[0.5555555555555556,\"#d8576b\"],[0.6666666666666666,\"#ed7953\"],[0.7777777777777778,\"#fb9f3a\"],[0.8888888888888888,\"#fdca26\"],[1.0,\"#f0f921\"]]}],\"heatmap\":[{\"type\":\"heatmap\",\"colorbar\":{\"outlinewidth\":0,\"ticks\":\"\"},\"colorscale\":[[0.0,\"#0d0887\"],[0.1111111111111111,\"#46039f\"],[0.2222222222222222,\"#7201a8\"],[0.3333333333333333,\"#9c179e\"],[0.4444444444444444,\"#bd3786\"],[0.5555555555555556,\"#d8576b\"],[0.6666666666666666,\"#ed7953\"],[0.7777777777777778,\"#fb9f3a\"],[0.8888888888888888,\"#fdca26\"],[1.0,\"#f0f921\"]]}],\"heatmapgl\":[{\"type\":\"heatmapgl\",\"colorbar\":{\"outlinewidth\":0,\"ticks\":\"\"},\"colorscale\":[[0.0,\"#0d0887\"],[0.1111111111111111,\"#46039f\"],[0.2222222222222222,\"#7201a8\"],[0.3333333333333333,\"#9c179e\"],[0.4444444444444444,\"#bd3786\"],[0.5555555555555556,\"#d8576b\"],[0.6666666666666666,\"#ed7953\"],[0.7777777777777778,\"#fb9f3a\"],[0.8888888888888888,\"#fdca26\"],[1.0,\"#f0f921\"]]}],\"contourcarpet\":[{\"type\":\"contourcarpet\",\"colorbar\":{\"outlinewidth\":0,\"ticks\":\"\"}}],\"contour\":[{\"type\":\"contour\",\"colorbar\":{\"outlinewidth\":0,\"ticks\":\"\"},\"colorscale\":[[0.0,\"#0d0887\"],[0.1111111111111111,\"#46039f\"],[0.2222222222222222,\"#7201a8\"],[0.3333333333333333,\"#9c179e\"],[0.4444444444444444,\"#bd3786\"],[0.5555555555555556,\"#d8576b\"],[0.6666666666666666,\"#ed7953\"],[0.7777777777777778,\"#fb9f3a\"],[0.8888888888888888,\"#fdca26\"],[1.0,\"#f0f921\"]]}],\"surface\":[{\"type\":\"surface\",\"colorbar\":{\"outlinewidth\":0,\"ticks\":\"\"},\"colorscale\":[[0.0,\"#0d0887\"],[0.1111111111111111,\"#46039f\"],[0.2222222222222222,\"#7201a8\"],[0.3333333333333333,\"#9c179e\"],[0.4444444444444444,\"#bd3786\"],[0.5555555555555556,\"#d8576b\"],[0.6666666666666666,\"#ed7953\"],[0.7777777777777778,\"#fb9f3a\"],[0.8888888888888888,\"#fdca26\"],[1.0,\"#f0f921\"]]}],\"mesh3d\":[{\"type\":\"mesh3d\",\"colorbar\":{\"outlinewidth\":0,\"ticks\":\"\"}}],\"scatter\":[{\"fillpattern\":{\"fillmode\":\"overlay\",\"size\":10,\"solidity\":0.2},\"type\":\"scatter\"}],\"parcoords\":[{\"type\":\"parcoords\",\"line\":{\"colorbar\":{\"outlinewidth\":0,\"ticks\":\"\"}}}],\"scatterpolargl\":[{\"type\":\"scatterpolargl\",\"marker\":{\"colorbar\":{\"outlinewidth\":0,\"ticks\":\"\"}}}],\"bar\":[{\"error_x\":{\"color\":\"#2a3f5f\"},\"error_y\":{\"color\":\"#2a3f5f\"},\"marker\":{\"line\":{\"color\":\"#E5ECF6\",\"width\":0.5},\"pattern\":{\"fillmode\":\"overlay\",\"size\":10,\"solidity\":0.2}},\"type\":\"bar\"}],\"scattergeo\":[{\"type\":\"scattergeo\",\"marker\":{\"colorbar\":{\"outlinewidth\":0,\"ticks\":\"\"}}}],\"scatterpolar\":[{\"type\":\"scatterpolar\",\"marker\":{\"colorbar\":{\"outlinewidth\":0,\"ticks\":\"\"}}}],\"histogram\":[{\"marker\":{\"pattern\":{\"fillmode\":\"overlay\",\"size\":10,\"solidity\":0.2}},\"type\":\"histogram\"}],\"scattergl\":[{\"type\":\"scattergl\",\"marker\":{\"colorbar\":{\"outlinewidth\":0,\"ticks\":\"\"}}}],\"scatter3d\":[{\"type\":\"scatter3d\",\"line\":{\"colorbar\":{\"outlinewidth\":0,\"ticks\":\"\"}},\"marker\":{\"colorbar\":{\"outlinewidth\":0,\"ticks\":\"\"}}}],\"scattermapbox\":[{\"type\":\"scattermapbox\",\"marker\":{\"colorbar\":{\"outlinewidth\":0,\"ticks\":\"\"}}}],\"scatterternary\":[{\"type\":\"scatterternary\",\"marker\":{\"colorbar\":{\"outlinewidth\":0,\"ticks\":\"\"}}}],\"scattercarpet\":[{\"type\":\"scattercarpet\",\"marker\":{\"colorbar\":{\"outlinewidth\":0,\"ticks\":\"\"}}}],\"carpet\":[{\"aaxis\":{\"endlinecolor\":\"#2a3f5f\",\"gridcolor\":\"white\",\"linecolor\":\"white\",\"minorgridcolor\":\"white\",\"startlinecolor\":\"#2a3f5f\"},\"baxis\":{\"endlinecolor\":\"#2a3f5f\",\"gridcolor\":\"white\",\"linecolor\":\"white\",\"minorgridcolor\":\"white\",\"startlinecolor\":\"#2a3f5f\"},\"type\":\"carpet\"}],\"table\":[{\"cells\":{\"fill\":{\"color\":\"#EBF0F8\"},\"line\":{\"color\":\"white\"}},\"header\":{\"fill\":{\"color\":\"#C8D4E3\"},\"line\":{\"color\":\"white\"}},\"type\":\"table\"}],\"barpolar\":[{\"marker\":{\"line\":{\"color\":\"#E5ECF6\",\"width\":0.5},\"pattern\":{\"fillmode\":\"overlay\",\"size\":10,\"solidity\":0.2}},\"type\":\"barpolar\"}],\"pie\":[{\"automargin\":true,\"type\":\"pie\"}]},\"layout\":{\"autotypenumbers\":\"strict\",\"colorway\":[\"#636efa\",\"#EF553B\",\"#00cc96\",\"#ab63fa\",\"#FFA15A\",\"#19d3f3\",\"#FF6692\",\"#B6E880\",\"#FF97FF\",\"#FECB52\"],\"font\":{\"color\":\"#2a3f5f\"},\"hovermode\":\"closest\",\"hoverlabel\":{\"align\":\"left\"},\"paper_bgcolor\":\"white\",\"plot_bgcolor\":\"#E5ECF6\",\"polar\":{\"bgcolor\":\"#E5ECF6\",\"angularaxis\":{\"gridcolor\":\"white\",\"linecolor\":\"white\",\"ticks\":\"\"},\"radialaxis\":{\"gridcolor\":\"white\",\"linecolor\":\"white\",\"ticks\":\"\"}},\"ternary\":{\"bgcolor\":\"#E5ECF6\",\"aaxis\":{\"gridcolor\":\"white\",\"linecolor\":\"white\",\"ticks\":\"\"},\"baxis\":{\"gridcolor\":\"white\",\"linecolor\":\"white\",\"ticks\":\"\"},\"caxis\":{\"gridcolor\":\"white\",\"linecolor\":\"white\",\"ticks\":\"\"}},\"coloraxis\":{\"colorbar\":{\"outlinewidth\":0,\"ticks\":\"\"}},\"colorscale\":{\"sequential\":[[0.0,\"#0d0887\"],[0.1111111111111111,\"#46039f\"],[0.2222222222222222,\"#7201a8\"],[0.3333333333333333,\"#9c179e\"],[0.4444444444444444,\"#bd3786\"],[0.5555555555555556,\"#d8576b\"],[0.6666666666666666,\"#ed7953\"],[0.7777777777777778,\"#fb9f3a\"],[0.8888888888888888,\"#fdca26\"],[1.0,\"#f0f921\"]],\"sequentialminus\":[[0.0,\"#0d0887\"],[0.1111111111111111,\"#46039f\"],[0.2222222222222222,\"#7201a8\"],[0.3333333333333333,\"#9c179e\"],[0.4444444444444444,\"#bd3786\"],[0.5555555555555556,\"#d8576b\"],[0.6666666666666666,\"#ed7953\"],[0.7777777777777778,\"#fb9f3a\"],[0.8888888888888888,\"#fdca26\"],[1.0,\"#f0f921\"]],\"diverging\":[[0,\"#8e0152\"],[0.1,\"#c51b7d\"],[0.2,\"#de77ae\"],[0.3,\"#f1b6da\"],[0.4,\"#fde0ef\"],[0.5,\"#f7f7f7\"],[0.6,\"#e6f5d0\"],[0.7,\"#b8e186\"],[0.8,\"#7fbc41\"],[0.9,\"#4d9221\"],[1,\"#276419\"]]},\"xaxis\":{\"gridcolor\":\"white\",\"linecolor\":\"white\",\"ticks\":\"\",\"title\":{\"standoff\":15},\"zerolinecolor\":\"white\",\"automargin\":true,\"zerolinewidth\":2},\"yaxis\":{\"gridcolor\":\"white\",\"linecolor\":\"white\",\"ticks\":\"\",\"title\":{\"standoff\":15},\"zerolinecolor\":\"white\",\"automargin\":true,\"zerolinewidth\":2},\"scene\":{\"xaxis\":{\"backgroundcolor\":\"#E5ECF6\",\"gridcolor\":\"white\",\"linecolor\":\"white\",\"showbackground\":true,\"ticks\":\"\",\"zerolinecolor\":\"white\",\"gridwidth\":2},\"yaxis\":{\"backgroundcolor\":\"#E5ECF6\",\"gridcolor\":\"white\",\"linecolor\":\"white\",\"showbackground\":true,\"ticks\":\"\",\"zerolinecolor\":\"white\",\"gridwidth\":2},\"zaxis\":{\"backgroundcolor\":\"#E5ECF6\",\"gridcolor\":\"white\",\"linecolor\":\"white\",\"showbackground\":true,\"ticks\":\"\",\"zerolinecolor\":\"white\",\"gridwidth\":2}},\"shapedefaults\":{\"line\":{\"color\":\"#2a3f5f\"}},\"annotationdefaults\":{\"arrowcolor\":\"#2a3f5f\",\"arrowhead\":0,\"arrowwidth\":1},\"geo\":{\"bgcolor\":\"white\",\"landcolor\":\"#E5ECF6\",\"subunitcolor\":\"white\",\"showland\":true,\"showlakes\":true,\"lakecolor\":\"white\"},\"title\":{\"x\":0.05},\"mapbox\":{\"style\":\"light\"}}},\"yaxis\":{\"type\":\"log\",\"title\":{\"text\":\"Cycle life\"},\"range\":[2,4]},\"xaxis\":{\"range\":[-8,-1],\"title\":{\"text\":\"Var ΔQ100_10(V)\"},\"type\":\"log\"}},                        {\"responsive\": true}                    ).then(function(){\n",
              "                            \n",
              "var gd = document.getElementById('496b1d68-3fc5-4c26-8ae2-da9354e7a041');\n",
              "var x = new MutationObserver(function (mutations, observer) {{\n",
              "        var display = window.getComputedStyle(gd).display;\n",
              "        if (!display || display === 'none') {{\n",
              "            console.log([gd, 'removed!']);\n",
              "            Plotly.purge(gd);\n",
              "            observer.disconnect();\n",
              "        }}\n",
              "}});\n",
              "\n",
              "// Listen for the removal of the full notebook cells\n",
              "var notebookContainer = gd.closest('#notebook-container');\n",
              "if (notebookContainer) {{\n",
              "    x.observe(notebookContainer, {childList: true});\n",
              "}}\n",
              "\n",
              "// Listen for the clearing of the current output cell\n",
              "var outputEl = gd.closest('.output');\n",
              "if (outputEl) {{\n",
              "    x.observe(outputEl, {childList: true});\n",
              "}}\n",
              "\n",
              "                        })                };                            </script>        </div>\n",
              "</body>\n",
              "</html>"
            ]
          },
          "metadata": {}
        },
        {
          "output_type": "stream",
          "name": "stdout",
          "text": [
            " The pearson correlation is -0.9268685189980086\n"
          ]
        }
      ]
    },
    {
      "cell_type": "markdown",
      "source": [
        "# train an elastic net regression model"
      ],
      "metadata": {
        "id": "hdTe3D8B5Uu4"
      }
    },
    {
      "cell_type": "markdown",
      "source": [
        "**Let the train begins!!!**"
      ],
      "metadata": {
        "id": "9_0MjkH6R2Or"
      }
    },
    {
      "cell_type": "code",
      "source": [
        "import pandas as pd\n",
        "from sklearn.linear_model import ElasticNet\n",
        "from sklearn.ensemble import RandomForestRegressor\n",
        "from sklearn.model_selection import GridSearchCV,train_test_split\n",
        "from sklearn.metrics import mean_absolute_error, mean_squared_error"
      ],
      "metadata": {
        "id": "dyRWKangvi3A"
      },
      "execution_count": null,
      "outputs": []
    },
    {
      "cell_type": "code",
      "source": [
        "init_model_df = init_df.copy()\n",
        "# init_model_df = convert_values_tol_log_scale(df_data = init_model_df.copy())\n",
        "X_init_model_copy = init_model_df.drop(columns=['cycles','average_charge_2_WI','discharge_cycle_WI','cycle_bin', 'cycle_bin_label'])\n",
        "Y_init_copy = init_model_df['cycles']\n",
        "x_train_init,x_test,ytrain_init,y_test = train_test_split(X_init_model_copy,Y_init_copy,\n",
        "                                                          test_size=0.3,random_state=0 )\n",
        "# we need to convert that values to log_scale  both for x_Train and y_train"
      ],
      "metadata": {
        "id": "Tr9lubN4wBWZ"
      },
      "execution_count": null,
      "outputs": []
    },
    {
      "cell_type": "code",
      "source": [
        "train_df = pd.concat([x_train_init,ytrain_init],axis=1) # this add to smogn\n",
        "test_df = pd.concat([x_test,y_test],axis=1)\n",
        "test_df = convert_values_tol_log_scale(df_data = test_df.copy()) # Log scale only for test set!!"
      ],
      "metadata": {
        "id": "_zI33yXJwLcB"
      },
      "execution_count": null,
      "outputs": []
    },
    {
      "cell_type": "code",
      "source": [
        "x_test_f,y_test_f = test_df.drop(columns=['cycles']),test_df['cycles']\n",
        "train_df.reset_index(inplace=True,drop=True)"
      ],
      "metadata": {
        "id": "y70-6moVxrHw"
      },
      "execution_count": null,
      "outputs": []
    },
    {
      "cell_type": "code",
      "source": [
        "smogn_dataframe_model = smogn.smoter(data =train_df.copy(), y='cycles',k=9,samp_method='extreme',rel_thres=0.9,rel_method='auto',rel_xtrm_type='high',rel_coef=2.25)"
      ],
      "metadata": {
        "colab": {
          "base_uri": "https://localhost:8080/"
        },
        "id": "C7Yu_U1w7u7h",
        "outputId": "48857db2-d351-4d65-bc4f-e143b85614fe"
      },
      "execution_count": null,
      "outputs": [
        {
          "output_type": "stream",
          "name": "stderr",
          "text": [
            "dist_matrix: 100%|##########| 6/6 [00:00<00:00, 442.18it/s]\n",
            "synth_matrix: 100%|##########| 6/6 [00:00<00:00, 26.41it/s]\n"
          ]
        }
      ]
    },
    {
      "cell_type": "code",
      "source": [
        "var_ar_smogn_train =  smogn_dataframe_model ['var_DQ_100_10'].values\n",
        "cmap1_smogn = plt.get_cmap('coolwarm')\n",
        "cycles_ar_smogn_train = smogn_dataframe_model ['cycles'].values\n",
        "\n",
        "colors_2_c_smogn = [cmap1_smogn(1-(x - min(cycles_ar_smogn_train)) / (max(cycles_ar_smogn_train) - min(cycles_ar_smogn_train))) for x in cycles_ar_smogn_train]\n",
        "plotly_colors_smogn = [f'rgba({int(color[0]*255)}, {int(color[1]*255)}, {int(color[2]*255)}, 1)' for color in colors_2_c_smogn]\n",
        "\n",
        "fig_2c_smogn_train = go.Figure()\n",
        "fig_2c_smogn_train.add_trace(go.Scatter(x=var_ar_smogn_train,\n",
        "                          y=cycles_ar_smogn_train,\n",
        "\n",
        "  mode='markers',marker=dict(size=22,color=plotly_colors_smogn,\n",
        "            opacity=1, )))\n",
        "fig_2c_smogn_train.update_layout( yaxis = dict(type='log',title = 'Cycle life',range=[2,4]),\n",
        "                  xaxis=dict( range = [-8,-1], # define the range of x-axis range=[-0.002,0.]\n",
        "                            title='Var ΔQ100_10(V)',  # optional title\n",
        "                             type='log'\n",
        "                             ))\n",
        "fig_2c_smogn_train.show()\n",
        "# CALCULATION OF PEARSON CORRELATION FOR LOG SCALE\n",
        "cycle_ar_log_scale_smogn = np.array([np.log10(c_l) for c_l in cycles_ar_smogn_train])\n",
        "var_ar_log_scale_smogn = np.array([np.log10(va) for va in var_ar_smogn_train])\n",
        "pear_2C_smogn = np.corrcoef(var_ar_log_scale_smogn,cycle_ar_log_scale_smogn)[0,1]\n",
        "print(f\" The pearson correlation is {pear_2C_smogn}\")"
      ],
      "metadata": {
        "colab": {
          "base_uri": "https://localhost:8080/",
          "height": 559
        },
        "id": "B7CeB4-G-rYH",
        "outputId": "33b1a011-9861-4bc5-e111-e5e3ac0c46d3"
      },
      "execution_count": null,
      "outputs": [
        {
          "output_type": "display_data",
          "data": {
            "text/html": [
              "<html>\n",
              "<head><meta charset=\"utf-8\" /></head>\n",
              "<body>\n",
              "    <div>            <script src=\"https://cdnjs.cloudflare.com/ajax/libs/mathjax/2.7.5/MathJax.js?config=TeX-AMS-MML_SVG\"></script><script type=\"text/javascript\">if (window.MathJax && window.MathJax.Hub && window.MathJax.Hub.Config) {window.MathJax.Hub.Config({SVG: {font: \"STIX-Web\"}});}</script>                <script type=\"text/javascript\">window.PlotlyConfig = {MathJaxConfig: 'local'};</script>\n",
              "        <script charset=\"utf-8\" src=\"https://cdn.plot.ly/plotly-2.35.2.min.js\"></script>                <div id=\"0703c9e7-29a6-46af-878f-93381a59a386\" class=\"plotly-graph-div\" style=\"height:525px; width:100%;\"></div>            <script type=\"text/javascript\">                                    window.PLOTLYENV=window.PLOTLYENV || {};                                    if (document.getElementById(\"0703c9e7-29a6-46af-878f-93381a59a386\")) {                    Plotly.newPlot(                        \"0703c9e7-29a6-46af-878f-93381a59a386\",                        [{\"marker\":{\"color\":[\"rgba(225, 218, 214, 1)\",\"rgba(236, 210, 196, 1)\",\"rgba(235, 211, 198, 1)\",\"rgba(236, 210, 196, 1)\",\"rgba(236, 210, 196, 1)\",\"rgba(225, 218, 214, 1)\",\"rgba(236, 210, 196, 1)\",\"rgba(236, 210, 196, 1)\",\"rgba(236, 210, 196, 1)\",\"rgba(236, 210, 196, 1)\",\"rgba(236, 210, 196, 1)\",\"rgba(236, 210, 196, 1)\",\"rgba(216, 219, 225, 1)\",\"rgba(220, 220, 221, 1)\",\"rgba(220, 220, 221, 1)\",\"rgba(220, 220, 221, 1)\",\"rgba(219, 220, 222, 1)\",\"rgba(229, 216, 208, 1)\",\"rgba(219, 220, 222, 1)\",\"rgba(219, 220, 222, 1)\",\"rgba(220, 220, 221, 1)\",\"rgba(229, 216, 208, 1)\",\"rgba(216, 219, 225, 1)\",\"rgba(216, 219, 225, 1)\",\"rgba(219, 220, 222, 1)\",\"rgba(218, 220, 223, 1)\",\"rgba(217, 220, 224, 1)\",\"rgba(218, 220, 223, 1)\",\"rgba(218, 220, 223, 1)\",\"rgba(218, 220, 223, 1)\",\"rgba(205, 217, 236, 1)\",\"rgba(219, 220, 222, 1)\",\"rgba(201, 215, 238, 1)\",\"rgba(218, 220, 223, 1)\",\"rgba(218, 220, 223, 1)\",\"rgba(202, 216, 238, 1)\",\"rgba(211, 219, 230, 1)\",\"rgba(210, 218, 231, 1)\",\"rgba(210, 218, 231, 1)\",\"rgba(211, 219, 230, 1)\",\"rgba(210, 218, 231, 1)\",\"rgba(225, 218, 214, 1)\",\"rgba(225, 218, 214, 1)\",\"rgba(216, 219, 225, 1)\",\"rgba(210, 218, 231, 1)\",\"rgba(210, 218, 231, 1)\",\"rgba(211, 219, 230, 1)\",\"rgba(210, 218, 231, 1)\",\"rgba(188, 209, 246, 1)\",\"rgba(188, 209, 246, 1)\",\"rgba(187, 209, 247, 1)\",\"rgba(188, 209, 246, 1)\",\"rgba(188, 209, 246, 1)\",\"rgba(188, 209, 246, 1)\",\"rgba(187, 209, 247, 1)\",\"rgba(188, 209, 246, 1)\",\"rgba(188, 209, 246, 1)\",\"rgba(205, 217, 236, 1)\",\"rgba(188, 209, 246, 1)\",\"rgba(187, 209, 247, 1)\",\"rgba(184, 207, 248, 1)\",\"rgba(179, 204, 250, 1)\",\"rgba(180, 205, 250, 1)\",\"rgba(180, 205, 250, 1)\",\"rgba(184, 207, 248, 1)\",\"rgba(179, 204, 250, 1)\",\"rgba(179, 204, 250, 1)\",\"rgba(180, 205, 250, 1)\",\"rgba(184, 207, 248, 1)\",\"rgba(58, 76, 192, 1)\",\"rgba(179, 204, 250, 1)\",\"rgba(180, 205, 250, 1)\",\"rgba(236, 130, 102, 1)\",\"rgba(221, 96, 76, 1)\",\"rgba(242, 145, 115, 1)\",\"rgba(232, 119, 93, 1)\",\"rgba(227, 108, 84, 1)\",\"rgba(188, 209, 246, 1)\",\"rgba(237, 132, 103, 1)\",\"rgba(193, 42, 48, 1)\",\"rgba(197, 50, 51, 1)\",\"rgba(201, 59, 55, 1)\",\"rgba(212, 79, 66, 1)\",\"rgba(220, 220, 221, 1)\",\"rgba(204, 63, 57, 1)\",\"rgba(237, 132, 103, 1)\",\"rgba(196, 48, 50, 1)\",\"rgba(230, 116, 90, 1)\",\"rgba(197, 50, 51, 1)\",\"rgba(242, 147, 117, 1)\",\"rgba(222, 98, 78, 1)\",\"rgba(236, 210, 196, 1)\",\"rgba(198, 53, 52, 1)\",\"rgba(198, 53, 52, 1)\",\"rgba(198, 53, 52, 1)\",\"rgba(241, 144, 114, 1)\",\"rgba(198, 53, 52, 1)\",\"rgba(229, 112, 87, 1)\",\"rgba(244, 154, 123, 1)\",\"rgba(241, 142, 112, 1)\",\"rgba(233, 121, 94, 1)\",\"rgba(198, 53, 52, 1)\",\"rgba(194, 45, 49, 1)\",\"rgba(230, 114, 89, 1)\",\"rgba(243, 150, 120, 1)\",\"rgba(204, 63, 57, 1)\",\"rgba(200, 56, 53, 1)\",\"rgba(191, 40, 46, 1)\",\"rgba(191, 40, 46, 1)\",\"rgba(230, 116, 90, 1)\",\"rgba(206, 68, 60, 1)\",\"rgba(194, 45, 49, 1)\",\"rgba(210, 218, 231, 1)\",\"rgba(179, 204, 250, 1)\",\"rgba(220, 94, 75, 1)\",\"rgba(220, 94, 75, 1)\",\"rgba(233, 121, 94, 1)\",\"rgba(232, 119, 93, 1)\",\"rgba(196, 48, 50, 1)\",\"rgba(236, 128, 100, 1)\",\"rgba(246, 163, 132, 1)\",\"rgba(233, 121, 94, 1)\",\"rgba(232, 119, 93, 1)\",\"rgba(240, 141, 111, 1)\",\"rgba(221, 96, 76, 1)\",\"rgba(246, 163, 132, 1)\",\"rgba(196, 48, 50, 1)\",\"rgba(218, 220, 223, 1)\",\"rgba(197, 50, 51, 1)\",\"rgba(200, 56, 53, 1)\",\"rgba(191, 40, 46, 1)\",\"rgba(194, 45, 49, 1)\",\"rgba(222, 98, 78, 1)\",\"rgba(194, 45, 49, 1)\",\"rgba(210, 75, 63, 1)\",\"rgba(243, 149, 118, 1)\",\"rgba(179, 3, 38, 1)\",\"rgba(221, 96, 76, 1)\",\"rgba(244, 194, 170, 1)\",\"rgba(230, 114, 89, 1)\",\"rgba(220, 94, 75, 1)\",\"rgba(232, 119, 93, 1)\",\"rgba(196, 48, 50, 1)\",\"rgba(212, 79, 66, 1)\",\"rgba(200, 56, 53, 1)\",\"rgba(241, 142, 112, 1)\",\"rgba(228, 110, 86, 1)\",\"rgba(201, 59, 55, 1)\",\"rgba(198, 53, 52, 1)\",\"rgba(194, 45, 49, 1)\"],\"opacity\":1,\"size\":22},\"mode\":\"markers\",\"x\":[0.00005193866858787711,0.00003394374960167526,0.00003401305790420826,0.000034646536843185296,0.000033904472473052164,0.00006636023060948052,0.00003413358868914974,0.000033976093955528824,0.00003378131293708375,0.00003511283141088008,0.00003424453748788975,0.000033862540326082036,0.00005969508740699236,0.000055319192091858516,0.000055541554616943153,0.000055621287574909884,0.0000551783079052044,0.00003766598524185388,0.00005647506152082471,0.000056131992114505846,0.00005566117370396021,0.00005145484562423635,0.00005886570895760926,0.0000681115194189542,0.000013631529519741252,0.000012654878477674701,0.00001336741396018836,0.000012394602230807881,0.000013195484939622692,0.000012863673862769254,0.000016393470682179356,0.000012904027381991247,0.000015241553060185775,0.000013216863267174062,0.00001316340812010757,0.000024104312766609383,0.00007338936628211477,0.0000735048596270985,0.00007337340931808942,0.0000737248427631336,0.00007346510242725463,0.00006918332724456339,0.0000509612005909287,0.00006413366344383519,0.00007309832746287065,0.000073676915374865,0.00007298056440165881,0.00007368530455271222,0.000016477702724847068,0.000017524295597296268,0.000017269403799188257,0.000016679782056677248,0.000016983145308557995,0.000015635819921743952,0.00001662207859746322,0.00001673606377875366,0.000016333782128800254,0.000013948439144236663,0.00001678400854783621,0.000015872502876553417,0.000025069542127696552,0.00003217490044655195,0.00003129993774555794,0.0000310942775050741,0.00002622637444406734,0.00003025653540169077,0.00003061885240297137,0.000030448240408892704,0.000018786779442926305,0.000027526163975653223,0.00003122660569122096,0.000030476526376035462,0.0001000776556534,0.0001521203843866,0.0001098798357107,0.0001810668985058,0.0004223258115013,0.000016670040651974474,0.0001246856078716,0.0008347258318002,0.0004427974702929,0.0004976470951526,0.0005646956957601,0.00005572648466230889,0.0004631355443598,0.0001402653749428,0.0004414726028192,0.0001277759215053,0.0004262533199111,0.0001814697199675,0.0002497051523668,0.00003421259625922551,0.0006408615719679,0.0004148585868187,0.0003283655449577,0.0001608563764865,0.0003586402239838,0.0001506347246938,0.0001023647856781,0.0001500080120277,0.0002551199106691,0.0005257461831965,0.000620878161153,0.0002330769661579,0.00009068692760753768,0.0006867653752227,0.0005415618457069,0.0006350818795709,0.0005823358784704,0.0001355264269566,0.0008466331557373,0.0006026223608685,0.00007339646968058777,0.00003072827001866165,0.0003804553165685,0.0003820020074154,0.0002851807932326,0.0001247391951939,0.0006886608583994,0.0002561596314825,0.0001223129598522,0.0002871047949882,0.0001709567894211,0.0001220097904366,0.0003197243148822,0.00005408233870238674,0.0004818710788508,0.000013166985819584313,0.0005105226944644,0.000480702314975,0.0007482616860838,0.0008769541114241,0.0004021175068225,0.0006932129636414,0.0006631071840214,0.0001492904257791,0.002210921257898,0.0001206264742559,0.00006198452150838649,0.0001118780930063,0.0003010889678115,0.0001617490661517,0.0004867764921518,0.0006523778281818,0.0003228512639629,0.00009367251920788194,0.00008457527531911605,0.0010557223884543,0.0005163684762065,0.0005317636526893],\"y\":[1773.0,1637.0,1643.0,1631.0,1633.0,1773.0,1635.0,1635.0,1638.0,1631.0,1630.0,1634.0,1883.0,1836.0,1836.0,1834.0,1841.0,1730.0,1838.0,1840.0,1835.0,1730.0,1883.0,1883.0,1849.0,1852.0,1862.0,1853.0,1859.0,1852.0,1994.0,1849.0,2026.0,1856.0,1851.0,2018.0,1926.0,1931.0,1936.0,1930.0,1933.0,1773.0,1773.0,1883.0,1932.0,1933.0,1930.0,1939.0,2159.0,2156.0,2164.0,2157.0,2160.0,2157.0,2165.0,2160.0,2156.0,1994.0,2155.0,2166.0,2197.0,2241.0,2230.0,2232.0,2197.0,2234.0,2242.0,2232.0,2197.0,3317.0,2239.0,2229.0,922.0,719.0,1027.0,857.0,788.0,2160.0,939.0,444.0,480.0,513.0,625.0,1835.0,535.0,934.0,466.0,827.0,481.0,1038.0,730.0,1637.0,494.0,492.0,498.0,1014.0,487.0,812.0,1092.0,1001.0,860.0,489.0,461.0,816.0,1062.0,540.0,509.0,429.0,438.0,827.0,559.0,457.0,1934.0,2237.0,704.0,702.0,870.0,849.0,471.0,917.0,1154.0,870.0,857.0,988.0,709.0,1155.0,468.0,1852.0,478.0,499.0,429.0,458.0,731.0,462.0,599.0,1051.0,335.0,713.0,1435.0,824.0,703.0,854.0,465.0,617.0,499.0,1008.0,795.0,511.0,487.0,459.0],\"type\":\"scatter\"}],                        {\"template\":{\"data\":{\"histogram2dcontour\":[{\"type\":\"histogram2dcontour\",\"colorbar\":{\"outlinewidth\":0,\"ticks\":\"\"},\"colorscale\":[[0.0,\"#0d0887\"],[0.1111111111111111,\"#46039f\"],[0.2222222222222222,\"#7201a8\"],[0.3333333333333333,\"#9c179e\"],[0.4444444444444444,\"#bd3786\"],[0.5555555555555556,\"#d8576b\"],[0.6666666666666666,\"#ed7953\"],[0.7777777777777778,\"#fb9f3a\"],[0.8888888888888888,\"#fdca26\"],[1.0,\"#f0f921\"]]}],\"choropleth\":[{\"type\":\"choropleth\",\"colorbar\":{\"outlinewidth\":0,\"ticks\":\"\"}}],\"histogram2d\":[{\"type\":\"histogram2d\",\"colorbar\":{\"outlinewidth\":0,\"ticks\":\"\"},\"colorscale\":[[0.0,\"#0d0887\"],[0.1111111111111111,\"#46039f\"],[0.2222222222222222,\"#7201a8\"],[0.3333333333333333,\"#9c179e\"],[0.4444444444444444,\"#bd3786\"],[0.5555555555555556,\"#d8576b\"],[0.6666666666666666,\"#ed7953\"],[0.7777777777777778,\"#fb9f3a\"],[0.8888888888888888,\"#fdca26\"],[1.0,\"#f0f921\"]]}],\"heatmap\":[{\"type\":\"heatmap\",\"colorbar\":{\"outlinewidth\":0,\"ticks\":\"\"},\"colorscale\":[[0.0,\"#0d0887\"],[0.1111111111111111,\"#46039f\"],[0.2222222222222222,\"#7201a8\"],[0.3333333333333333,\"#9c179e\"],[0.4444444444444444,\"#bd3786\"],[0.5555555555555556,\"#d8576b\"],[0.6666666666666666,\"#ed7953\"],[0.7777777777777778,\"#fb9f3a\"],[0.8888888888888888,\"#fdca26\"],[1.0,\"#f0f921\"]]}],\"heatmapgl\":[{\"type\":\"heatmapgl\",\"colorbar\":{\"outlinewidth\":0,\"ticks\":\"\"},\"colorscale\":[[0.0,\"#0d0887\"],[0.1111111111111111,\"#46039f\"],[0.2222222222222222,\"#7201a8\"],[0.3333333333333333,\"#9c179e\"],[0.4444444444444444,\"#bd3786\"],[0.5555555555555556,\"#d8576b\"],[0.6666666666666666,\"#ed7953\"],[0.7777777777777778,\"#fb9f3a\"],[0.8888888888888888,\"#fdca26\"],[1.0,\"#f0f921\"]]}],\"contourcarpet\":[{\"type\":\"contourcarpet\",\"colorbar\":{\"outlinewidth\":0,\"ticks\":\"\"}}],\"contour\":[{\"type\":\"contour\",\"colorbar\":{\"outlinewidth\":0,\"ticks\":\"\"},\"colorscale\":[[0.0,\"#0d0887\"],[0.1111111111111111,\"#46039f\"],[0.2222222222222222,\"#7201a8\"],[0.3333333333333333,\"#9c179e\"],[0.4444444444444444,\"#bd3786\"],[0.5555555555555556,\"#d8576b\"],[0.6666666666666666,\"#ed7953\"],[0.7777777777777778,\"#fb9f3a\"],[0.8888888888888888,\"#fdca26\"],[1.0,\"#f0f921\"]]}],\"surface\":[{\"type\":\"surface\",\"colorbar\":{\"outlinewidth\":0,\"ticks\":\"\"},\"colorscale\":[[0.0,\"#0d0887\"],[0.1111111111111111,\"#46039f\"],[0.2222222222222222,\"#7201a8\"],[0.3333333333333333,\"#9c179e\"],[0.4444444444444444,\"#bd3786\"],[0.5555555555555556,\"#d8576b\"],[0.6666666666666666,\"#ed7953\"],[0.7777777777777778,\"#fb9f3a\"],[0.8888888888888888,\"#fdca26\"],[1.0,\"#f0f921\"]]}],\"mesh3d\":[{\"type\":\"mesh3d\",\"colorbar\":{\"outlinewidth\":0,\"ticks\":\"\"}}],\"scatter\":[{\"fillpattern\":{\"fillmode\":\"overlay\",\"size\":10,\"solidity\":0.2},\"type\":\"scatter\"}],\"parcoords\":[{\"type\":\"parcoords\",\"line\":{\"colorbar\":{\"outlinewidth\":0,\"ticks\":\"\"}}}],\"scatterpolargl\":[{\"type\":\"scatterpolargl\",\"marker\":{\"colorbar\":{\"outlinewidth\":0,\"ticks\":\"\"}}}],\"bar\":[{\"error_x\":{\"color\":\"#2a3f5f\"},\"error_y\":{\"color\":\"#2a3f5f\"},\"marker\":{\"line\":{\"color\":\"#E5ECF6\",\"width\":0.5},\"pattern\":{\"fillmode\":\"overlay\",\"size\":10,\"solidity\":0.2}},\"type\":\"bar\"}],\"scattergeo\":[{\"type\":\"scattergeo\",\"marker\":{\"colorbar\":{\"outlinewidth\":0,\"ticks\":\"\"}}}],\"scatterpolar\":[{\"type\":\"scatterpolar\",\"marker\":{\"colorbar\":{\"outlinewidth\":0,\"ticks\":\"\"}}}],\"histogram\":[{\"marker\":{\"pattern\":{\"fillmode\":\"overlay\",\"size\":10,\"solidity\":0.2}},\"type\":\"histogram\"}],\"scattergl\":[{\"type\":\"scattergl\",\"marker\":{\"colorbar\":{\"outlinewidth\":0,\"ticks\":\"\"}}}],\"scatter3d\":[{\"type\":\"scatter3d\",\"line\":{\"colorbar\":{\"outlinewidth\":0,\"ticks\":\"\"}},\"marker\":{\"colorbar\":{\"outlinewidth\":0,\"ticks\":\"\"}}}],\"scattermapbox\":[{\"type\":\"scattermapbox\",\"marker\":{\"colorbar\":{\"outlinewidth\":0,\"ticks\":\"\"}}}],\"scatterternary\":[{\"type\":\"scatterternary\",\"marker\":{\"colorbar\":{\"outlinewidth\":0,\"ticks\":\"\"}}}],\"scattercarpet\":[{\"type\":\"scattercarpet\",\"marker\":{\"colorbar\":{\"outlinewidth\":0,\"ticks\":\"\"}}}],\"carpet\":[{\"aaxis\":{\"endlinecolor\":\"#2a3f5f\",\"gridcolor\":\"white\",\"linecolor\":\"white\",\"minorgridcolor\":\"white\",\"startlinecolor\":\"#2a3f5f\"},\"baxis\":{\"endlinecolor\":\"#2a3f5f\",\"gridcolor\":\"white\",\"linecolor\":\"white\",\"minorgridcolor\":\"white\",\"startlinecolor\":\"#2a3f5f\"},\"type\":\"carpet\"}],\"table\":[{\"cells\":{\"fill\":{\"color\":\"#EBF0F8\"},\"line\":{\"color\":\"white\"}},\"header\":{\"fill\":{\"color\":\"#C8D4E3\"},\"line\":{\"color\":\"white\"}},\"type\":\"table\"}],\"barpolar\":[{\"marker\":{\"line\":{\"color\":\"#E5ECF6\",\"width\":0.5},\"pattern\":{\"fillmode\":\"overlay\",\"size\":10,\"solidity\":0.2}},\"type\":\"barpolar\"}],\"pie\":[{\"automargin\":true,\"type\":\"pie\"}]},\"layout\":{\"autotypenumbers\":\"strict\",\"colorway\":[\"#636efa\",\"#EF553B\",\"#00cc96\",\"#ab63fa\",\"#FFA15A\",\"#19d3f3\",\"#FF6692\",\"#B6E880\",\"#FF97FF\",\"#FECB52\"],\"font\":{\"color\":\"#2a3f5f\"},\"hovermode\":\"closest\",\"hoverlabel\":{\"align\":\"left\"},\"paper_bgcolor\":\"white\",\"plot_bgcolor\":\"#E5ECF6\",\"polar\":{\"bgcolor\":\"#E5ECF6\",\"angularaxis\":{\"gridcolor\":\"white\",\"linecolor\":\"white\",\"ticks\":\"\"},\"radialaxis\":{\"gridcolor\":\"white\",\"linecolor\":\"white\",\"ticks\":\"\"}},\"ternary\":{\"bgcolor\":\"#E5ECF6\",\"aaxis\":{\"gridcolor\":\"white\",\"linecolor\":\"white\",\"ticks\":\"\"},\"baxis\":{\"gridcolor\":\"white\",\"linecolor\":\"white\",\"ticks\":\"\"},\"caxis\":{\"gridcolor\":\"white\",\"linecolor\":\"white\",\"ticks\":\"\"}},\"coloraxis\":{\"colorbar\":{\"outlinewidth\":0,\"ticks\":\"\"}},\"colorscale\":{\"sequential\":[[0.0,\"#0d0887\"],[0.1111111111111111,\"#46039f\"],[0.2222222222222222,\"#7201a8\"],[0.3333333333333333,\"#9c179e\"],[0.4444444444444444,\"#bd3786\"],[0.5555555555555556,\"#d8576b\"],[0.6666666666666666,\"#ed7953\"],[0.7777777777777778,\"#fb9f3a\"],[0.8888888888888888,\"#fdca26\"],[1.0,\"#f0f921\"]],\"sequentialminus\":[[0.0,\"#0d0887\"],[0.1111111111111111,\"#46039f\"],[0.2222222222222222,\"#7201a8\"],[0.3333333333333333,\"#9c179e\"],[0.4444444444444444,\"#bd3786\"],[0.5555555555555556,\"#d8576b\"],[0.6666666666666666,\"#ed7953\"],[0.7777777777777778,\"#fb9f3a\"],[0.8888888888888888,\"#fdca26\"],[1.0,\"#f0f921\"]],\"diverging\":[[0,\"#8e0152\"],[0.1,\"#c51b7d\"],[0.2,\"#de77ae\"],[0.3,\"#f1b6da\"],[0.4,\"#fde0ef\"],[0.5,\"#f7f7f7\"],[0.6,\"#e6f5d0\"],[0.7,\"#b8e186\"],[0.8,\"#7fbc41\"],[0.9,\"#4d9221\"],[1,\"#276419\"]]},\"xaxis\":{\"gridcolor\":\"white\",\"linecolor\":\"white\",\"ticks\":\"\",\"title\":{\"standoff\":15},\"zerolinecolor\":\"white\",\"automargin\":true,\"zerolinewidth\":2},\"yaxis\":{\"gridcolor\":\"white\",\"linecolor\":\"white\",\"ticks\":\"\",\"title\":{\"standoff\":15},\"zerolinecolor\":\"white\",\"automargin\":true,\"zerolinewidth\":2},\"scene\":{\"xaxis\":{\"backgroundcolor\":\"#E5ECF6\",\"gridcolor\":\"white\",\"linecolor\":\"white\",\"showbackground\":true,\"ticks\":\"\",\"zerolinecolor\":\"white\",\"gridwidth\":2},\"yaxis\":{\"backgroundcolor\":\"#E5ECF6\",\"gridcolor\":\"white\",\"linecolor\":\"white\",\"showbackground\":true,\"ticks\":\"\",\"zerolinecolor\":\"white\",\"gridwidth\":2},\"zaxis\":{\"backgroundcolor\":\"#E5ECF6\",\"gridcolor\":\"white\",\"linecolor\":\"white\",\"showbackground\":true,\"ticks\":\"\",\"zerolinecolor\":\"white\",\"gridwidth\":2}},\"shapedefaults\":{\"line\":{\"color\":\"#2a3f5f\"}},\"annotationdefaults\":{\"arrowcolor\":\"#2a3f5f\",\"arrowhead\":0,\"arrowwidth\":1},\"geo\":{\"bgcolor\":\"white\",\"landcolor\":\"#E5ECF6\",\"subunitcolor\":\"white\",\"showland\":true,\"showlakes\":true,\"lakecolor\":\"white\"},\"title\":{\"x\":0.05},\"mapbox\":{\"style\":\"light\"}}},\"yaxis\":{\"type\":\"log\",\"title\":{\"text\":\"Cycle life\"},\"range\":[2,4]},\"xaxis\":{\"range\":[-8,-1],\"title\":{\"text\":\"Var ΔQ100_10(V)\"},\"type\":\"log\"}},                        {\"responsive\": true}                    ).then(function(){\n",
              "                            \n",
              "var gd = document.getElementById('0703c9e7-29a6-46af-878f-93381a59a386');\n",
              "var x = new MutationObserver(function (mutations, observer) {{\n",
              "        var display = window.getComputedStyle(gd).display;\n",
              "        if (!display || display === 'none') {{\n",
              "            console.log([gd, 'removed!']);\n",
              "            Plotly.purge(gd);\n",
              "            observer.disconnect();\n",
              "        }}\n",
              "}});\n",
              "\n",
              "// Listen for the removal of the full notebook cells\n",
              "var notebookContainer = gd.closest('#notebook-container');\n",
              "if (notebookContainer) {{\n",
              "    x.observe(notebookContainer, {childList: true});\n",
              "}}\n",
              "\n",
              "// Listen for the clearing of the current output cell\n",
              "var outputEl = gd.closest('.output');\n",
              "if (outputEl) {{\n",
              "    x.observe(outputEl, {childList: true});\n",
              "}}\n",
              "\n",
              "                        })                };                            </script>        </div>\n",
              "</body>\n",
              "</html>"
            ]
          },
          "metadata": {}
        },
        {
          "output_type": "stream",
          "name": "stdout",
          "text": [
            " The pearson correlation is -0.9278763522226069\n"
          ]
        }
      ]
    },
    {
      "cell_type": "code",
      "source": [
        "smogn_dataframe_model = convert_values_tol_log_scale(df_data=smogn_dataframe_model.copy())\n",
        "xtrain_final, ytrain_final = smogn_dataframe_model.drop(columns=['cycles']),smogn_dataframe_model['cycles']\n",
        "finite_mask = np.isfinite(xtrain_final['skew_100_10'])\n",
        "# Calculate the mean of finite values only\n",
        "finite_mean = xtrain_final.loc[finite_mask, 'skew_100_10'].mean()\n",
        "# Replace inf and -inf with the finite mean\n",
        "xtrain_final.loc[~finite_mask, 'skew_100_10'] = finite_mean"
      ],
      "metadata": {
        "colab": {
          "base_uri": "https://localhost:8080/"
        },
        "id": "cabo0mzMvkQQ",
        "outputId": "0bf7e671-1472-4662-bf3c-e468c59166d1"
      },
      "execution_count": null,
      "outputs": [
        {
          "output_type": "stream",
          "name": "stderr",
          "text": [
            "<ipython-input-4-8e0b558d523b>:7: RuntimeWarning:\n",
            "\n",
            "divide by zero encountered in log10\n",
            "\n"
          ]
        }
      ]
    },
    {
      "cell_type": "code",
      "source": [
        "# Define parameter grids\n",
        "parameter_elastic_net = {\n",
        "    'alpha': [1e-6, 1e-5, 5e-5, 1e-4, 5e-4, 0.001, 0.01, 0.1, 0.4, 0.5, 0.6, 0.9, 1.0],\n",
        "    'l1_ratio': [0.01, 0.05, 0.1, 0.2, 0.3, 0.5, 0.7, 0.78, 0.8, 0.82, 0.85, 0.86, 0.9]\n",
        "}\n",
        "\n",
        "# GridSearchCV for both models\n",
        "grid_search_elastic = GridSearchCV(\n",
        "    estimator=ElasticNet(max_iter=5000),\n",
        "    param_grid=parameter_elastic_net,\n",
        "    scoring='neg_mean_absolute_error',\n",
        "    cv=5, n_jobs=-1, verbose=0)\n",
        "\n",
        "\n",
        "grid_search_elastic.fit(xtrain_final, ytrain_final)\n",
        "\n",
        "\n",
        "# Best estimators\n",
        "best_model_ELA = grid_search_elastic.best_estimator_\n",
        "\n",
        "# Predict on test set\n",
        "preds_test_ELA = best_model_ELA.predict(x_test_f)\n",
        "\n",
        "# Convert back from log scale\n",
        "actual_test, pred_test_ela = convert_from_log_to_normal(y_test_f, preds_test_ELA)\n",
        "\n",
        "# Compute metrics\n",
        "mae_ela = mean_absolute_error(actual_test, pred_test_ela)\n",
        "rmse_ela =  np.sqrt(mean_squared_error(actual_test, pred_test_ela))\n",
        "\n",
        "\n",
        "# Create individual DataFrames\n",
        "elastic_df = pd.DataFrame({\n",
        "    'Model': ['ElasticNet'],\n",
        "    'MAE': [mae_ela],\n",
        "    'RMSE': [rmse_ela],\n",
        "    'Best Parameters': [grid_search_elastic.best_params_]\n",
        "})\n",
        "\n",
        "\n",
        "# Display results\n",
        "print(\"📊 ElasticNet Results:\")\n",
        "print(elastic_df, \"\\n\")"
      ],
      "metadata": {
        "id": "Z3Foom57i9aH",
        "colab": {
          "base_uri": "https://localhost:8080/"
        },
        "outputId": "157911d0-2f1d-4206-cedb-5cb346deb22d"
      },
      "execution_count": null,
      "outputs": [
        {
          "output_type": "stream",
          "name": "stdout",
          "text": [
            "📊 ElasticNet Results:\n",
            "        Model         MAE        RMSE                    Best Parameters\n",
            "0  ElasticNet  104.432432  143.484437  {'alpha': 1e-05, 'l1_ratio': 0.9} \n",
            "\n"
          ]
        },
        {
          "output_type": "stream",
          "name": "stderr",
          "text": [
            "/usr/local/lib/python3.11/dist-packages/sklearn/linear_model/_coordinate_descent.py:695: ConvergenceWarning:\n",
            "\n",
            "Objective did not converge. You might want to increase the number of iterations, check the scale of the features or consider increasing regularisation. Duality gap: 1.729e-01, tolerance: 9.755e-04\n",
            "\n"
          ]
        }
      ]
    },
    {
      "cell_type": "code",
      "source": [
        "parameters_random_forests = {\n",
        "    'n_estimators': [1, 3, 5, 10, 30, 50, 100, 1000],\n",
        "    'criterion': ['absolute_error'],\n",
        "    'max_depth': [None, 2, 5, 10],\n",
        "    'min_samples_split': [2, 5]\n",
        "}\n",
        "grid_search_forest = GridSearchCV(\n",
        "    estimator=RandomForestRegressor(random_state=42),\n",
        "    param_grid=parameters_random_forests,\n",
        "    scoring='neg_mean_absolute_error',\n",
        "    cv=5, n_jobs=-1, verbose=0\n",
        ")\n",
        "\n",
        "grid_search_forest.fit(xtrain_final, ytrain_final)\n",
        "best_model_FOREST = grid_search_forest.best_estimator_\n",
        "preds_test_FOREST = best_model_FOREST.predict(x_test_f)\n",
        "\n",
        "actual_test, pred_test_forest = convert_from_log_to_normal(y_test_f, preds_test_FOREST)\n",
        "\n",
        "\n",
        "mae_forest = mean_absolute_error(actual_test, pred_test_forest)\n",
        "rmse_forest = np.sqrt( mean_squared_error(actual_test, pred_test_forest))\n",
        "\n",
        "\n",
        "forest_df = pd.DataFrame({\n",
        "    'Model': ['RandomForest'],\n",
        "    'MAE': [mae_forest],\n",
        "    'RMSE': [rmse_forest],\n",
        "    'Best Parameters': [grid_search_forest.best_params_]\n",
        "})\n",
        "print(\"🌲 RandomForest Results:\")\n",
        "print(forest_df)"
      ],
      "metadata": {
        "id": "CBkgrS9AvTlB",
        "colab": {
          "base_uri": "https://localhost:8080/"
        },
        "outputId": "9b509cc4-e0c2-49bf-e88f-a83f01bbff9c"
      },
      "execution_count": null,
      "outputs": [
        {
          "output_type": "stream",
          "name": "stdout",
          "text": [
            "🌲 RandomForest Results:\n",
            "          Model        MAE        RMSE  \\\n",
            "0  RandomForest  89.054054  131.726477   \n",
            "\n",
            "                                     Best Parameters  \n",
            "0  {'criterion': 'absolute_error', 'max_depth': N...  \n"
          ]
        }
      ]
    }
  ]
}